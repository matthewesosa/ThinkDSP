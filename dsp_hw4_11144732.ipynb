{
 "cells": [
  {
   "cell_type": "markdown",
   "metadata": {},
   "source": [
    "# DSP Homework 4, matriculation number: 11144732\n",
    "Generated on: 16.12.2021 at: 11:27:17 h.\n",
    "### Please execute the next code cells to start your lab/homework!"
   ]
  },
  {
   "cell_type": "code",
   "execution_count": 1,
   "metadata": {},
   "outputs": [],
   "source": [
    "# iPython magic command to load the matplotlib library and\n",
    "# select the notebook graphics frontend\n",
    "%matplotlib inline\n",
    "# import necessary functions from the thkdss library\n",
    "from thkdsp import *\n",
    "from dsplab import *\n",
    "# import audio related functions from the audio submodule\n",
    "from thkdsp.audio import play_signal, wav2dtsignal\n",
    "# import some definitions and functions from numpy, the python library for Matlab-like array processing\n",
    "from numpy import arange, shape, array, zeros, size, ones, isscalar"
   ]
  },
  {
   "cell_type": "code",
   "execution_count": 2,
   "metadata": {},
   "outputs": [],
   "source": [
    "# set font for Matplotlib to 'Times New Roman' if that is available\n",
    "set_mpl_font()\n",
    "# set default font size for Matplotlib, change to different value if labels are too large or too small\n",
    "set_mpl_fontsize(16)"
   ]
  },
  {
   "cell_type": "code",
   "execution_count": 3,
   "metadata": {},
   "outputs": [
    {
     "name": "stdout",
     "output_type": "stream",
     "text": [
      "TH Köln University of Applied Sciences\n",
      "Course:  Digital Signal Processing\n",
      "Homework 4\n",
      " \n",
      "You are about to start Homework 4 !\n",
      "Please read and follow the instructions exactly as stated!\n",
      " \n",
      "You will be asked to enter your matriculation number.\n",
      "Please make sure that you enter it correctly!\n",
      " \n",
      "Please enter your 8-digit matriculation number: 11144732\n",
      "Your matriculation number is:  11144732\n",
      "Is this correct? yes/no: yes\n",
      "Starting output to log file for Homework 4 for matriculation number: 11144732\n",
      "dsp_hw4_11144732.log\n",
      "Activating auto-logging. Current session state plus future input saved.\n",
      "Filename       : dsp_hw4_11144732.log\n",
      "Mode           : append\n",
      "Output logging : True\n",
      "Raw input log  : True\n",
      "Timestamping   : True\n",
      "State          : active\n",
      "Info: 2562463468\n",
      "Homework 4 for matriculation number 11144732 continued at: 2021-12-18 22:24:22.915789\n"
     ]
    }
   ],
   "source": [
    "# start homework\n",
    "dsp_hw4_start()"
   ]
  },
  {
   "cell_type": "markdown",
   "metadata": {},
   "source": [
    "### Enter as many code cells as you need below!\n",
    "### Note: Your notebook needs to be modular enough, i.e. it has to consist of enough code cells!\n",
    "### Otherwise, your submission will be considered as not sufficient!\n"
   ]
  },
  {
   "cell_type": "code",
   "execution_count": 723,
   "metadata": {},
   "outputs": [],
   "source": [
    "from thkdsp import *\n",
    "from numpy import *\n",
    "from thkdsp.ztransform import residue, zplane"
   ]
  },
  {
   "cell_type": "markdown",
   "metadata": {},
   "source": [
    "### Problem 5.8 (c) Determine the system response g[n] if the input is s[n] = sin(2πn/4)ε[n].\n"
   ]
  },
  {
   "cell_type": "code",
   "execution_count": 724,
   "metadata": {},
   "outputs": [],
   "source": [
    "# For all cases:\n",
    "\n",
    "n = lrange(-5, 20)"
   ]
  },
  {
   "cell_type": "markdown",
   "metadata": {},
   "source": [
    "From the analytical computation for the given input s[n], G(z) was obtained as:\n",
    "\n",
    "###  G(z) = ${5 \\over 4} {z \\over z^2 + z + {1 \\over 2}}$"
   ]
  },
  {
   "cell_type": "code",
   "execution_count": 725,
   "metadata": {},
   "outputs": [],
   "source": [
    "# Hence we can write the numerator and denominator coefficients as\n",
    "\n",
    "b_step = array([0, 1.25, 0])\n",
    "a_step = array([1, 1, 0.5])"
   ]
  },
  {
   "cell_type": "code",
   "execution_count": 726,
   "metadata": {},
   "outputs": [],
   "source": [
    "r, p, c = residue(b_step, a_step)"
   ]
  },
  {
   "cell_type": "code",
   "execution_count": 727,
   "metadata": {},
   "outputs": [
    {
     "data": {
      "text/plain": [
       "array([0.625+0.625j, 0.625-0.625j])"
      ]
     },
     "execution_count": 727,
     "metadata": {},
     "output_type": "execute_result"
    }
   ],
   "source": [
    "r"
   ]
  },
  {
   "cell_type": "code",
   "execution_count": 728,
   "metadata": {},
   "outputs": [
    {
     "data": {
      "text/plain": [
       "array([-0.5+0.5j, -0.5-0.5j])"
      ]
     },
     "execution_count": 728,
     "metadata": {},
     "output_type": "execute_result"
    }
   ],
   "source": [
    "p"
   ]
  },
  {
   "cell_type": "code",
   "execution_count": 729,
   "metadata": {},
   "outputs": [
    {
     "data": {
      "text/plain": [
       "array([0.])"
      ]
     },
     "execution_count": 729,
     "metadata": {},
     "output_type": "execute_result"
    }
   ],
   "source": [
    "c"
   ]
  },
  {
   "cell_type": "markdown",
   "metadata": {},
   "source": [
    "#### Computing the step response "
   ]
  },
  {
   "cell_type": "code",
   "execution_count": 730,
   "metadata": {},
   "outputs": [],
   "source": [
    "g_n = c*delta(n)"
   ]
  },
  {
   "cell_type": "markdown",
   "metadata": {},
   "source": [
    "#### Adding exponential signals"
   ]
  },
  {
   "cell_type": "code",
   "execution_count": 731,
   "metadata": {},
   "outputs": [],
   "source": [
    "for k in range(0, len(p)):\n",
    "    g_n = g_n + step(n-1)*(r[k]*p[k]**(n-1))\n",
    "    \n",
    "g_n = real(g_n)"
   ]
  },
  {
   "cell_type": "markdown",
   "metadata": {},
   "source": [
    "#### Plot of the system response g[n]"
   ]
  },
  {
   "cell_type": "code",
   "execution_count": 732,
   "metadata": {},
   "outputs": [
    {
     "data": {
      "image/png": "[encoded data removed]",
      "text/plain": [
       "<Figure size 432x288 with 1 Axes>"
      ]
     },
     "metadata": {},
     "output_type": "display_data"
    }
   ],
   "source": [
    "fig, ax = plot_signal(n, g_n, xlabel=\"n\", ylabel=r\"$g[n]$\")"
   ]
  },
  {
   "cell_type": "code",
   "execution_count": 733,
   "metadata": {},
   "outputs": [],
   "source": [
    "# Using dfilter:"
   ]
  },
  {
   "cell_type": "markdown",
   "metadata": {},
   "source": [
    "### Computing the system response g[n] using the dfilter "
   ]
  },
  {
   "cell_type": "markdown",
   "metadata": {},
   "source": [
    "From the analytical computation, H(z) was obtained as:\n",
    "\n",
    "###  H(z) = ${5 \\over 4} {z^2 + 1 \\over z^2 + z + {1 \\over 2}}$"
   ]
  },
  {
   "cell_type": "code",
   "execution_count": 734,
   "metadata": {},
   "outputs": [],
   "source": [
    "# Hence we can write the numerator and denominator coefficients as\n",
    "\n",
    "b = array([1.25, 0, 1.25])\n",
    "a = array([1, 1, 0.5])"
   ]
  },
  {
   "cell_type": "code",
   "execution_count": 735,
   "metadata": {},
   "outputs": [],
   "source": [
    "s_n= np.sin((2*np.pi*n)/4)*step(n)"
   ]
  },
  {
   "cell_type": "code",
   "execution_count": 736,
   "metadata": {},
   "outputs": [],
   "source": [
    "g_n = dfilter(b, a, s_n)"
   ]
  },
  {
   "cell_type": "markdown",
   "metadata": {},
   "source": [
    "#### Plot of the system response g[n]"
   ]
  },
  {
   "cell_type": "code",
   "execution_count": 737,
   "metadata": {},
   "outputs": [
    {
     "data": {
      "image/png": "[encoded data removed]",
      "text/plain": [
       "<Figure size 432x288 with 1 Axes>"
      ]
     },
     "metadata": {},
     "output_type": "display_data"
    }
   ],
   "source": [
    "fig, ax = plot_signal(n, g_n, xlabel=\"n\", ylabel=r\"$g[n]$\")"
   ]
  },
  {
   "cell_type": "code",
   "execution_count": 738,
   "metadata": {},
   "outputs": [],
   "source": [
    "# Problem 5.9"
   ]
  },
  {
   "cell_type": "markdown",
   "metadata": {},
   "source": [
    "### Problem 5.9 For the linear, causal, and time-invariant systems described by the difference equations below, determine: \n",
    "#### (i) the impulse response representation, \n",
    "#### (ii) the system function representation, \n",
    "#### (iii) the pole-zero plot, and \n",
    "#### (iv) the output g[n], \n",
    "#### if the input signal is s[n] = 2$(0.9)^n$ε[n]."
   ]
  },
  {
   "cell_type": "code",
   "execution_count": 739,
   "metadata": {},
   "outputs": [],
   "source": [
    "# For all cases in Problem 5.9: "
   ]
  },
  {
   "cell_type": "markdown",
   "metadata": {},
   "source": [
    "######  For the input signal s[n], the Z transform was obtained as $S(z) =  {2z \\over {z-0.9}}$"
   ]
  },
  {
   "cell_type": "markdown",
   "metadata": {},
   "source": [
    "###### And for all cases G(z) was obtained as G(z) = H(z).S(z)"
   ]
  },
  {
   "cell_type": "code",
   "execution_count": 740,
   "metadata": {},
   "outputs": [],
   "source": [
    "# a) g[n] = (s[n]−2s[n−1] +s[n−2])/4"
   ]
  },
  {
   "cell_type": "markdown",
   "metadata": {},
   "source": [
    "##### The System function was obtained as H(z) = ${ {1 \\over 4} {(z^2-2z+1)} \\over z^2}$"
   ]
  },
  {
   "cell_type": "code",
   "execution_count": 741,
   "metadata": {},
   "outputs": [],
   "source": [
    "# Hence the numerator and denominator coefficients for H(z) can be written as :\n",
    "\n",
    "b = array([0.25, -0.5, 0.25])\n",
    "a = array([1, 0, 0])"
   ]
  },
  {
   "cell_type": "markdown",
   "metadata": {},
   "source": [
    "#### The pole-zero plot:"
   ]
  },
  {
   "cell_type": "code",
   "execution_count": 742,
   "metadata": {},
   "outputs": [
    {
     "data": {
      "text/plain": [
       "(<Figure size 198.425x198.425 with 1 Axes>,\n",
       " <AxesSubplot:xlabel='$\\\\mathrm{Re}\\\\{z\\\\}$', ylabel='$\\\\mathrm{Im}\\\\{z\\\\}$'>)"
      ]
     },
     "execution_count": 742,
     "metadata": {},
     "output_type": "execute_result"
    },
    {
     "data": {
      "image/png": "[encoded data removed]",
      "text/plain": [
       "<Figure size 198.425x198.425 with 1 Axes>"
      ]
     },
     "metadata": {},
     "output_type": "display_data"
    }
   ],
   "source": [
    "zplane(b, a)"
   ]
  },
  {
   "cell_type": "code",
   "execution_count": 743,
   "metadata": {},
   "outputs": [],
   "source": [
    "# Obtainiing the output g[n]:"
   ]
  },
  {
   "cell_type": "markdown",
   "metadata": {},
   "source": [
    "### The outpu signal g[n]:"
   ]
  },
  {
   "cell_type": "markdown",
   "metadata": {},
   "source": [
    "#### With the given input s[n], G(z) was obtained as G(z) = ${ {1 \\over 2} {(z^2-2z+1)} \\over z^2-0.9z}$"
   ]
  },
  {
   "cell_type": "code",
   "execution_count": 744,
   "metadata": {},
   "outputs": [],
   "source": [
    "# Hence we can write its coefficients as \n",
    "\n",
    "b_out = array([0.5, -1, 0.5])\n",
    "a_out = array([1, -0.9, 0])"
   ]
  },
  {
   "cell_type": "code",
   "execution_count": 745,
   "metadata": {},
   "outputs": [],
   "source": [
    "r, p, c = residue(b_out, a_out)"
   ]
  },
  {
   "cell_type": "code",
   "execution_count": 746,
   "metadata": {},
   "outputs": [
    {
     "data": {
      "text/plain": [
       "array([ 0.00555556, -0.55555556])"
      ]
     },
     "execution_count": 746,
     "metadata": {},
     "output_type": "execute_result"
    }
   ],
   "source": [
    "r"
   ]
  },
  {
   "cell_type": "code",
   "execution_count": 747,
   "metadata": {},
   "outputs": [
    {
     "data": {
      "text/plain": [
       "array([0.9, 0. ])"
      ]
     },
     "execution_count": 747,
     "metadata": {},
     "output_type": "execute_result"
    }
   ],
   "source": [
    "p"
   ]
  },
  {
   "cell_type": "code",
   "execution_count": 748,
   "metadata": {},
   "outputs": [
    {
     "data": {
      "text/plain": [
       "array([0.5])"
      ]
     },
     "execution_count": 748,
     "metadata": {},
     "output_type": "execute_result"
    }
   ],
   "source": [
    "c"
   ]
  },
  {
   "cell_type": "code",
   "execution_count": 749,
   "metadata": {},
   "outputs": [],
   "source": [
    "g_n = c*delta(n)"
   ]
  },
  {
   "cell_type": "code",
   "execution_count": 750,
   "metadata": {},
   "outputs": [
    {
     "name": "stderr",
     "output_type": "stream",
     "text": [
      "<ipython-input-750-f04ae1adfac8>:2: RuntimeWarning: divide by zero encountered in power\n",
      "  g_n = g_n + step(n-1)*(r[k]*p[k]**(n-1))\n",
      "<ipython-input-750-f04ae1adfac8>:2: RuntimeWarning: invalid value encountered in multiply\n",
      "  g_n = g_n + step(n-1)*(r[k]*p[k]**(n-1))\n"
     ]
    },
    {
     "data": {
      "image/png": "[encoded data removed]",
      "text/plain": [
       "<Figure size 432x288 with 1 Axes>"
      ]
     },
     "metadata": {},
     "output_type": "display_data"
    }
   ],
   "source": [
    "for k in range(0, len(p)):\n",
    "    g_n = g_n + step(n-1)*(r[k]*p[k]**(n-1))\n",
    "    \n",
    "g_n= real(g_n)\n",
    "\n",
    "fig, ax = plot_signal(n, g_n, xlabel=\"n\", ylabel=r\"$g[n]$\")"
   ]
  },
  {
   "cell_type": "code",
   "execution_count": 751,
   "metadata": {},
   "outputs": [],
   "source": [
    "# Computing g[n] for the input s[n] using the dfilter :\n",
    "\n",
    "s_n = (2*(0.9)**n)*step(n)\n",
    "\n",
    "g_n = dfilter(b, a, s_n)"
   ]
  },
  {
   "cell_type": "markdown",
   "metadata": {},
   "source": [
    "#### Plot of the output g[n] :"
   ]
  },
  {
   "cell_type": "code",
   "execution_count": 752,
   "metadata": {},
   "outputs": [
    {
     "data": {
      "image/png": "[encoded data removed]",
      "text/plain": [
       "<Figure size 432x288 with 1 Axes>"
      ]
     },
     "metadata": {},
     "output_type": "display_data"
    }
   ],
   "source": [
    "fig, ax = plot_signal(n, g_n, xlabel=\"n\", ylabel=r\"$g[n]$\")"
   ]
  },
  {
   "cell_type": "code",
   "execution_count": 753,
   "metadata": {},
   "outputs": [],
   "source": [
    "# b) g[n] = s[n]−0.5s[n−1]−0.5g[n−1] +0.25g[n−2]"
   ]
  },
  {
   "cell_type": "markdown",
   "metadata": {},
   "source": [
    "##### The System function was obtained as H(z) = ${ {z^2-0.5z} \\over z^2+0.5z-0.25}$"
   ]
  },
  {
   "cell_type": "code",
   "execution_count": 754,
   "metadata": {},
   "outputs": [],
   "source": [
    "# Hence we can write its coefficients as \n",
    "\n",
    "b = array([1, -0.5, 0])\n",
    "a = array([1, 0.5, -0.25])"
   ]
  },
  {
   "cell_type": "markdown",
   "metadata": {},
   "source": [
    "### The pole-zero plot :"
   ]
  },
  {
   "cell_type": "code",
   "execution_count": 755,
   "metadata": {},
   "outputs": [
    {
     "data": {
      "text/plain": [
       "(<Figure size 198.425x198.425 with 1 Axes>,\n",
       " <AxesSubplot:xlabel='$\\\\mathrm{Re}\\\\{z\\\\}$', ylabel='$\\\\mathrm{Im}\\\\{z\\\\}$'>)"
      ]
     },
     "execution_count": 755,
     "metadata": {},
     "output_type": "execute_result"
    },
    {
     "data": {
      "image/png": "[encoded data removed]",
      "text/plain": [
       "<Figure size 198.425x198.425 with 1 Axes>"
      ]
     },
     "metadata": {},
     "output_type": "display_data"
    }
   ],
   "source": [
    "zplane(b, a)"
   ]
  },
  {
   "cell_type": "code",
   "execution_count": 756,
   "metadata": {},
   "outputs": [],
   "source": [
    "# Obtainiing the output g[n]:"
   ]
  },
  {
   "cell_type": "markdown",
   "metadata": {},
   "source": [
    "### For the output signal g[n] :"
   ]
  },
  {
   "cell_type": "markdown",
   "metadata": {},
   "source": [
    "### With the given input s[n], G(z) was obtained as G(z) = ${ {2z^3-z^2} \\over z^3-0.4z^2-0.7z+0.225}$"
   ]
  },
  {
   "cell_type": "code",
   "execution_count": 757,
   "metadata": {},
   "outputs": [],
   "source": [
    "# Hence we can write its coefficients as \n",
    "\n",
    "b_out = array([2, -1, 0, 0])\n",
    "a_out = array([1, -0.4, -0.7, 0.225])"
   ]
  },
  {
   "cell_type": "code",
   "execution_count": 758,
   "metadata": {},
   "outputs": [],
   "source": [
    "r, p, c = residue(b_out, a_out)"
   ]
  },
  {
   "cell_type": "code",
   "execution_count": 759,
   "metadata": {},
   "outputs": [
    {
     "data": {
      "text/plain": [
       "array([-0.89678675,  0.64158416,  0.05520259])"
      ]
     },
     "execution_count": 759,
     "metadata": {},
     "output_type": "execute_result"
    }
   ],
   "source": [
    "r"
   ]
  },
  {
   "cell_type": "code",
   "execution_count": 760,
   "metadata": {},
   "outputs": [
    {
     "data": {
      "text/plain": [
       "array([-0.80901699,  0.9       ,  0.30901699])"
      ]
     },
     "execution_count": 760,
     "metadata": {},
     "output_type": "execute_result"
    }
   ],
   "source": [
    "p"
   ]
  },
  {
   "cell_type": "code",
   "execution_count": 761,
   "metadata": {},
   "outputs": [
    {
     "data": {
      "text/plain": [
       "array([2.])"
      ]
     },
     "execution_count": 761,
     "metadata": {},
     "output_type": "execute_result"
    }
   ],
   "source": [
    "c"
   ]
  },
  {
   "cell_type": "code",
   "execution_count": 762,
   "metadata": {},
   "outputs": [],
   "source": [
    "g_n = c*delta(n)"
   ]
  },
  {
   "cell_type": "code",
   "execution_count": 763,
   "metadata": {},
   "outputs": [
    {
     "data": {
      "image/png": "[encoded data removed]",
      "text/plain": [
       "<Figure size 432x288 with 1 Axes>"
      ]
     },
     "metadata": {},
     "output_type": "display_data"
    }
   ],
   "source": [
    "for k in range(0, len(p)):\n",
    "    g_n = g_n + step(n-1)*(r[k]*p[k]**(n-1))\n",
    "    \n",
    "g_n= np.real(g_n)\n",
    "\n",
    "fig, ax = plot_signal(n, g_n, xlabel=\"n\", ylabel=r\"$g[n]$\")"
   ]
  },
  {
   "cell_type": "code",
   "execution_count": 764,
   "metadata": {},
   "outputs": [],
   "source": [
    "# Computing g[n] for the input s[n] using the dfilter :\n",
    "\n",
    "s_n = (2*(0.9)**n)*step(n)\n",
    "\n",
    "g_n = dfilter(b, a, s_n)"
   ]
  },
  {
   "cell_type": "markdown",
   "metadata": {},
   "source": [
    "### Plot of the output g[n] :"
   ]
  },
  {
   "cell_type": "code",
   "execution_count": 765,
   "metadata": {},
   "outputs": [
    {
     "data": {
      "image/png": "[encoded data removed]",
      "text/plain": [
       "<Figure size 432x288 with 1 Axes>"
      ]
     },
     "metadata": {},
     "output_type": "display_data"
    }
   ],
   "source": [
    "fig, ax = plot_signal(n, g_n, xlabel=\"n\", ylabel=r\"$g[n]$\")"
   ]
  },
  {
   "cell_type": "code",
   "execution_count": 766,
   "metadata": {},
   "outputs": [],
   "source": [
    "# c) g[n] = 2s[n]−0.5g[n−1]\n"
   ]
  },
  {
   "cell_type": "markdown",
   "metadata": {},
   "source": [
    "### The System function was obtained as H(z) = ${2z \\over {z+1/2}}$"
   ]
  },
  {
   "cell_type": "code",
   "execution_count": 767,
   "metadata": {},
   "outputs": [],
   "source": [
    "# Hence we can write its coefficients as \n",
    "\n",
    "b = array([2, 0])\n",
    "a = array([1, 0.5])"
   ]
  },
  {
   "cell_type": "markdown",
   "metadata": {},
   "source": [
    "### The pole-zero plot :"
   ]
  },
  {
   "cell_type": "code",
   "execution_count": 768,
   "metadata": {},
   "outputs": [
    {
     "data": {
      "text/plain": [
       "(<Figure size 198.425x198.425 with 1 Axes>,\n",
       " <AxesSubplot:xlabel='$\\\\mathrm{Re}\\\\{z\\\\}$', ylabel='$\\\\mathrm{Im}\\\\{z\\\\}$'>)"
      ]
     },
     "execution_count": 768,
     "metadata": {},
     "output_type": "execute_result"
    },
    {
     "data": {
      "image/png": "[encoded data removed]",
      "text/plain": [
       "<Figure size 198.425x198.425 with 1 Axes>"
      ]
     },
     "metadata": {},
     "output_type": "display_data"
    }
   ],
   "source": [
    "zplane(b, a)"
   ]
  },
  {
   "cell_type": "code",
   "execution_count": 769,
   "metadata": {},
   "outputs": [],
   "source": [
    "# Obtainiing the output g[n]:"
   ]
  },
  {
   "cell_type": "markdown",
   "metadata": {},
   "source": [
    "### The output signal g[n] :"
   ]
  },
  {
   "cell_type": "markdown",
   "metadata": {},
   "source": [
    "### With the given input s[n], G(z) was obtained as G(z) = ${ 4z^2 \\over z^2-0.4z-0.45}$"
   ]
  },
  {
   "cell_type": "code",
   "execution_count": 770,
   "metadata": {},
   "outputs": [],
   "source": [
    "# Hence we can write its coefficients as \n",
    "\n",
    "b_out = array([4, 0, 0])\n",
    "a_out = array([1, -0.4, -0.45])"
   ]
  },
  {
   "cell_type": "code",
   "execution_count": 771,
   "metadata": {},
   "outputs": [],
   "source": [
    "r, p, c = residue(b_out, a_out)"
   ]
  },
  {
   "cell_type": "code",
   "execution_count": 772,
   "metadata": {},
   "outputs": [
    {
     "data": {
      "text/plain": [
       "array([ 2.31428571, -0.71428571])"
      ]
     },
     "execution_count": 772,
     "metadata": {},
     "output_type": "execute_result"
    }
   ],
   "source": [
    "r"
   ]
  },
  {
   "cell_type": "code",
   "execution_count": 773,
   "metadata": {},
   "outputs": [
    {
     "data": {
      "text/plain": [
       "array([ 0.9, -0.5])"
      ]
     },
     "execution_count": 773,
     "metadata": {},
     "output_type": "execute_result"
    }
   ],
   "source": [
    "p"
   ]
  },
  {
   "cell_type": "code",
   "execution_count": 774,
   "metadata": {},
   "outputs": [
    {
     "data": {
      "text/plain": [
       "array([4.])"
      ]
     },
     "execution_count": 774,
     "metadata": {},
     "output_type": "execute_result"
    }
   ],
   "source": [
    "c"
   ]
  },
  {
   "cell_type": "code",
   "execution_count": 775,
   "metadata": {},
   "outputs": [],
   "source": [
    "g_n = c*delta(n)"
   ]
  },
  {
   "cell_type": "code",
   "execution_count": 776,
   "metadata": {},
   "outputs": [
    {
     "data": {
      "image/png": "[encoded data removed]",
      "text/plain": [
       "<Figure size 432x288 with 1 Axes>"
      ]
     },
     "metadata": {},
     "output_type": "display_data"
    }
   ],
   "source": [
    "for k in range(0, len(p)):\n",
    "    g_n = g_n + step(n-1)*(r[k]*p[k]**(n-1))\n",
    "    \n",
    "g_n= np.real(g_n)\n",
    "\n",
    "fig, ax = plot_signal(n, g_n, xlabel=\"n\", ylabel=r\"$g[n]$\")"
   ]
  },
  {
   "cell_type": "code",
   "execution_count": 777,
   "metadata": {},
   "outputs": [],
   "source": [
    "# Computing g[n] for the input s[n] using the dfilter :\n",
    "\n",
    "s_n = (2*(0.9)**n)*step(n)\n",
    "\n",
    "g_n = dfilter(b, a, s_n)"
   ]
  },
  {
   "cell_type": "markdown",
   "metadata": {},
   "source": [
    "#### Plot of the output g[n] :"
   ]
  },
  {
   "cell_type": "code",
   "execution_count": 778,
   "metadata": {},
   "outputs": [
    {
     "data": {
      "image/png": "[encoded data removed]",
      "text/plain": [
       "<Figure size 432x288 with 1 Axes>"
      ]
     },
     "metadata": {},
     "output_type": "display_data"
    }
   ],
   "source": [
    "fig, ax = plot_signal(n, g_n, xlabel=\"n\", ylabel=r\"$g[n]$\")"
   ]
  },
  {
   "cell_type": "code",
   "execution_count": 779,
   "metadata": {},
   "outputs": [],
   "source": [
    "# d) g[n] = 1.2s[n]+0.6s[n−1]−s[n−2]+0.4g[n−1]+0.45g[n−2]"
   ]
  },
  {
   "cell_type": "markdown",
   "metadata": {},
   "source": [
    "### The System function was obtained as H(z) =  ${ {1.2z^2+0.6z-1} \\over z^2-0.4z-0.45}$"
   ]
  },
  {
   "cell_type": "code",
   "execution_count": 780,
   "metadata": {},
   "outputs": [],
   "source": [
    "# Hence we can write its coefficients as \n",
    "\n",
    "b = array([1.2, 0.6, -1])\n",
    "a = array([1, -0.4, -0.45])"
   ]
  },
  {
   "cell_type": "markdown",
   "metadata": {},
   "source": [
    "### The pole-zero plot:"
   ]
  },
  {
   "cell_type": "code",
   "execution_count": 781,
   "metadata": {},
   "outputs": [
    {
     "data": {
      "text/plain": [
       "(<Figure size 198.425x198.425 with 1 Axes>,\n",
       " <AxesSubplot:xlabel='$\\\\mathrm{Re}\\\\{z\\\\}$', ylabel='$\\\\mathrm{Im}\\\\{z\\\\}$'>)"
      ]
     },
     "execution_count": 781,
     "metadata": {},
     "output_type": "execute_result"
    },
    {
     "data": {
      "image/png": "[encoded data removed]",
      "text/plain": [
       "<Figure size 198.425x198.425 with 1 Axes>"
      ]
     },
     "metadata": {},
     "output_type": "display_data"
    }
   ],
   "source": [
    "zplane(b, a)"
   ]
  },
  {
   "cell_type": "code",
   "execution_count": 782,
   "metadata": {},
   "outputs": [],
   "source": [
    "# Obtainiing the output g[n]:"
   ]
  },
  {
   "cell_type": "markdown",
   "metadata": {},
   "source": [
    "### For the output signal g[n] : "
   ]
  },
  {
   "cell_type": "markdown",
   "metadata": {},
   "source": [
    "### With the given input s[n], G(z) was obtained as G(z) =  ${ {2.4z^3+1.2z^2-2z} \\over z^3-1.3z^2-0.09z+0.405}$"
   ]
  },
  {
   "cell_type": "code",
   "execution_count": 783,
   "metadata": {},
   "outputs": [],
   "source": [
    "# Hence we can write its coefficients as \n",
    "\n",
    "b_out = array([2.4, 1.2, -2, 0])\n",
    "a_out = array([1, -1.3, -0.09, 0.405])"
   ]
  },
  {
   "cell_type": "code",
   "execution_count": 784,
   "metadata": {},
   "outputs": [],
   "source": [
    "r, p, c = residue(b_out, a_out)"
   ]
  },
  {
   "cell_type": "code",
   "execution_count": 785,
   "metadata": {},
   "outputs": [
    {
     "data": {
      "text/plain": [
       "array([3.80979592, 0.65828571, 0.51020408])"
      ]
     },
     "execution_count": 785,
     "metadata": {},
     "output_type": "execute_result"
    }
   ],
   "source": [
    "r"
   ]
  },
  {
   "cell_type": "code",
   "execution_count": 786,
   "metadata": {},
   "outputs": [
    {
     "data": {
      "text/plain": [
       "array([ 0.9,  0.9, -0.5])"
      ]
     },
     "execution_count": 786,
     "metadata": {},
     "output_type": "execute_result"
    }
   ],
   "source": [
    "p"
   ]
  },
  {
   "cell_type": "code",
   "execution_count": 787,
   "metadata": {},
   "outputs": [
    {
     "data": {
      "text/plain": [
       "array([2.4])"
      ]
     },
     "execution_count": 787,
     "metadata": {},
     "output_type": "execute_result"
    }
   ],
   "source": [
    "c"
   ]
  },
  {
   "cell_type": "code",
   "execution_count": 788,
   "metadata": {},
   "outputs": [],
   "source": [
    "g_n = c*delta(n)"
   ]
  },
  {
   "cell_type": "code",
   "execution_count": 789,
   "metadata": {},
   "outputs": [
    {
     "data": {
      "image/png": "[encoded data removed]",
      "text/plain": [
       "<Figure size 432x288 with 1 Axes>"
      ]
     },
     "metadata": {},
     "output_type": "display_data"
    }
   ],
   "source": [
    "for k in range(0, len(p)):\n",
    "    g_n = g_n + step(n-1)*(r[k]*p[k]**(n-1))\n",
    "    \n",
    "g_n= np.real(g_n)\n",
    "\n",
    "fig, ax = plot_signal(n, g_n, xlabel=\"n\", ylabel=r\"$g[n]$\")"
   ]
  },
  {
   "cell_type": "code",
   "execution_count": 790,
   "metadata": {},
   "outputs": [],
   "source": [
    "# Computing g[n] for the input s[n] using the dfilter :\n",
    "\n",
    "s_n = (2*(0.9)**n)*step(n)\n",
    "\n",
    "g_n = dfilter(b, a, s_n)"
   ]
  },
  {
   "cell_type": "markdown",
   "metadata": {},
   "source": [
    "### Plot of the output g[n] :"
   ]
  },
  {
   "cell_type": "code",
   "execution_count": 791,
   "metadata": {},
   "outputs": [
    {
     "data": {
      "image/png": "[encoded data removed]",
      "text/plain": [
       "<Figure size 432x288 with 1 Axes>"
      ]
     },
     "metadata": {},
     "output_type": "display_data"
    }
   ],
   "source": [
    "fig, ax = plot_signal(n, g_n, xlabel=\"n\", ylabel=r\"$g[n]$\")"
   ]
  },
  {
   "cell_type": "code",
   "execution_count": 792,
   "metadata": {},
   "outputs": [],
   "source": [
    "# Problem 5.9 (e) :"
   ]
  },
  {
   "cell_type": "code",
   "execution_count": 793,
   "metadata": {},
   "outputs": [],
   "source": [
    "b = array([1, 0.75, 0.5625, 0.4219, 0.3164])\n",
    "a = array([1, 1.3333, 1.7778, 2.3704, 3.1605])"
   ]
  },
  {
   "cell_type": "markdown",
   "metadata": {},
   "source": [
    "#### The pole-zero plot:"
   ]
  },
  {
   "cell_type": "code",
   "execution_count": 794,
   "metadata": {},
   "outputs": [
    {
     "data": {
      "text/plain": [
       "(<Figure size 198.425x198.425 with 1 Axes>,\n",
       " <AxesSubplot:xlabel='$\\\\mathrm{Re}\\\\{z\\\\}$', ylabel='$\\\\mathrm{Im}\\\\{z\\\\}$'>)"
      ]
     },
     "execution_count": 794,
     "metadata": {},
     "output_type": "execute_result"
    },
    {
     "data": {
      "image/png": "[encoded data removed]",
      "text/plain": [
       "<Figure size 198.425x198.425 with 1 Axes>"
      ]
     },
     "metadata": {},
     "output_type": "display_data"
    }
   ],
   "source": [
    "zplane(b, a)"
   ]
  },
  {
   "cell_type": "code",
   "execution_count": 795,
   "metadata": {},
   "outputs": [],
   "source": [
    "# Obtainiing the output g[n]:"
   ]
  },
  {
   "cell_type": "code",
   "execution_count": 796,
   "metadata": {},
   "outputs": [],
   "source": [
    "# With the given input s(n) the coefficients of G(z) was obtained as:\n",
    "\n",
    "b_out = array([2, 1.5, 1.125, 0.8438, 0.6328, 0])\n",
    "a_out = array([1, 0.4333, 0.5778, 0.77038, 1.0271, -2.8445])"
   ]
  },
  {
   "cell_type": "code",
   "execution_count": 797,
   "metadata": {},
   "outputs": [],
   "source": [
    "r, p, c = residue(b_out, a_out)"
   ]
  },
  {
   "cell_type": "code",
   "execution_count": 798,
   "metadata": {},
   "outputs": [
    {
     "data": {
      "text/plain": [
       "array([-0.28323298+0.28518357j, -0.28323298-0.28518357j,\n",
       "        0.34650171+0.47741201j,  0.34650171-0.47741201j,\n",
       "        0.50686252+0.j        ])"
      ]
     },
     "execution_count": 798,
     "metadata": {},
     "output_type": "execute_result"
    }
   ],
   "source": [
    "r"
   ]
  },
  {
   "cell_type": "code",
   "execution_count": 799,
   "metadata": {},
   "outputs": [
    {
     "data": {
      "text/plain": [
       "array([-1.07867996+0.78371204j, -1.07867996-0.78371204j,\n",
       "        0.41202351+1.2680877j ,  0.41202351-1.2680877j ,\n",
       "        0.9000129 +0.j        ])"
      ]
     },
     "execution_count": 799,
     "metadata": {},
     "output_type": "execute_result"
    }
   ],
   "source": [
    "p"
   ]
  },
  {
   "cell_type": "code",
   "execution_count": 800,
   "metadata": {},
   "outputs": [
    {
     "data": {
      "text/plain": [
       "array([2.])"
      ]
     },
     "execution_count": 800,
     "metadata": {},
     "output_type": "execute_result"
    }
   ],
   "source": [
    "c"
   ]
  },
  {
   "cell_type": "code",
   "execution_count": 801,
   "metadata": {},
   "outputs": [],
   "source": [
    "g_n = c*delta(n)"
   ]
  },
  {
   "cell_type": "code",
   "execution_count": 802,
   "metadata": {},
   "outputs": [
    {
     "data": {
      "image/png": "[encoded data removed]",
      "text/plain": [
       "<Figure size 432x288 with 1 Axes>"
      ]
     },
     "metadata": {},
     "output_type": "display_data"
    }
   ],
   "source": [
    "for k in range(0, len(p)):\n",
    "    g_n = g_n + step(n-1)*(r[k]*p[k]**(n-1))\n",
    "    \n",
    "g_n= np.real(g_n)\n",
    "\n",
    "fig, ax = plot_signal(n, g_n, xlabel=\"n\", ylabel=r\"$g[n]$\")"
   ]
  },
  {
   "cell_type": "code",
   "execution_count": 803,
   "metadata": {},
   "outputs": [],
   "source": [
    "# Computing g[n] for the input s[n] using the dfilter :\n",
    "\n",
    "s_n = (2*(0.9)**n)*step(n)\n",
    "\n",
    "g_n = dfilter(b, a, s_n)"
   ]
  },
  {
   "cell_type": "markdown",
   "metadata": {},
   "source": [
    "#### Plot of the output g[n] :"
   ]
  },
  {
   "cell_type": "code",
   "execution_count": 804,
   "metadata": {},
   "outputs": [
    {
     "data": {
      "image/png": "[encoded data removed]",
      "text/plain": [
       "<Figure size 432x288 with 1 Axes>"
      ]
     },
     "metadata": {},
     "output_type": "display_data"
    }
   ],
   "source": [
    "fig, ax = plot_signal(n, g_n, xlabel=\"n\", ylabel=r\"$g[n]$\")"
   ]
  },
  {
   "cell_type": "code",
   "execution_count": 1,
   "metadata": {},
   "outputs": [],
   "source": [
    "### 5.9.e) $g[n] = \\sum_{k=0}^{4} (\\frac{4}{3})^{k} s[n−k]− \\sum_{k=1}^{4} (\\frac{3}{4})^{k} g[n−k]$"
   ]
  },
  {
   "cell_type": "code",
   "execution_count": null,
   "metadata": {},
   "outputs": [],
   "source": []
  },
  {
   "cell_type": "code",
   "execution_count": null,
   "metadata": {},
   "outputs": [],
   "source": []
  },
  {
   "cell_type": "code",
   "execution_count": null,
   "metadata": {},
   "outputs": [],
   "source": []
  },
  {
   "cell_type": "code",
   "execution_count": null,
   "metadata": {},
   "outputs": [],
   "source": []
  },
  {
   "cell_type": "code",
   "execution_count": null,
   "metadata": {},
   "outputs": [],
   "source": []
  },
  {
   "cell_type": "code",
   "execution_count": null,
   "metadata": {},
   "outputs": [],
   "source": []
  },
  {
   "cell_type": "code",
   "execution_count": null,
   "metadata": {},
   "outputs": [],
   "source": []
  },
  {
   "cell_type": "code",
   "execution_count": null,
   "metadata": {},
   "outputs": [],
   "source": []
  },
  {
   "cell_type": "code",
   "execution_count": null,
   "metadata": {},
   "outputs": [],
   "source": []
  },
  {
   "cell_type": "code",
   "execution_count": null,
   "metadata": {},
   "outputs": [],
   "source": []
  },
  {
   "cell_type": "code",
   "execution_count": null,
   "metadata": {},
   "outputs": [],
   "source": []
  },
  {
   "cell_type": "code",
   "execution_count": null,
   "metadata": {},
   "outputs": [],
   "source": []
  },
  {
   "cell_type": "markdown",
   "metadata": {},
   "source": [
    "### When you run the command in the next code cell, the lab/homework will be finished!\n",
    "### Execute the next code cell only if you really want to finish this lab/homework!\n",
    "### This code cell should be your last code cell!\n"
   ]
  },
  {
   "cell_type": "code",
   "execution_count": 806,
   "metadata": {},
   "outputs": [
    {
     "name": "stdout",
     "output_type": "stream",
     "text": [
      "You are about to finish Homework 4 !\n",
      "This will finish output to the log file, such that you should not enter any command after finishing!\n",
      "\n",
      "Thus, proceed only if you are sure that you are really finished!!\n",
      "Do you really want to finish? yes/no: yes\n",
      "Finishing Homework 4 for matriculation number 11144732\n",
      "Homework 4  finished at: 2021-12-21 00:39:27.603662\n",
      "Finished after: 2 days, 2:15:04.687873\n",
      "Info:  2562463468\n",
      "Congratulations! You have just finished Homework 4 !\n",
      " \n",
      "In your current working directory you will find the following Log file:\n",
      " \n",
      "Log file:  dsp_hw4_11144732.log\n",
      " \n",
      "Please save this iPython notebook one more time!\n",
      " \n",
      "Please upload both files to the ILIAS server:\n",
      "If this is a homework, use the 'Homework' folder of the ILIAS DSP internet pages!\n",
      "If this is a lab, use the 'Lab' folder of the ILIAS DSP internet pages!\n",
      " \n",
      "In either case you will be notified on the status of your submission via email.\n",
      "\n",
      "So stay tuned!\n",
      "Harald Elders-Boll\n"
     ]
    }
   ],
   "source": [
    "# finish homework\n",
    "dsp_hw4_finish()"
   ]
  },
  {
   "cell_type": "markdown",
   "metadata": {},
   "source": [
    "### Please save this notebook one more time!"
   ]
  },
  {
   "cell_type": "code",
   "execution_count": null,
   "metadata": {},
   "outputs": [],
   "source": []
  }
 ],
 "metadata": {
  "day": "16",
  "fname": "dsp_hw4_11144732.ipynb",
  "fpath": "C:\\Users\\HP-ZBook\\OneDrive\\OneDrive - th-koeln.de\\Documents\\TH KÖLN AND HS BONN\\WINTER 2021-2022\\DSP\\DSP TH KOLN\\FOLDER PYTHON (LAB and HOMEWORK)\\DSP",
  "hour": "11",
  "kernelspec": {
   "display_name": "Python 3",
   "language": "python",
   "name": "python3"
  },
  "language_info": {
   "codemirror_mode": {
    "name": "ipython",
    "version": 3
   },
   "file_extension": ".py",
   "mimetype": "text/x-python",
   "name": "python",
   "nbconvert_exporter": "python",
   "pygments_lexer": "ipython3",
   "version": "3.8.5"
  },
  "microsecond": "256246",
  "minute": "27",
  "month": "12",
  "rn": 11144732,
  "second": "17",
  "year": "2021"
 },
 "nbformat": 4,
 "nbformat_minor": 4
}
