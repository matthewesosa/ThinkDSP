{
 "cells": [
  {
   "cell_type": "markdown",
   "metadata": {},
   "source": [
    "# DSP Homework 1, matriculation number: 11144732\n",
    "Generated on: 07.11.2021 at: 23:22:09 h.\n",
    "### Please execute the next code cells to start your lab/homework!"
   ]
  },
  {
   "cell_type": "code",
   "execution_count": 8,
   "metadata": {},
   "outputs": [],
   "source": [
    "# iPython magic command to load the matplotlib library and\n",
    "# select the notebook graphics frontend\n",
    "%matplotlib inline\n",
    "# import necessary functions from the thkdss library\n",
    "from thkdsp import *\n",
    "from dsplab import *\n",
    "# import audio related functions from the audio submodule\n",
    "from thkdsp.audio import play_signal, wav2dtsignal\n",
    "# import some definitions and functions from numpy, the python library for Matlab-like array processing\n",
    "import numpy as np\n",
    "from numpy import arange, shape, array, zeros, size, ones, isscalar"
   ]
  },
  {
   "cell_type": "code",
   "execution_count": 2,
   "metadata": {},
   "outputs": [],
   "source": [
    "# set font for Matplotlib to 'Times New Roman' if that is available\n",
    "set_mpl_font()\n",
    "# set default font size for Matplotlib, change to different value if labels are too large or too small\n",
    "set_mpl_fontsize(16)"
   ]
  },
  {
   "cell_type": "code",
   "execution_count": 3,
   "metadata": {},
   "outputs": [
    {
     "name": "stdout",
     "output_type": "stream",
     "text": [
      "TH Köln University of Applied Sciences\n",
      "Course:  Digital Signal Processing\n",
      "Homework 1\n",
      " \n",
      "You are about to start Homework 1 !\n",
      "Please read and follow the instructions exactly as stated!\n",
      " \n",
      "You will be asked to enter your matriculation number.\n",
      "Please make sure that you enter it correctly!\n",
      " \n",
      "Please enter your 8-digit matriculation number: 11144732\n",
      "Your matriculation number is:  11144732\n",
      "Is this correct? yes/no: yes\n",
      "Starting output to log file for Homework 1 for matriculation number: 11144732\n",
      "dsp_hw1_11144732.log\n",
      "Activating auto-logging. Current session state plus future input saved.\n",
      "Filename       : dsp_hw1_11144732.log\n",
      "Mode           : append\n",
      "Output logging : True\n",
      "Raw input log  : True\n",
      "Timestamping   : True\n",
      "State          : active\n",
      "Info: 2562463468\n",
      "Homework 1 for matriculation number 11144732 started at: 2021-11-07 23:23:40.095917\n"
     ]
    }
   ],
   "source": [
    "# start homework\n",
    "dsp_hw1_start()"
   ]
  },
  {
   "cell_type": "markdown",
   "metadata": {},
   "source": [
    "### Enter as many code cells as you need below!\n",
    "### Note: Your notebook needs to be modular enough, i.e. it has to consist of enough code cells!\n",
    "### Otherwise, your submission will be considered as not sufficient!\n"
   ]
  },
  {
   "cell_type": "markdown",
   "metadata": {},
   "source": [
    "### Problem 2.4 (Exam)(Numpy)\n",
    "### Determine analytically the convolution g[n] = s[n] ∗ h[n] of the following sequences and verify your answers using the conv function."
   ]
  },
  {
   "cell_type": "markdown",
   "metadata": {},
   "source": [
    "#### a) s[n] = {2,−4,5,3,−1,−2,6}, h[n] = {1,−1, 1,−1,1}"
   ]
  },
  {
   "cell_type": "code",
   "execution_count": 136,
   "metadata": {},
   "outputs": [],
   "source": [
    "# By observing the 'marked zero points', we define the index arrays s_n and h_n\n",
    "\n",
    "n_s = lrange(-3, 3)\n",
    "n_h = lrange(-1, 3)"
   ]
  },
  {
   "cell_type": "code",
   "execution_count": 137,
   "metadata": {},
   "outputs": [
    {
     "data": {
      "text/plain": [
       "array([-3, -2, -1,  0,  1,  2,  3])"
      ]
     },
     "execution_count": 137,
     "metadata": {},
     "output_type": "execute_result"
    }
   ],
   "source": [
    "n_s"
   ]
  },
  {
   "cell_type": "code",
   "execution_count": 138,
   "metadata": {},
   "outputs": [
    {
     "data": {
      "text/plain": [
       "array([-1,  0,  1,  2,  3])"
      ]
     },
     "execution_count": 138,
     "metadata": {},
     "output_type": "execute_result"
    }
   ],
   "source": [
    "n_h"
   ]
  },
  {
   "cell_type": "code",
   "execution_count": 139,
   "metadata": {},
   "outputs": [],
   "source": [
    "# Define the values arrays for both signals\n",
    "\n",
    "s = np.array([2,-4,5,3,-1,-2,6])\n",
    "h = np.array([1,-1,1,-1,1])"
   ]
  },
  {
   "cell_type": "code",
   "execution_count": 140,
   "metadata": {},
   "outputs": [
    {
     "data": {
      "text/plain": [
       "(<Figure size 432x288 with 1 Axes>,\n",
       " <AxesSubplot:xlabel='$ n \\\\rightarrow$', ylabel='$ s[n] \\\\rightarrow$'>)"
      ]
     },
     "execution_count": 140,
     "metadata": {},
     "output_type": "execute_result"
    },
    {
     "data": {
      "image/png": "[encoded data removed]",
      "text/plain": [
       "<Figure size 432x288 with 1 Axes>"
      ]
     },
     "metadata": {
      "needs_background": "light"
     },
     "output_type": "display_data"
    }
   ],
   "source": [
    "# plot signal s[n]\n",
    "\n",
    "plot_signal(n_s, s, xlabel = 'n')"
   ]
  },
  {
   "cell_type": "code",
   "execution_count": 141,
   "metadata": {},
   "outputs": [
    {
     "data": {
      "text/plain": [
       "(<Figure size 432x288 with 1 Axes>,\n",
       " <AxesSubplot:xlabel='$ n \\\\rightarrow$', ylabel='$ h[n] \\\\rightarrow$'>)"
      ]
     },
     "execution_count": 141,
     "metadata": {},
     "output_type": "execute_result"
    },
    {
     "data": {
      "image/png": "[encoded data removed]",
      "text/plain": [
       "<Figure size 432x288 with 1 Axes>"
      ]
     },
     "metadata": {
      "needs_background": "light"
     },
     "output_type": "display_data"
    }
   ],
   "source": [
    "# plot signal h[n]\n",
    "\n",
    "plot_signal(n_h, h, xlabel = 'n', ylabel = 'h')"
   ]
  },
  {
   "cell_type": "code",
   "execution_count": 142,
   "metadata": {},
   "outputs": [
    {
     "data": {
      "text/plain": [
       "(<Figure size 432x288 with 1 Axes>,\n",
       " <AxesSubplot:xlabel='$ n \\\\rightarrow$', ylabel='$ g[n] \\\\rightarrow$'>)"
      ]
     },
     "execution_count": 142,
     "metadata": {},
     "output_type": "execute_result"
    },
    {
     "data": {
      "image/png": "[encoded data removed]",
      "text/plain": [
       "<Figure size 432x288 with 1 Axes>"
      ]
     },
     "metadata": {
      "needs_background": "light"
     },
     "output_type": "display_data"
    }
   ],
   "source": [
    "# 'using the 'conv' function, lets compute the convolution and plot it with 'plot_signal'\n",
    "\n",
    "n_g, g = conv(n_s, s, n_h, h)\n",
    "plot_signal(n_g, g, xlabel='n', ylabel='g')"
   ]
  },
  {
   "cell_type": "markdown",
   "metadata": {},
   "source": [
    "### b) s[n] = {1,1,0,1,1}, h[n] = {1,−2,−3,4}"
   ]
  },
  {
   "cell_type": "code",
   "execution_count": 143,
   "metadata": {},
   "outputs": [],
   "source": [
    "# by observing the 'marked zero points', we define the index arrays s_n and h_n\n",
    "\n",
    "n_s = lrange(-2, 2)\n",
    "n_h = lrange(-3, 0)"
   ]
  },
  {
   "cell_type": "code",
   "execution_count": 144,
   "metadata": {},
   "outputs": [
    {
     "data": {
      "text/plain": [
       "array([-2, -1,  0,  1,  2])"
      ]
     },
     "execution_count": 144,
     "metadata": {},
     "output_type": "execute_result"
    }
   ],
   "source": [
    "n_s"
   ]
  },
  {
   "cell_type": "code",
   "execution_count": 145,
   "metadata": {},
   "outputs": [
    {
     "data": {
      "text/plain": [
       "array([-3, -2, -1,  0])"
      ]
     },
     "execution_count": 145,
     "metadata": {},
     "output_type": "execute_result"
    }
   ],
   "source": [
    "n_h"
   ]
  },
  {
   "cell_type": "code",
   "execution_count": 146,
   "metadata": {},
   "outputs": [],
   "source": [
    "# Define the value arrays for both signals\n",
    "\n",
    "s = np.array([1,1,0,1,1])\n",
    "h = np.array([1,-2,-3,4])"
   ]
  },
  {
   "cell_type": "code",
   "execution_count": 147,
   "metadata": {},
   "outputs": [
    {
     "data": {
      "text/plain": [
       "(<Figure size 432x288 with 1 Axes>,\n",
       " <AxesSubplot:xlabel='$ n \\\\rightarrow$', ylabel='$ s[n] \\\\rightarrow$'>)"
      ]
     },
     "execution_count": 147,
     "metadata": {},
     "output_type": "execute_result"
    },
    {
     "data": {
      "image/png": "[encoded data removed]",
      "text/plain": [
       "<Figure size 432x288 with 1 Axes>"
      ]
     },
     "metadata": {
      "needs_background": "light"
     },
     "output_type": "display_data"
    }
   ],
   "source": [
    "# plot signal s[n]\n",
    "\n",
    "plot_signal(n_s, s, xlabel = 'n')"
   ]
  },
  {
   "cell_type": "code",
   "execution_count": 148,
   "metadata": {},
   "outputs": [
    {
     "data": {
      "text/plain": [
       "(<Figure size 432x288 with 1 Axes>,\n",
       " <AxesSubplot:xlabel='$ n \\\\rightarrow$', ylabel='$ h[n] \\\\rightarrow$'>)"
      ]
     },
     "execution_count": 148,
     "metadata": {},
     "output_type": "execute_result"
    },
    {
     "data": {
      "image/png": "[encoded data removed]",
      "text/plain": [
       "<Figure size 432x288 with 1 Axes>"
      ]
     },
     "metadata": {
      "needs_background": "light"
     },
     "output_type": "display_data"
    }
   ],
   "source": [
    "# plot signal h[n]\n",
    "\n",
    "plot_signal(n_h, h, xlabel = 'n', ylabel = 'h')"
   ]
  },
  {
   "cell_type": "code",
   "execution_count": 149,
   "metadata": {},
   "outputs": [
    {
     "data": {
      "text/plain": [
       "(<Figure size 432x288 with 1 Axes>,\n",
       " <AxesSubplot:xlabel='$ n \\\\rightarrow$', ylabel='$ g[n] \\\\rightarrow$'>)"
      ]
     },
     "execution_count": 149,
     "metadata": {},
     "output_type": "execute_result"
    },
    {
     "data": {
      "image/png": "[encoded data removed]",
      "text/plain": [
       "<Figure size 432x288 with 1 Axes>"
      ]
     },
     "metadata": {
      "needs_background": "light"
     },
     "output_type": "display_data"
    }
   ],
   "source": [
    "# 'using the 'conv' function, lets compute the convolution and plot it with 'plot_signal'\n",
    "\n",
    "n_g, g = conv(n_s, s, n_h, h)\n",
    "plot_signal(n_g, g, xlabel='n', ylabel='g')"
   ]
  },
  {
   "cell_type": "markdown",
   "metadata": {},
   "source": [
    "### c) s[n] = $( 1/4)^{−n}$[ε[n+1]−ε[n−4]],  h[n] = ε[n]−ε[n−5]"
   ]
  },
  {
   "cell_type": "code",
   "execution_count": 150,
   "metadata": {},
   "outputs": [],
   "source": [
    "# define the index arrays s_n and h_n\n",
    "\n",
    "n_s = lrange(-1, 4)\n",
    "n_h = lrange(0, 5)"
   ]
  },
  {
   "cell_type": "code",
   "execution_count": 151,
   "metadata": {},
   "outputs": [
    {
     "data": {
      "text/plain": [
       "array([-1,  0,  1,  2,  3,  4])"
      ]
     },
     "execution_count": 151,
     "metadata": {},
     "output_type": "execute_result"
    }
   ],
   "source": [
    "n_s"
   ]
  },
  {
   "cell_type": "code",
   "execution_count": 152,
   "metadata": {},
   "outputs": [
    {
     "data": {
      "text/plain": [
       "array([0, 1, 2, 3, 4, 5])"
      ]
     },
     "execution_count": 152,
     "metadata": {},
     "output_type": "execute_result"
    }
   ],
   "source": [
    "n_h"
   ]
  },
  {
   "cell_type": "code",
   "execution_count": 153,
   "metadata": {},
   "outputs": [],
   "source": [
    "# Define the value arrays for both signals\n",
    "\n",
    "s = ((1/4)**-n_s)*(step(n_s+1)-step(n_s-4))\n",
    "\n",
    "h = step(n_h)-step(n_h-5)"
   ]
  },
  {
   "cell_type": "code",
   "execution_count": 154,
   "metadata": {},
   "outputs": [
    {
     "data": {
      "text/plain": [
       "array([ 0.25,  1.  ,  4.  , 16.  , 64.  ,  0.  ])"
      ]
     },
     "execution_count": 154,
     "metadata": {},
     "output_type": "execute_result"
    }
   ],
   "source": [
    "s"
   ]
  },
  {
   "cell_type": "code",
   "execution_count": 155,
   "metadata": {},
   "outputs": [
    {
     "data": {
      "text/plain": [
       "array([1., 1., 1., 1., 1., 0.])"
      ]
     },
     "execution_count": 155,
     "metadata": {},
     "output_type": "execute_result"
    }
   ],
   "source": [
    "h"
   ]
  },
  {
   "cell_type": "code",
   "execution_count": 156,
   "metadata": {},
   "outputs": [
    {
     "data": {
      "text/plain": [
       "(<Figure size 432x288 with 1 Axes>,\n",
       " <AxesSubplot:xlabel='$ n \\\\rightarrow$', ylabel='$ s[n] \\\\rightarrow$'>)"
      ]
     },
     "execution_count": 156,
     "metadata": {},
     "output_type": "execute_result"
    },
    {
     "data": {
      "image/png": "[encoded data removed]",
      "text/plain": [
       "<Figure size 432x288 with 1 Axes>"
      ]
     },
     "metadata": {
      "needs_background": "light"
     },
     "output_type": "display_data"
    }
   ],
   "source": [
    "# plot signal s[n]\n",
    "\n",
    "plot_signal(n_s, s, xlabel = 'n')"
   ]
  },
  {
   "cell_type": "code",
   "execution_count": 157,
   "metadata": {},
   "outputs": [
    {
     "data": {
      "text/plain": [
       "(<Figure size 432x288 with 1 Axes>,\n",
       " <AxesSubplot:xlabel='$ n \\\\rightarrow$', ylabel='$ h[n] \\\\rightarrow$'>)"
      ]
     },
     "execution_count": 157,
     "metadata": {},
     "output_type": "execute_result"
    },
    {
     "data": {
      "image/png": "[encoded data removed]",
      "text/plain": [
       "<Figure size 432x288 with 1 Axes>"
      ]
     },
     "metadata": {
      "needs_background": "light"
     },
     "output_type": "display_data"
    }
   ],
   "source": [
    "# plot signal h[n]\n",
    "\n",
    "plot_signal(n_h, h, xlabel = 'n', ylabel = 'h')"
   ]
  },
  {
   "cell_type": "code",
   "execution_count": 158,
   "metadata": {},
   "outputs": [
    {
     "data": {
      "text/plain": [
       "(<Figure size 432x288 with 1 Axes>,\n",
       " <AxesSubplot:xlabel='$ n \\\\rightarrow$', ylabel='$ g[n] \\\\rightarrow$'>)"
      ]
     },
     "execution_count": 158,
     "metadata": {},
     "output_type": "execute_result"
    },
    {
     "data": {
      "image/png": "[encoded data removed]",
      "text/plain": [
       "<Figure size 432x288 with 1 Axes>"
      ]
     },
     "metadata": {
      "needs_background": "light"
     },
     "output_type": "display_data"
    }
   ],
   "source": [
    "# 'using the 'conv' function, lets compute the convolution and plot it with 'plot_signal'\n",
    "\n",
    "n_g, g = conv(n_s, s, n_h, h)\n",
    "plot_signal(n_g, g, xlabel='n', ylabel='g')"
   ]
  },
  {
   "cell_type": "markdown",
   "metadata": {},
   "source": [
    "### d) s[n] = n/4[ε[n]−ε[n−6]] , h[n] = 2(ε[n+2]−ε[n−3])"
   ]
  },
  {
   "cell_type": "code",
   "execution_count": 159,
   "metadata": {},
   "outputs": [],
   "source": [
    "# define the index arrays s_n and h_n\n",
    "\n",
    "n_s = lrange(0, 6)\n",
    "n_h = lrange(-2, 3)"
   ]
  },
  {
   "cell_type": "code",
   "execution_count": 160,
   "metadata": {},
   "outputs": [
    {
     "data": {
      "text/plain": [
       "array([0, 1, 2, 3, 4, 5, 6])"
      ]
     },
     "execution_count": 160,
     "metadata": {},
     "output_type": "execute_result"
    }
   ],
   "source": [
    "n_s"
   ]
  },
  {
   "cell_type": "code",
   "execution_count": 161,
   "metadata": {},
   "outputs": [
    {
     "data": {
      "text/plain": [
       "array([-2, -1,  0,  1,  2,  3])"
      ]
     },
     "execution_count": 161,
     "metadata": {},
     "output_type": "execute_result"
    }
   ],
   "source": [
    "n_h"
   ]
  },
  {
   "cell_type": "code",
   "execution_count": 162,
   "metadata": {},
   "outputs": [],
   "source": [
    "# Define the value arrays for both signals\n",
    "\n",
    "s = (n_s/4)*(step(n_s)-step(n_s-6))\n",
    "\n",
    "h = 2*(step(n_h+2)-step(n_h-3))"
   ]
  },
  {
   "cell_type": "code",
   "execution_count": 163,
   "metadata": {},
   "outputs": [
    {
     "data": {
      "text/plain": [
       "array([0.  , 0.25, 0.5 , 0.75, 1.  , 1.25, 0.  ])"
      ]
     },
     "execution_count": 163,
     "metadata": {},
     "output_type": "execute_result"
    }
   ],
   "source": [
    "s"
   ]
  },
  {
   "cell_type": "code",
   "execution_count": 164,
   "metadata": {},
   "outputs": [
    {
     "data": {
      "text/plain": [
       "array([2., 2., 2., 2., 2., 0.])"
      ]
     },
     "execution_count": 164,
     "metadata": {},
     "output_type": "execute_result"
    }
   ],
   "source": [
    "h"
   ]
  },
  {
   "cell_type": "code",
   "execution_count": 165,
   "metadata": {},
   "outputs": [
    {
     "data": {
      "text/plain": [
       "(<Figure size 432x288 with 1 Axes>,\n",
       " <AxesSubplot:xlabel='$ n \\\\rightarrow$', ylabel='$ s[n] \\\\rightarrow$'>)"
      ]
     },
     "execution_count": 165,
     "metadata": {},
     "output_type": "execute_result"
    },
    {
     "data": {
      "image/png": "[encoded data removed]",
      "text/plain": [
       "<Figure size 432x288 with 1 Axes>"
      ]
     },
     "metadata": {
      "needs_background": "light"
     },
     "output_type": "display_data"
    }
   ],
   "source": [
    "# plot signal s[n]\n",
    "\n",
    "plot_signal(n_s, s, xlabel = 'n')"
   ]
  },
  {
   "cell_type": "code",
   "execution_count": 166,
   "metadata": {},
   "outputs": [
    {
     "data": {
      "text/plain": [
       "(<Figure size 432x288 with 1 Axes>,\n",
       " <AxesSubplot:xlabel='$ n \\\\rightarrow$', ylabel='$ h[n] \\\\rightarrow$'>)"
      ]
     },
     "execution_count": 166,
     "metadata": {},
     "output_type": "execute_result"
    },
    {
     "data": {
      "image/png": "[encoded data removed]",
      "text/plain": [
       "<Figure size 432x288 with 1 Axes>"
      ]
     },
     "metadata": {
      "needs_background": "light"
     },
     "output_type": "display_data"
    }
   ],
   "source": [
    "# plot signal h[n]\n",
    "\n",
    "plot_signal(n_h, h, xlabel = 'n', ylabel = 'h')"
   ]
  },
  {
   "cell_type": "code",
   "execution_count": 167,
   "metadata": {},
   "outputs": [
    {
     "data": {
      "text/plain": [
       "(<Figure size 432x288 with 1 Axes>,\n",
       " <AxesSubplot:xlabel='$ n \\\\rightarrow$', ylabel='$ g[n] \\\\rightarrow$'>)"
      ]
     },
     "execution_count": 167,
     "metadata": {},
     "output_type": "execute_result"
    },
    {
     "data": {
      "image/png": "[encoded data removed]",
      "text/plain": [
       "<Figure size 432x288 with 1 Axes>"
      ]
     },
     "metadata": {
      "needs_background": "light"
     },
     "output_type": "display_data"
    }
   ],
   "source": [
    "# 'using the 'conv' function, lets compute the convolution and plot it with 'plot_signal'\n",
    "\n",
    "n_g, g = conv(n_s, s, n_h, h)\n",
    "plot_signal(n_g, g, xlabel='n', ylabel='g')"
   ]
  },
  {
   "cell_type": "code",
   "execution_count": null,
   "metadata": {},
   "outputs": [],
   "source": []
  },
  {
   "cell_type": "code",
   "execution_count": null,
   "metadata": {},
   "outputs": [],
   "source": []
  },
  {
   "cell_type": "code",
   "execution_count": null,
   "metadata": {},
   "outputs": [],
   "source": []
  },
  {
   "cell_type": "markdown",
   "metadata": {},
   "source": [
    "### When you run the command in the next code cell, the lab/homework will be finished!\n",
    "### Execute the next code cell only if you really want to finish this lab/homework!\n",
    "### This code cell should be your last code cell!\n"
   ]
  },
  {
   "cell_type": "code",
   "execution_count": 168,
   "metadata": {},
   "outputs": [
    {
     "name": "stdout",
     "output_type": "stream",
     "text": [
      "You are about to finish Homework 1 !\n",
      "This will finish output to the log file, such that you should not enter any command after finishing!\n",
      "\n",
      "Thus, proceed only if you are sure that you are really finished!!\n",
      "Do you really want to finish? yes/no: yes\n",
      "Finishing Homework 1 for matriculation number 11144732\n",
      "Homework 1  finished at: 2021-11-08 10:25:32.892043\n",
      "Finished after: 11:01:52.796126\n",
      "Info:  2562463468\n",
      "Congratulations! You have just finished Homework 1 !\n",
      " \n",
      "In your current working directory you will find the following Log file:\n",
      " \n",
      "Log file:  dsp_hw1_11144732.log\n",
      " \n",
      "Please save this iPython notebook one more time!\n",
      " \n",
      "Please upload both files to the ILIAS server:\n",
      "If this is a homework, use the 'Homework' folder of the ILIAS DSP internet pages!\n",
      "If this is a lab, use the 'Lab' folder of the ILIAS DSP internet pages!\n",
      " \n",
      "In either case you will be notified on the status of your submission via email.\n",
      "\n",
      "So stay tuned!\n",
      "Harald Elders-Boll\n"
     ]
    }
   ],
   "source": [
    "# finish homework\n",
    "dsp_hw1_finish()"
   ]
  },
  {
   "cell_type": "markdown",
   "metadata": {},
   "source": [
    "### Please save this notebook one more time!"
   ]
  }
 ],
 "metadata": {
  "day": "07",
  "fname": "dsp_hw1_11144732.ipynb",
  "fpath": "C:\\Users\\HP-ZBook\\OneDrive\\OneDrive - th-koeln.de\\Documents\\TH KÖLN AND HS BONN\\WINTER 2021-2022\\DSP\\DSP TH KOLN\\FOLDER PYTHON (LAB and HOMEWORK)\\DSP",
  "hour": "23",
  "kernelspec": {
   "display_name": "Python 3",
   "language": "python",
   "name": "python3"
  },
  "language_info": {
   "codemirror_mode": {
    "name": "ipython",
    "version": 3
   },
   "file_extension": ".py",
   "mimetype": "text/x-python",
   "name": "python",
   "nbconvert_exporter": "python",
   "pygments_lexer": "ipython3",
   "version": "3.8.5"
  },
  "microsecond": "256246",
  "minute": "22",
  "month": "11",
  "rn": 11144732,
  "second": "09",
  "year": "2021"
 },
 "nbformat": 4,
 "nbformat_minor": 4
}
