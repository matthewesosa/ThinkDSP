{
 "cells": [
  {
   "cell_type": "markdown",
   "metadata": {},
   "source": [
    "# DSP Homework 1, matriculation number: 11143654\n",
    "Generated on: 09.12.2020 at: 23:16:54 h.\n",
    "### Please execute the next code cells to start your lab/homework!"
   ]
  },
  {
   "cell_type": "code",
   "execution_count": 1,
   "metadata": {},
   "outputs": [],
   "source": [
    "# iPython magic command to load the matplotlib library and\n",
    "# select the notebook graphics frontend\n",
    "%matplotlib inline\n",
    "# import necessary functions from the thkdss library\n",
    "from thkdsp import *\n",
    "from dsplab import *\n",
    "# import audio related functions from the audio submodule\n",
    "from thkdsp.audio import play_signal, wav2dtsignal\n",
    "# import some definitions and functions from numpy, the python library for Matlab-like array processing\n",
    "from numpy import arange, shape, array, zeros, size, ones, isscalar"
   ]
  },
  {
   "cell_type": "code",
   "execution_count": 2,
   "metadata": {},
   "outputs": [],
   "source": [
    "# set font for Matplotlib to 'Times New Roman' if that is available\n",
    "set_mpl_font()\n",
    "# set default font size for Matplotlib, change to different value if labels are too large or too small\n",
    "set_mpl_fontsize(16)"
   ]
  },
  {
   "cell_type": "code",
   "execution_count": 3,
   "metadata": {},
   "outputs": [
    {
     "name": "stdout",
     "output_type": "stream",
     "text": [
      "TH Köln University of Applied Sciences\n",
      "Course:  Digital Signal Processing\n",
      "Homework 1\n",
      " \n",
      "You are about to start Homework 1 !\n",
      "Please read and follow the instructions exactly as stated!\n",
      " \n",
      "You will be asked to enter your matriculation number.\n",
      "Please make sure that you enter it correctly!\n",
      " \n",
      "Please enter your 8-digit matriculation number: 11143654\n",
      "Your matriculation number is:  11143654\n",
      "Is this correct? yes/no: yes\n",
      "Starting output to log file for Homework 1 for matriculation number: 11143654\n",
      "dsp_hw1_11143654.log\n",
      "Activating auto-logging. Current session state plus future input saved.\n",
      "Filename       : dsp_hw1_11143654.log\n",
      "Mode           : append\n",
      "Output logging : True\n",
      "Raw input log  : True\n",
      "Timestamping   : True\n",
      "State          : active\n",
      "Info: 5400436791\n",
      "Homework 1 for matriculation number 11143654 started at: 2020-12-09 23:18:45.661147\n"
     ]
    }
   ],
   "source": [
    "# start homework\n",
    "dsp_hw1_start()"
   ]
  },
  {
   "cell_type": "markdown",
   "metadata": {},
   "source": [
    "### Enter as many code cells as you need below!\n",
    "### Note: Your notebook needs to be modular enough, i.e. it has to consist of enough code cells!\n",
    "### Otherwise, your submission will be considered as not sufficient!\n"
   ]
  },
  {
   "cell_type": "code",
   "execution_count": 4,
   "metadata": {},
   "outputs": [],
   "source": [
    "from thkdsp import *"
   ]
  },
  {
   "cell_type": "code",
   "execution_count": 5,
   "metadata": {},
   "outputs": [],
   "source": [
    "import numpy as np"
   ]
  },
  {
   "cell_type": "code",
   "execution_count": 6,
   "metadata": {},
   "outputs": [],
   "source": [
    "s= array([2,-4,5,3,-1,-2,6]) #representing the array values of the first input signal"
   ]
  },
  {
   "cell_type": "code",
   "execution_count": 7,
   "metadata": {},
   "outputs": [],
   "source": [
    "z_s = 3"
   ]
  },
  {
   "cell_type": "code",
   "execution_count": 8,
   "metadata": {},
   "outputs": [],
   "source": [
    "n_s = lrange(-z_s, z_s) #represnting the index array of the first signal input"
   ]
  },
  {
   "cell_type": "code",
   "execution_count": 9,
   "metadata": {},
   "outputs": [
    {
     "name": "stdout",
     "output_type": "stream",
     "text": [
      "[-3 -2 -1  0  1  2  3]\n"
     ]
    }
   ],
   "source": [
    "print (n_s)\n"
   ]
  },
  {
   "cell_type": "code",
   "execution_count": 10,
   "metadata": {},
   "outputs": [
    {
     "data": {
      "text/plain": [
       "(<Figure size 432x288 with 1 Axes>,\n",
       " <matplotlib.axes._subplots.AxesSubplot at 0x234b7a371f0>)"
      ]
     },
     "execution_count": 10,
     "metadata": {},
     "output_type": "execute_result"
    },
    {
     "data": {
      "image/png": "[encoded data removed]",
      "text/plain": [
       "<Figure size 432x288 with 1 Axes>"
      ]
     },
     "metadata": {},
     "output_type": "display_data"
    }
   ],
   "source": [
    "#plotting the first signal \n",
    "plot_signal(n_s, s, xlabel='n') "
   ]
  },
  {
   "cell_type": "code",
   "execution_count": 11,
   "metadata": {},
   "outputs": [],
   "source": [
    "h= array([1,-1,1,-1,1]) #declaring the values array of the second signal input\n"
   ]
  },
  {
   "cell_type": "code",
   "execution_count": 12,
   "metadata": {},
   "outputs": [],
   "source": [
    "n_h = arange(-1, 4) #represnting the index array of the second signal input\n"
   ]
  },
  {
   "cell_type": "code",
   "execution_count": 13,
   "metadata": {},
   "outputs": [
    {
     "name": "stdout",
     "output_type": "stream",
     "text": [
      "[-1  0  1  2  3]\n"
     ]
    }
   ],
   "source": [
    "print (n_h)"
   ]
  },
  {
   "cell_type": "code",
   "execution_count": 14,
   "metadata": {},
   "outputs": [
    {
     "data": {
      "text/plain": [
       "(<Figure size 432x288 with 1 Axes>,\n",
       " <matplotlib.axes._subplots.AxesSubplot at 0x234b7ba9e20>)"
      ]
     },
     "execution_count": 14,
     "metadata": {},
     "output_type": "execute_result"
    },
    {
     "data": {
      "image/png": "[encoded data removed]",
      "text/plain": [
       "<Figure size 432x288 with 1 Axes>"
      ]
     },
     "metadata": {},
     "output_type": "display_data"
    }
   ],
   "source": [
    "#plotting the second signal while labelling the x-axis n, and the y axis, h\n",
    "plot_signal(n_h, h, xlabel='n', ylabel='h') "
   ]
  },
  {
   "cell_type": "code",
   "execution_count": 15,
   "metadata": {},
   "outputs": [
    {
     "name": "stdout",
     "output_type": "stream",
     "text": [
      "[ 2 -6 11 -8  7 -7  9 -4  7 -8  6]\n"
     ]
    }
   ],
   "source": [
    "#declaring the convoluted signals\n",
    "g = conv(s,h) \n",
    "\n",
    "print (g)"
   ]
  },
  {
   "cell_type": "code",
   "execution_count": 16,
   "metadata": {},
   "outputs": [],
   "source": [
    "g_n, g = conv(n_s, s, n_h, h)"
   ]
  },
  {
   "cell_type": "code",
   "execution_count": 17,
   "metadata": {},
   "outputs": [
    {
     "data": {
      "text/plain": [
       "(<Figure size 432x288 with 1 Axes>,\n",
       " <matplotlib.axes._subplots.AxesSubplot at 0x234b7bf2700>)"
      ]
     },
     "execution_count": 17,
     "metadata": {},
     "output_type": "execute_result"
    },
    {
     "data": {
      "image/png": "[encoded data removed]",
      "text/plain": [
       "<Figure size 432x288 with 1 Axes>"
      ]
     },
     "metadata": {},
     "output_type": "display_data"
    }
   ],
   "source": [
    "#the plot_signal funtion plots the plots of the convoluted signals declared with x-axis n and y axis g\n",
    "plot_signal(g_n, g, xlabel='n', ylabel='g')"
   ]
  },
  {
   "cell_type": "code",
   "execution_count": 18,
   "metadata": {},
   "outputs": [],
   "source": [
    "#Solving part b of the excercie 2.4"
   ]
  },
  {
   "cell_type": "code",
   "execution_count": 19,
   "metadata": {},
   "outputs": [
    {
     "name": "stdout",
     "output_type": "stream",
     "text": [
      "[-2 -1  0  1  2]\n"
     ]
    },
    {
     "data": {
      "text/plain": [
       "(<Figure size 432x288 with 1 Axes>,\n",
       " <matplotlib.axes._subplots.AxesSubplot at 0x234b7c5e1c0>)"
      ]
     },
     "execution_count": 19,
     "metadata": {},
     "output_type": "execute_result"
    },
    {
     "data": {
      "image/png": "[encoded data removed]",
      "text/plain": [
       "<Figure size 432x288 with 1 Axes>"
      ]
     },
     "metadata": {},
     "output_type": "display_data"
    }
   ],
   "source": [
    "z_s = 2\n",
    "\n",
    "#represents the index array of the first input signal\n",
    "s_n = lrange(-z_s, z_s) \n",
    "\n",
    "#array vlaues of the first input signal\n",
    "s = array([1,1,0,1,1]) \n",
    "\n",
    "print(s_n) \n",
    "\n",
    "#the plot_signal funtion plots the plot of the first signal\n",
    "plot_signal(s_n, s, xlabel='n') "
   ]
  },
  {
   "cell_type": "code",
   "execution_count": 20,
   "metadata": {},
   "outputs": [
    {
     "name": "stdout",
     "output_type": "stream",
     "text": [
      "[-1  0  1  2  3]\n"
     ]
    },
    {
     "data": {
      "text/plain": [
       "(<Figure size 432x288 with 1 Axes>,\n",
       " <matplotlib.axes._subplots.AxesSubplot at 0x234b7c4cd00>)"
      ]
     },
     "execution_count": 20,
     "metadata": {},
     "output_type": "execute_result"
    },
    {
     "data": {
      "image/png": "[encoded data removed]",
      "text/plain": [
       "<Figure size 432x288 with 1 Axes>"
      ]
     },
     "metadata": {},
     "output_type": "display_data"
    }
   ],
   "source": [
    "#values array of the second input signal as given in the problem\n",
    "h = array([1,-2,-3,4])\n",
    "\n",
    "#index array of the second signal input \n",
    "h_n = arange(-3, 1) \n",
    "\n",
    "#displays the values of n_h\n",
    "print(n_h) \n",
    "\n",
    "#plot_signal helps plots the second signal input as usual with 'n' and 'h' on x and y axis respectively\n",
    "plot_signal(h_n, h, xlabel='n', ylabel='h') "
   ]
  },
  {
   "cell_type": "code",
   "execution_count": 21,
   "metadata": {},
   "outputs": [
    {
     "name": "stdout",
     "output_type": "stream",
     "text": [
      "Plotting the convoluted signals\n"
     ]
    }
   ],
   "source": [
    "print (\"Plotting the convoluted signals\")"
   ]
  },
  {
   "cell_type": "code",
   "execution_count": 22,
   "metadata": {},
   "outputs": [],
   "source": [
    "#declaring the convoluted signals\n",
    "g = conv(s,h) "
   ]
  },
  {
   "cell_type": "code",
   "execution_count": 23,
   "metadata": {},
   "outputs": [
    {
     "name": "stdout",
     "output_type": "stream",
     "text": [
      "[ 1 -1 -5  2  3 -5  1  4]\n"
     ]
    }
   ],
   "source": [
    "#displays the values of g\n",
    "print (g) \n"
   ]
  },
  {
   "cell_type": "code",
   "execution_count": 24,
   "metadata": {},
   "outputs": [],
   "source": [
    "g_n, g = conv(s_n, s, h_n, h)"
   ]
  },
  {
   "cell_type": "code",
   "execution_count": 25,
   "metadata": {},
   "outputs": [
    {
     "data": {
      "text/plain": [
       "(<Figure size 432x288 with 1 Axes>,\n",
       " <matplotlib.axes._subplots.AxesSubplot at 0x234b7d10eb0>)"
      ]
     },
     "execution_count": 25,
     "metadata": {},
     "output_type": "execute_result"
    },
    {
     "data": {
      "image/png": "[encoded data removed]",
      "text/plain": [
       "<Figure size 432x288 with 1 Axes>"
      ]
     },
     "metadata": {},
     "output_type": "display_data"
    }
   ],
   "source": [
    "#plotting the convoluted signals with 'n' on the x-axis and 'g' on the y a-axis\n",
    "plot_signal(g_n, g, xlabel='n', ylabel='g')"
   ]
  },
  {
   "cell_type": "code",
   "execution_count": 27,
   "metadata": {},
   "outputs": [
    {
     "name": "stdout",
     "output_type": "stream",
     "text": [
      "Solving part C of problem 2.4\n"
     ]
    }
   ],
   "source": [
    "print(\"Solving part C of problem 2.4\")"
   ]
  },
  {
   "cell_type": "code",
   "execution_count": 29,
   "metadata": {},
   "outputs": [],
   "source": [
    "#value array of the first signal input from the excercise\n",
    "s = ((1/4)**-s_n)*(step(s_n + 1) - step(s_n -4))\n",
    "\n",
    "#declaring the index array of the first signal input\n",
    "s_n = lrange(-1, 3) \n"
   ]
  },
  {
   "cell_type": "code",
   "execution_count": 30,
   "metadata": {},
   "outputs": [
    {
     "data": {
      "text/plain": [
       "(<Figure size 432x288 with 1 Axes>,\n",
       " <matplotlib.axes._subplots.AxesSubplot at 0x234b7fbdd30>)"
      ]
     },
     "execution_count": 30,
     "metadata": {},
     "output_type": "execute_result"
    },
    {
     "data": {
      "image/png": "[encoded data removed]",
      "text/plain": [
       "<Figure size 432x288 with 1 Axes>"
      ]
     },
     "metadata": {},
     "output_type": "display_data"
    }
   ],
   "source": [
    "plot_signal(s_n, s, xlabel='n')"
   ]
  },
  {
   "cell_type": "code",
   "execution_count": 31,
   "metadata": {},
   "outputs": [
    {
     "data": {
      "text/plain": [
       "(<Figure size 432x288 with 1 Axes>,\n",
       " <matplotlib.axes._subplots.AxesSubplot at 0x234b8ffc280>)"
      ]
     },
     "execution_count": 31,
     "metadata": {},
     "output_type": "execute_result"
    },
    {
     "data": {
      "image/png": "[encoded data removed]",
      "text/plain": [
       "<Figure size 432x288 with 1 Axes>"
      ]
     },
     "metadata": {},
     "output_type": "display_data"
    }
   ],
   "source": [
    "#reprensinting the index array of the second signal input\n",
    "h_n = lrange(0, 4) \n",
    "\n",
    "#declaring the values of array of the second signal \n",
    "h = step(h_n) - step(h_n-5)  \n",
    "\n",
    "#plotting the second signal using plot_signal funtion\n",
    "plot_signal(h_n, h, xlabel='n', ylabel='h') "
   ]
  },
  {
   "cell_type": "code",
   "execution_count": 32,
   "metadata": {},
   "outputs": [
    {
     "name": "stdout",
     "output_type": "stream",
     "text": [
      "For the convoltion, g_n of the first and second signals in C,\n"
     ]
    }
   ],
   "source": [
    "print (\"For the convoltion, g_n of the first and second signals in C,\")"
   ]
  },
  {
   "cell_type": "code",
   "execution_count": 33,
   "metadata": {},
   "outputs": [],
   "source": [
    "g_n, g = conv(s_n,s , h_n, h)"
   ]
  },
  {
   "cell_type": "code",
   "execution_count": 34,
   "metadata": {},
   "outputs": [
    {
     "name": "stdout",
     "output_type": "stream",
     "text": [
      "[ 0.25  1.25  5.25 21.25 85.25 85.   84.   80.   64.  ]\n"
     ]
    },
    {
     "data": {
      "text/plain": [
       "(<Figure size 432x288 with 1 Axes>,\n",
       " <matplotlib.axes._subplots.AxesSubplot at 0x234b904f820>)"
      ]
     },
     "execution_count": 34,
     "metadata": {},
     "output_type": "execute_result"
    },
    {
     "data": {
      "image/png": "[encoded data removed]",
      "text/plain": [
       "<Figure size 432x288 with 1 Axes>"
      ]
     },
     "metadata": {},
     "output_type": "display_data"
    }
   ],
   "source": [
    "#displays the vlaues of g\n",
    "print (g) \n",
    "\n",
    "#Helps plot the convoluted signals with 'n' on x-axis and 'g' on y-axis\n",
    "plot_signal(g_n, g, xlabel='n', ylabel='g') "
   ]
  },
  {
   "cell_type": "code",
   "execution_count": 35,
   "metadata": {},
   "outputs": [],
   "source": [
    "#Solving part d of the excercise 2.4"
   ]
  },
  {
   "cell_type": "code",
   "execution_count": 36,
   "metadata": {},
   "outputs": [
    {
     "data": {
      "text/plain": [
       "(<Figure size 432x288 with 1 Axes>,\n",
       " <matplotlib.axes._subplots.AxesSubplot at 0x234b90e1280>)"
      ]
     },
     "execution_count": 36,
     "metadata": {},
     "output_type": "execute_result"
    },
    {
     "data": {
      "image/png": "[encoded data removed]",
      "text/plain": [
       "<Figure size 432x288 with 1 Axes>"
      ]
     },
     "metadata": {},
     "output_type": "display_data"
    }
   ],
   "source": [
    "#representing the index array of the first signal input\n",
    "s_n = lrange(1,5) \n",
    "\n",
    "#values of the array of the first signal from the excercise \n",
    "s = (s_n/4)*(step(s_n) - step(s_n - 6)) \n",
    "\n",
    "#using plot_signal funtion to plot the first signal\n",
    "plot_signal(s_n, s, xlabel='n') \n"
   ]
  },
  {
   "cell_type": "code",
   "execution_count": 38,
   "metadata": {},
   "outputs": [],
   "source": [
    "#representing the index array of the second signal input\n",
    "h_n = lrange(-2, 2) "
   ]
  },
  {
   "cell_type": "code",
   "execution_count": 40,
   "metadata": {},
   "outputs": [
    {
     "data": {
      "text/plain": [
       "(<Figure size 432x288 with 1 Axes>,\n",
       " <matplotlib.axes._subplots.AxesSubplot at 0x234b9150c10>)"
      ]
     },
     "execution_count": 40,
     "metadata": {},
     "output_type": "execute_result"
    },
    {
     "data": {
      "image/png": "[encoded data removed]",
      "text/plain": [
       "<Figure size 432x288 with 1 Axes>"
      ]
     },
     "metadata": {},
     "output_type": "display_data"
    }
   ],
   "source": [
    "#values of the array of the second signal input from the excercise\n",
    "h = 2*(step(h_n +2) - step(h_n-3)) \n",
    "\n",
    "#plotting the second signal using plot_signal funtion as usual\n",
    "plot_signal(h_n, h, xlabel='n', ylabel='h') "
   ]
  },
  {
   "cell_type": "code",
   "execution_count": 41,
   "metadata": {},
   "outputs": [],
   "source": [
    "#Plotting the convolution of the 2 signals"
   ]
  },
  {
   "cell_type": "code",
   "execution_count": 42,
   "metadata": {},
   "outputs": [],
   "source": [
    "g_n, g = conv(s_n,s , h_n, h)"
   ]
  },
  {
   "cell_type": "code",
   "execution_count": 43,
   "metadata": {},
   "outputs": [
    {
     "name": "stdout",
     "output_type": "stream",
     "text": [
      "[0.5 1.5 3.  5.  7.5 7.  6.  4.5 2.5]\n"
     ]
    },
    {
     "data": {
      "text/plain": [
       "(<Figure size 432x288 with 1 Axes>,\n",
       " <matplotlib.axes._subplots.AxesSubplot at 0x234b91a6370>)"
      ]
     },
     "execution_count": 43,
     "metadata": {},
     "output_type": "execute_result"
    },
    {
     "data": {
      "image/png": "[encoded data removed]",
      "text/plain": [
       "<Figure size 432x288 with 1 Axes>"
      ]
     },
     "metadata": {},
     "output_type": "display_data"
    }
   ],
   "source": [
    "#Displaying the convoluted signals\n",
    "print (g) \n",
    "\n",
    "#plotting the convoluted signals using the plot_signal funtion\n",
    "plot_signal(g_n, g, xlabel='n', ylabel='g') "
   ]
  },
  {
   "cell_type": "markdown",
   "metadata": {},
   "source": [
    "### When you run the command in the next code cell, the lab/homework will be finished!\n",
    "### Execute the next code cell only if you really want to finish this lab/homework!\n",
    "### This code cell should be your last code cell!\n"
   ]
  },
  {
   "cell_type": "code",
   "execution_count": 44,
   "metadata": {},
   "outputs": [
    {
     "name": "stdout",
     "output_type": "stream",
     "text": [
      "You are about to finish Homework 1 !\n",
      "This will finish output to the log file, such that you should not enter any command after finishing!\n",
      "\n",
      "Thus, proceed only if you are sure that you are really finished!!\n",
      "Do you really want to finish? yes/no: 11143654\n",
      "Please enter \"yes\" or \"no\"!\n",
      "Do you really want to finish? yes/no: yes\n",
      "Finishing Homework 1 for matriculation number 11143654\n",
      "Homework 1  finished at: 2020-12-10 01:22:37.702670\n",
      "Finished after: 2:03:52.041523\n",
      "Info:  5400436791\n",
      "Congratulations! You have just finished Homework 1 !\n",
      " \n",
      "In your current working directory you will find the following Log file:\n",
      " \n",
      "Log file:  dsp_hw1_11143654.log\n",
      " \n",
      "Please save this iPython notebook one more time!\n",
      " \n",
      "Please upload both files to the ILIAS server:\n",
      "If this is a homework, use the 'Homework' folder of the ILIAS DSP internet pages!\n",
      "If this is a lab, use the 'Lab' folder of the ILIAS DSP internet pages!\n",
      " \n",
      "In either case you will be notified on the status of your submission via email.\n",
      "\n",
      "So stay tuned!\n",
      "Harald Elders-Boll\n"
     ]
    }
   ],
   "source": [
    "# finish homework\n",
    "dsp_hw1_finish()"
   ]
  },
  {
   "cell_type": "markdown",
   "metadata": {},
   "source": [
    "### Please save this notebook one more time!"
   ]
  }
 ],
 "metadata": {
  "day": "09",
  "fname": "dsp_hw1_11143654.ipynb",
  "fpath": "C:\\Users\\Samson\\Desktop\\Dsp_lab\\DSP",
  "hour": "23",
  "kernelspec": {
   "display_name": "Python 3",
   "language": "python",
   "name": "python3"
  },
  "language_info": {
   "codemirror_mode": {
    "name": "ipython",
    "version": 3
   },
   "file_extension": ".py",
   "mimetype": "text/x-python",
   "name": "python",
   "nbconvert_exporter": "python",
   "pygments_lexer": "ipython3",
   "version": "3.8.3"
  },
  "microsecond": "540043",
  "minute": "16",
  "month": "12",
  "rn": 11143654,
  "second": "54",
  "year": "2020"
 },
 "nbformat": 4,
 "nbformat_minor": 4
}
