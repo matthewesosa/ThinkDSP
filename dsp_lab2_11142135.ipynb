# -*- coding: utf-8 -*-
"""
Created on Sun Jun 14 07:12:14 2020

@author: LENOVO
"""
from thkdsp.dsplab.lab2 import *
from thkdsp.audio import *
from numpy import *
start_dsp_lab2()