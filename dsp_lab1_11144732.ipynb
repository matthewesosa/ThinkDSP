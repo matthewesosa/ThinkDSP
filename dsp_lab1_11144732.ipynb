{
 "cells": [
  {
   "cell_type": "markdown",
   "metadata": {},
   "source": [
    "# DSP Lab 1: Probability and Random Variables, matriculation number: 11144732\n",
    "Generated on: 23.10.2021 at: 22:09:35 h.\n",
    "### Please execute the next code cells to start your lab/homework!"
   ]
  },
  {
   "cell_type": "code",
   "execution_count": 1,
   "metadata": {},
   "outputs": [],
   "source": [
    "# iPython magic command to load the matplotlib library and\n",
    "# select the notebook graphics frontend\n",
    "%matplotlib inline\n",
    "# import necessary functions from the thkdss library\n",
    "from thkdsp import *\n",
    "from dsplab import *\n",
    "# import audio related functions from the audio submodule\n",
    "from thkdsp.audio import play_signal, wav2dtsignal\n",
    "# import some definitions and functions from numpy, the python library for Matlab-like array processing\n",
    "from numpy import arange, shape, array, zeros, size, ones, isscalar"
   ]
  },
  {
   "cell_type": "code",
   "execution_count": 2,
   "metadata": {},
   "outputs": [],
   "source": [
    "# set font for Matplotlib to 'Times New Roman' if that is available\n",
    "set_mpl_font()\n",
    "# set default font size for Matplotlib, change to different value if labels are too large or too small\n",
    "set_mpl_fontsize(16)"
   ]
  },
  {
   "cell_type": "code",
   "execution_count": 3,
   "metadata": {},
   "outputs": [
    {
     "name": "stdout",
     "output_type": "stream",
     "text": [
      "TH Köln University of Applied Sciences\n",
      "Course:  Digital Signal Processing\n",
      "Lab 1: Probability and Random Variables\n",
      " \n",
      "You are about to start Lab 1: Probability and Random Variables !\n",
      "Please read and follow the instructions exactly as stated!\n",
      " \n",
      "You will be asked to enter your matriculation number.\n",
      "Please make sure that you enter it correctly!\n",
      " \n",
      "Please enter your 8-digit matriculation number: 11144732\n",
      "Your matriculation number is:  11144732\n",
      "Is this correct? yes/no: yes\n",
      "Starting output to log file for Lab 1: Probability and Random Variables for matriculation number: 11144732\n",
      "dsp_lab1_11144732.log\n",
      "Activating auto-logging. Current session state plus future input saved.\n",
      "Filename       : dsp_lab1_11144732.log\n",
      "Mode           : append\n",
      "Output logging : True\n",
      "Raw input log  : True\n",
      "Timestamping   : True\n",
      "State          : active\n",
      "Info: 2562463468\n",
      "Lab 1: Probability and Random Variables for matriculation number 11144732 continued at: 2021-10-28 10:14:08.019457\n"
     ]
    }
   ],
   "source": [
    "# start homework\n",
    "dsp_lab1_start()"
   ]
  },
  {
   "cell_type": "markdown",
   "metadata": {},
   "source": [
    "### Enter as many code cells as you need below!\n",
    "### Note: Your notebook needs to be modular enough, i.e. it has to consist of enough code cells!\n",
    "### Otherwise, your submission will be considered as not sufficient!\n"
   ]
  },
  {
   "cell_type": "code",
   "execution_count": 1487,
   "metadata": {},
   "outputs": [],
   "source": [
    "from dsplab.lab1 import *\n",
    "import pandas as pd\n",
    "from pandas import DataFrame\n",
    "from numpy.random import uniform, normal"
   ]
  },
  {
   "cell_type": "markdown",
   "metadata": {},
   "source": [
    "## Experiment 1: Binary-symmetric channel (BSC)"
   ]
  },
  {
   "cell_type": "code",
   "execution_count": 1488,
   "metadata": {},
   "outputs": [],
   "source": [
    "# P0 = P(S0) = Probability that the source generates a \"0\"\n",
    "# Pe = error probability\n",
    "\n",
    "P0, Pe = gen_probs()"
   ]
  },
  {
   "cell_type": "code",
   "execution_count": 1489,
   "metadata": {},
   "outputs": [
    {
     "data": {
      "text/plain": [
       "0.019999999999999997"
      ]
     },
     "execution_count": 1489,
     "metadata": {},
     "output_type": "execute_result"
    }
   ],
   "source": [
    "Pe"
   ]
  },
  {
   "cell_type": "code",
   "execution_count": 1490,
   "metadata": {},
   "outputs": [
    {
     "data": {
      "text/plain": [
       "0.8"
      ]
     },
     "execution_count": 1490,
     "metadata": {},
     "output_type": "execute_result"
    }
   ],
   "source": [
    "P0"
   ]
  },
  {
   "cell_type": "markdown",
   "metadata": {},
   "source": [
    "### Substitute these values into your expression from the pre-lab preparation problem 5.1 and calculate the values for the probability of receiving a \"1“ and the probability that a \"1“ was transmitted if a \"1\" has been received:"
   ]
  },
  {
   "cell_type": "code",
   "execution_count": 1491,
   "metadata": {},
   "outputs": [
    {
     "data": {
      "text/plain": [
       "0.21199999999999994"
      ]
     },
     "execution_count": 1491,
     "metadata": {},
     "output_type": "execute_result"
    }
   ],
   "source": [
    "#PR1 = Probability of receiving a 1\n",
    "\n",
    "PR1 = (Pe*P0) + (1-Pe)*(1-P0)\n",
    "PR1"
   ]
  },
  {
   "cell_type": "code",
   "execution_count": 1492,
   "metadata": {},
   "outputs": [
    {
     "data": {
      "text/plain": [
       "0.9245283018867925"
      ]
     },
     "execution_count": 1492,
     "metadata": {},
     "output_type": "execute_result"
    }
   ],
   "source": [
    "# PS1_R1 = P(S1|R1) = the probability that a \"1“ was transmitted if a \"1\" has been received\n",
    "\n",
    "PS1_R1 = ((1-Pe)*(1-P0))/((1-Pe)*(1-P0)+(Pe*P0))\n",
    "PS1_R1"
   ]
  },
  {
   "cell_type": "markdown",
   "metadata": {},
   "source": [
    "### Estimate the probabilities P(R1) and P(S1|R1) for an increasing number of trials M.\n",
    "### Hint: Define a variable M in the IPython console and set it to 100, first. Then proceed as explained below:\n"
   ]
  },
  {
   "cell_type": "code",
   "execution_count": 1493,
   "metadata": {},
   "outputs": [],
   "source": [
    "M = 100"
   ]
  },
  {
   "cell_type": "markdown",
   "metadata": {},
   "source": [
    "### Generate an array tx of size M for the transmitted symbols using the function random_binary:"
   ]
  },
  {
   "cell_type": "code",
   "execution_count": 1494,
   "metadata": {},
   "outputs": [
    {
     "data": {
      "text/plain": [
       "array([1, 0, 0, 0, 0, 0, 0, 0, 0, 1, 0, 0, 0, 0, 0, 0, 0, 0, 0, 0, 1, 0,\n",
       "       1, 0, 0, 1, 1, 0, 0, 0, 0, 0, 0, 0, 0, 0, 1, 0, 0, 0, 0, 0, 0, 0,\n",
       "       0, 1, 1, 1, 0, 0, 0, 0, 0, 0, 0, 0, 0, 0, 1, 1, 1, 0, 0, 0, 0, 0,\n",
       "       0, 1, 0, 0, 1, 0, 0, 0, 0, 0, 0, 0, 1, 0, 0, 0, 0, 0, 0, 0, 0, 0,\n",
       "       0, 0, 0, 0, 1, 0, 0, 1, 0, 0, 0, 0])"
      ]
     },
     "execution_count": 1494,
     "metadata": {},
     "output_type": "execute_result"
    }
   ],
   "source": [
    "# tx = array tx of size M for the transmitted symbols\n",
    "\n",
    "tx = random_binary(M, P0)\n",
    "tx"
   ]
  },
  {
   "cell_type": "markdown",
   "metadata": {},
   "source": [
    "### Obtain an array rx for the received symbols from the tx array using the bsc function:"
   ]
  },
  {
   "cell_type": "code",
   "execution_count": 1495,
   "metadata": {},
   "outputs": [
    {
     "data": {
      "text/plain": [
       "array([1, 0, 0, 0, 0, 0, 0, 0, 0, 1, 0, 0, 0, 0, 0, 0, 0, 0, 0, 0, 1, 0,\n",
       "       1, 0, 0, 1, 1, 0, 0, 0, 0, 0, 0, 0, 0, 0, 1, 0, 0, 0, 0, 0, 0, 0,\n",
       "       0, 1, 1, 1, 0, 0, 0, 0, 0, 0, 0, 0, 0, 0, 1, 1, 1, 0, 0, 0, 0, 0,\n",
       "       0, 1, 0, 0, 1, 0, 0, 0, 0, 0, 0, 0, 1, 0, 0, 0, 0, 0, 0, 0, 0, 0,\n",
       "       0, 0, 0, 0, 1, 0, 0, 1, 0, 0, 0, 0])"
      ]
     },
     "execution_count": 1495,
     "metadata": {},
     "output_type": "execute_result"
    }
   ],
   "source": [
    "# rx = an array for the received symbols\n",
    "\n",
    "rx = bsc(tx, Pe)\n",
    "rx"
   ]
  },
  {
   "cell_type": "markdown",
   "metadata": {},
   "source": [
    "### Use the rates function to determine the relatives frequencies of zeros and ones within the received symbol array:"
   ]
  },
  {
   "cell_type": "code",
   "execution_count": 1496,
   "metadata": {},
   "outputs": [],
   "source": [
    "# f0 = Relative frequency of zeros in the given input array\n",
    "# f1 = Relative frequency of ones in the given input array\n",
    "\n",
    "f0, f1 = rates(rx)"
   ]
  },
  {
   "cell_type": "code",
   "execution_count": 1497,
   "metadata": {},
   "outputs": [
    {
     "data": {
      "text/plain": [
       "0.18"
      ]
     },
     "execution_count": 1497,
     "metadata": {},
     "output_type": "execute_result"
    }
   ],
   "source": [
    "f1"
   ]
  },
  {
   "cell_type": "code",
   "execution_count": 1498,
   "metadata": {},
   "outputs": [
    {
     "data": {
      "text/plain": [
       "0.82"
      ]
     },
     "execution_count": 1498,
     "metadata": {},
     "output_type": "execute_result"
    }
   ],
   "source": [
    "f0"
   ]
  },
  {
   "cell_type": "code",
   "execution_count": 1499,
   "metadata": {},
   "outputs": [],
   "source": [
    "# For M = 1000:\n",
    "# tx_a = array tx of size M for the transmitted symbols\n",
    "# rx_a = an array for the received symbols\n",
    "\n",
    "tx_a = random_binary(1000, P0)\n",
    "#tx_a"
   ]
  },
  {
   "cell_type": "code",
   "execution_count": 1500,
   "metadata": {},
   "outputs": [],
   "source": [
    "rx_a = bsc(tx_a, Pe)\n",
    "#rx_a"
   ]
  },
  {
   "cell_type": "code",
   "execution_count": 1501,
   "metadata": {},
   "outputs": [],
   "source": [
    "# f0_a = Relative frequency of zeros in the given input array\n",
    "# f1_a = Relative frequency of ones in the given input array\n",
    "\n",
    "f0_a, f1_a = rates(rx_a)"
   ]
  },
  {
   "cell_type": "code",
   "execution_count": 1502,
   "metadata": {},
   "outputs": [
    {
     "data": {
      "text/plain": [
       "0.215"
      ]
     },
     "execution_count": 1502,
     "metadata": {},
     "output_type": "execute_result"
    }
   ],
   "source": [
    "f1_a"
   ]
  },
  {
   "cell_type": "code",
   "execution_count": 1503,
   "metadata": {},
   "outputs": [
    {
     "data": {
      "text/plain": [
       "0.785"
      ]
     },
     "execution_count": 1503,
     "metadata": {},
     "output_type": "execute_result"
    }
   ],
   "source": [
    "f0_a"
   ]
  },
  {
   "cell_type": "code",
   "execution_count": 1504,
   "metadata": {},
   "outputs": [
    {
     "data": {
      "text/plain": [
       "array([1, 0, 0, ..., 1, 1, 0])"
      ]
     },
     "execution_count": 1504,
     "metadata": {},
     "output_type": "execute_result"
    }
   ],
   "source": [
    "#For M = 10000:\n",
    "# tx_b = array tx of size M for the transmitted symbols\n",
    "# rx_b = an array for the received symbols\n",
    "\n",
    "tx_b = random_binary(10000, P0)\n",
    "tx_b"
   ]
  },
  {
   "cell_type": "code",
   "execution_count": 1505,
   "metadata": {},
   "outputs": [
    {
     "data": {
      "text/plain": [
       "array([1, 0, 0, ..., 1, 1, 0])"
      ]
     },
     "execution_count": 1505,
     "metadata": {},
     "output_type": "execute_result"
    }
   ],
   "source": [
    "rx_b = bsc(tx_b, Pe)\n",
    "rx_b"
   ]
  },
  {
   "cell_type": "code",
   "execution_count": 1506,
   "metadata": {},
   "outputs": [],
   "source": [
    "# f0_b = Relative frequency of zeros in the given input array\n",
    "# f1_b = Relative frequency of ones in the given input array\n",
    "\n",
    "f0_b, f1_b = rates(rx_b)"
   ]
  },
  {
   "cell_type": "code",
   "execution_count": 1507,
   "metadata": {},
   "outputs": [
    {
     "data": {
      "text/plain": [
       "0.2133"
      ]
     },
     "execution_count": 1507,
     "metadata": {},
     "output_type": "execute_result"
    }
   ],
   "source": [
    "f1_b"
   ]
  },
  {
   "cell_type": "code",
   "execution_count": 1508,
   "metadata": {},
   "outputs": [
    {
     "data": {
      "text/plain": [
       "0.7867"
      ]
     },
     "execution_count": 1508,
     "metadata": {},
     "output_type": "execute_result"
    }
   ],
   "source": [
    "f0_b"
   ]
  },
  {
   "cell_type": "code",
   "execution_count": 1509,
   "metadata": {},
   "outputs": [
    {
     "data": {
      "text/plain": [
       "array([1, 0, 0, ..., 0, 0, 0])"
      ]
     },
     "execution_count": 1509,
     "metadata": {},
     "output_type": "execute_result"
    }
   ],
   "source": [
    "#For M = 100000\n",
    "# tx_c = array tx of size M for the transmitted symbols\n",
    "# rx_c = an array for the received symbols\n",
    "\n",
    "tx_c = random_binary(100000, P0)\n",
    "tx_c"
   ]
  },
  {
   "cell_type": "code",
   "execution_count": 1510,
   "metadata": {},
   "outputs": [
    {
     "data": {
      "text/plain": [
       "array([1, 0, 0, ..., 0, 0, 0])"
      ]
     },
     "execution_count": 1510,
     "metadata": {},
     "output_type": "execute_result"
    }
   ],
   "source": [
    "rx_c = bsc(tx_c, Pe)\n",
    "rx_c"
   ]
  },
  {
   "cell_type": "code",
   "execution_count": 1511,
   "metadata": {},
   "outputs": [],
   "source": [
    "# f0_c = Relative frequency of zeros in the given input array\n",
    "# f1_c = Relative frequency of ones in the given input array\n",
    "\n",
    "f0_c, f1_c = rates(rx_c)"
   ]
  },
  {
   "cell_type": "code",
   "execution_count": 1512,
   "metadata": {},
   "outputs": [
    {
     "data": {
      "text/plain": [
       "0.21281"
      ]
     },
     "execution_count": 1512,
     "metadata": {},
     "output_type": "execute_result"
    }
   ],
   "source": [
    "f1_c"
   ]
  },
  {
   "cell_type": "code",
   "execution_count": 1513,
   "metadata": {},
   "outputs": [
    {
     "data": {
      "text/plain": [
       "0.78719"
      ]
     },
     "execution_count": 1513,
     "metadata": {},
     "output_type": "execute_result"
    }
   ],
   "source": [
    "f0_c"
   ]
  },
  {
   "cell_type": "code",
   "execution_count": 1514,
   "metadata": {},
   "outputs": [
    {
     "data": {
      "text/plain": [
       "array([0, 1, 1, ..., 0, 0, 0])"
      ]
     },
     "execution_count": 1514,
     "metadata": {},
     "output_type": "execute_result"
    }
   ],
   "source": [
    "#For M = 1000000\n",
    "# tx_d = array tx of size M for the transmitted symbols\n",
    "# rx_d = an array for the received symbols\n",
    "\n",
    "tx_d = random_binary(1000000, P0)\n",
    "tx_d"
   ]
  },
  {
   "cell_type": "code",
   "execution_count": 1515,
   "metadata": {},
   "outputs": [
    {
     "data": {
      "text/plain": [
       "array([0, 1, 1, ..., 0, 0, 0])"
      ]
     },
     "execution_count": 1515,
     "metadata": {},
     "output_type": "execute_result"
    }
   ],
   "source": [
    "rx_d = bsc(tx_d, Pe)\n",
    "rx_d"
   ]
  },
  {
   "cell_type": "code",
   "execution_count": 1516,
   "metadata": {},
   "outputs": [],
   "source": [
    "# f0_d = Relative frequency of zeros in the given input array\n",
    "# f1_d = Relative frequency of ones in the given input array\n",
    "\n",
    "f0_d, f1_d = rates(rx_d)"
   ]
  },
  {
   "cell_type": "code",
   "execution_count": 1517,
   "metadata": {},
   "outputs": [
    {
     "data": {
      "text/plain": [
       "0.212091"
      ]
     },
     "execution_count": 1517,
     "metadata": {},
     "output_type": "execute_result"
    }
   ],
   "source": [
    "f1_d"
   ]
  },
  {
   "cell_type": "code",
   "execution_count": 1518,
   "metadata": {},
   "outputs": [
    {
     "data": {
      "text/plain": [
       "0.787909"
      ]
     },
     "execution_count": 1518,
     "metadata": {},
     "output_type": "execute_result"
    }
   ],
   "source": [
    "f0_d"
   ]
  },
  {
   "cell_type": "markdown",
   "metadata": {},
   "source": [
    "## Enter your results in the table below:"
   ]
  },
  {
   "cell_type": "code",
   "execution_count": 1519,
   "metadata": {},
   "outputs": [],
   "source": [
    "dict_table_1 = {\n",
    "    'M':['P(R0)', 'P(R1)'],\n",
    "    100:[f0, f1],\n",
    "    1000:[f0_a, f1_a],\n",
    "    10000:[f0_b, f1_b],\n",
    "    100000:[f0_c, f1_c],\n",
    "    1000000:[f0_d, f1_d]\n",
    "}\n"
   ]
  },
  {
   "cell_type": "code",
   "execution_count": 1520,
   "metadata": {},
   "outputs": [
    {
     "data": {
      "text/html": [
       "<style  type=\"text/css\" >\n",
       "</style><table id=\"T_5abcd236_3913_11ec_a7b9_c4d98744e9e0\" ><thead>    <tr>        <th class=\"col_heading level0 col0\" >M</th>        <th class=\"col_heading level0 col1\" >100</th>        <th class=\"col_heading level0 col2\" >1000</th>        <th class=\"col_heading level0 col3\" >10000</th>        <th class=\"col_heading level0 col4\" >100000</th>        <th class=\"col_heading level0 col5\" >1000000</th>    </tr></thead><tbody>\n",
       "                <tr>\n",
       "                                <td id=\"T_5abcd236_3913_11ec_a7b9_c4d98744e9e0row0_col0\" class=\"data row0 col0\" >P(R0)</td>\n",
       "                        <td id=\"T_5abcd236_3913_11ec_a7b9_c4d98744e9e0row0_col1\" class=\"data row0 col1\" >0.820000</td>\n",
       "                        <td id=\"T_5abcd236_3913_11ec_a7b9_c4d98744e9e0row0_col2\" class=\"data row0 col2\" >0.785000</td>\n",
       "                        <td id=\"T_5abcd236_3913_11ec_a7b9_c4d98744e9e0row0_col3\" class=\"data row0 col3\" >0.786700</td>\n",
       "                        <td id=\"T_5abcd236_3913_11ec_a7b9_c4d98744e9e0row0_col4\" class=\"data row0 col4\" >0.787190</td>\n",
       "                        <td id=\"T_5abcd236_3913_11ec_a7b9_c4d98744e9e0row0_col5\" class=\"data row0 col5\" >0.787909</td>\n",
       "            </tr>\n",
       "            <tr>\n",
       "                                <td id=\"T_5abcd236_3913_11ec_a7b9_c4d98744e9e0row1_col0\" class=\"data row1 col0\" >P(R1)</td>\n",
       "                        <td id=\"T_5abcd236_3913_11ec_a7b9_c4d98744e9e0row1_col1\" class=\"data row1 col1\" >0.180000</td>\n",
       "                        <td id=\"T_5abcd236_3913_11ec_a7b9_c4d98744e9e0row1_col2\" class=\"data row1 col2\" >0.215000</td>\n",
       "                        <td id=\"T_5abcd236_3913_11ec_a7b9_c4d98744e9e0row1_col3\" class=\"data row1 col3\" >0.213300</td>\n",
       "                        <td id=\"T_5abcd236_3913_11ec_a7b9_c4d98744e9e0row1_col4\" class=\"data row1 col4\" >0.212810</td>\n",
       "                        <td id=\"T_5abcd236_3913_11ec_a7b9_c4d98744e9e0row1_col5\" class=\"data row1 col5\" >0.212091</td>\n",
       "            </tr>\n",
       "    </tbody></table>"
      ],
      "text/plain": [
       "<pandas.io.formats.style.Styler at 0x19b198b6970>"
      ]
     },
     "execution_count": 1520,
     "metadata": {},
     "output_type": "execute_result"
    }
   ],
   "source": [
    "prob_table_1 = pd.DataFrame(dict_table_1)\n",
    "prob_table_1.style.hide_index()"
   ]
  },
  {
   "cell_type": "markdown",
   "metadata": {},
   "source": [
    "### To get an idea on how much the estimates still vary even though you repeated the experiment for a large number of times, repeat the experiment for M = 1000 trials **FIVE TIMES**:"
   ]
  },
  {
   "cell_type": "code",
   "execution_count": 1521,
   "metadata": {},
   "outputs": [],
   "source": [
    "# tx_u = array tx of size M for the transmitted symbols\n",
    "# rx_u = an array for the received symbols\n",
    "\n",
    "tx_u = random_binary(1000, P0)\n",
    "#tx_u"
   ]
  },
  {
   "cell_type": "code",
   "execution_count": 1522,
   "metadata": {},
   "outputs": [],
   "source": [
    "rx_u = bsc(tx_u, Pe)\n",
    "#rx_u"
   ]
  },
  {
   "cell_type": "code",
   "execution_count": 1523,
   "metadata": {},
   "outputs": [],
   "source": [
    "# f0_u = Relative frequency of zeros in the given input array\n",
    "# f1_u = Relative frequency of ones in the given input array\n",
    "\n",
    "f0_u, f1_u = rates(rx_u)"
   ]
  },
  {
   "cell_type": "code",
   "execution_count": 1524,
   "metadata": {},
   "outputs": [
    {
     "data": {
      "text/plain": [
       "0.216"
      ]
     },
     "execution_count": 1524,
     "metadata": {},
     "output_type": "execute_result"
    }
   ],
   "source": [
    "f1_u"
   ]
  },
  {
   "cell_type": "code",
   "execution_count": 1525,
   "metadata": {},
   "outputs": [
    {
     "data": {
      "text/plain": [
       "0.784"
      ]
     },
     "execution_count": 1525,
     "metadata": {},
     "output_type": "execute_result"
    }
   ],
   "source": [
    "f0_u"
   ]
  },
  {
   "cell_type": "code",
   "execution_count": 1526,
   "metadata": {},
   "outputs": [],
   "source": [
    "# tx_v = array tx of size M for the transmitted symbols\n",
    "# rx_v = an array for the received symbols\n",
    "\n",
    "tx_v = random_binary(1000, P0)\n",
    "#tx_v"
   ]
  },
  {
   "cell_type": "code",
   "execution_count": 1527,
   "metadata": {},
   "outputs": [],
   "source": [
    "rx_v = bsc(tx_v, Pe)\n",
    "#rx_v"
   ]
  },
  {
   "cell_type": "code",
   "execution_count": 1528,
   "metadata": {},
   "outputs": [],
   "source": [
    "# f0_v = Relative frequency of zeros in the given input array\n",
    "# f1_v = Relative frequency of ones in the given input array\n",
    "\n",
    "f0_v, f1_v = rates(rx_v)"
   ]
  },
  {
   "cell_type": "code",
   "execution_count": 1529,
   "metadata": {},
   "outputs": [
    {
     "data": {
      "text/plain": [
       "0.227"
      ]
     },
     "execution_count": 1529,
     "metadata": {},
     "output_type": "execute_result"
    }
   ],
   "source": [
    "f1_v"
   ]
  },
  {
   "cell_type": "code",
   "execution_count": 1530,
   "metadata": {},
   "outputs": [
    {
     "data": {
      "text/plain": [
       "0.773"
      ]
     },
     "execution_count": 1530,
     "metadata": {},
     "output_type": "execute_result"
    }
   ],
   "source": [
    "f0_v"
   ]
  },
  {
   "cell_type": "code",
   "execution_count": 1531,
   "metadata": {},
   "outputs": [],
   "source": [
    "# tx_w = array tx of size M for the transmitted symbols\n",
    "# rx_w = an array for the received symbols\n",
    "\n",
    "tx_w = random_binary(1000, P0)\n",
    "#tx_w"
   ]
  },
  {
   "cell_type": "code",
   "execution_count": 1532,
   "metadata": {},
   "outputs": [],
   "source": [
    "rx_w = bsc(tx_w, Pe)\n",
    "#rx_w"
   ]
  },
  {
   "cell_type": "code",
   "execution_count": 1533,
   "metadata": {},
   "outputs": [],
   "source": [
    "# f0_w = Relative frequency of zeros in the given input array\n",
    "# f1_w = Relative frequency of ones in the given input array\n",
    "\n",
    "f0_w, f1_w = rates(rx_w)"
   ]
  },
  {
   "cell_type": "code",
   "execution_count": 1534,
   "metadata": {},
   "outputs": [
    {
     "data": {
      "text/plain": [
       "0.227"
      ]
     },
     "execution_count": 1534,
     "metadata": {},
     "output_type": "execute_result"
    }
   ],
   "source": [
    "f1_w"
   ]
  },
  {
   "cell_type": "code",
   "execution_count": 1535,
   "metadata": {},
   "outputs": [
    {
     "data": {
      "text/plain": [
       "0.773"
      ]
     },
     "execution_count": 1535,
     "metadata": {},
     "output_type": "execute_result"
    }
   ],
   "source": [
    "f0_w"
   ]
  },
  {
   "cell_type": "code",
   "execution_count": 1536,
   "metadata": {},
   "outputs": [],
   "source": [
    "# tx_y array tx of size M for the transmitted symbols\n",
    "# rx_y = an array for the received symbols\n",
    "\n",
    "tx_y = random_binary(1000, P0)\n",
    "#tx_y"
   ]
  },
  {
   "cell_type": "code",
   "execution_count": 1537,
   "metadata": {},
   "outputs": [],
   "source": [
    "rx_y = bsc(tx_y, Pe)\n",
    "#rx_y"
   ]
  },
  {
   "cell_type": "code",
   "execution_count": 1538,
   "metadata": {},
   "outputs": [],
   "source": [
    "# f0_y = Relative frequency of zeros in the given input array\n",
    "# f1_y = Relative frequency of ones in the given input array\n",
    "\n",
    "f0_y, f1_y = rates(rx_y)"
   ]
  },
  {
   "cell_type": "code",
   "execution_count": 1539,
   "metadata": {},
   "outputs": [
    {
     "data": {
      "text/plain": [
       "0.216"
      ]
     },
     "execution_count": 1539,
     "metadata": {},
     "output_type": "execute_result"
    }
   ],
   "source": [
    "f1_y"
   ]
  },
  {
   "cell_type": "code",
   "execution_count": 1540,
   "metadata": {},
   "outputs": [
    {
     "data": {
      "text/plain": [
       "0.784"
      ]
     },
     "execution_count": 1540,
     "metadata": {},
     "output_type": "execute_result"
    }
   ],
   "source": [
    "f0_y"
   ]
  },
  {
   "cell_type": "code",
   "execution_count": 1541,
   "metadata": {},
   "outputs": [],
   "source": [
    "# tx_z = array tx of size M for the transmitted symbols\n",
    "# rx_z = an array for the received symbols\n",
    "\n",
    "tx_z = random_binary(1000, P0)\n",
    "#tx_z"
   ]
  },
  {
   "cell_type": "code",
   "execution_count": 1542,
   "metadata": {},
   "outputs": [],
   "source": [
    "rx_z = bsc(tx_z, Pe)\n",
    "#rx_z"
   ]
  },
  {
   "cell_type": "code",
   "execution_count": 1543,
   "metadata": {},
   "outputs": [],
   "source": [
    "# f0_z = Relative frequency of zeros in the given input array\n",
    "# f1_z = Relative frequency of ones in the given input array\n",
    "\n",
    "f0_z, f1_z = rates(rx_z)"
   ]
  },
  {
   "cell_type": "code",
   "execution_count": 1544,
   "metadata": {},
   "outputs": [
    {
     "data": {
      "text/plain": [
       "0.21"
      ]
     },
     "execution_count": 1544,
     "metadata": {},
     "output_type": "execute_result"
    }
   ],
   "source": [
    "f1_z"
   ]
  },
  {
   "cell_type": "code",
   "execution_count": 1545,
   "metadata": {},
   "outputs": [
    {
     "data": {
      "text/plain": [
       "0.79"
      ]
     },
     "execution_count": 1545,
     "metadata": {},
     "output_type": "execute_result"
    }
   ],
   "source": [
    "f0_z"
   ]
  },
  {
   "cell_type": "code",
   "execution_count": 1546,
   "metadata": {},
   "outputs": [],
   "source": [
    "dict_table_2 = {\n",
    "    'M':['P(R0)', 'P(R1)'],\n",
    "    100:[f0_u, f1_u],\n",
    "    1000:[f0_v, f1_v],\n",
    "    10000:[f0_w, f1_w],\n",
    "    100000:[f0_y, f1_y],\n",
    "    1000000:[f0_z, f1_z]\n",
    "    \n",
    "}"
   ]
  },
  {
   "cell_type": "code",
   "execution_count": 1547,
   "metadata": {},
   "outputs": [
    {
     "data": {
      "text/html": [
       "<style  type=\"text/css\" >\n",
       "</style><table id=\"T_5f5a4f8e_3913_11ec_847d_c4d98744e9e0\" ><thead>    <tr>        <th class=\"col_heading level0 col0\" >M</th>        <th class=\"col_heading level0 col1\" >100</th>        <th class=\"col_heading level0 col2\" >1000</th>        <th class=\"col_heading level0 col3\" >10000</th>        <th class=\"col_heading level0 col4\" >100000</th>        <th class=\"col_heading level0 col5\" >1000000</th>    </tr></thead><tbody>\n",
       "                <tr>\n",
       "                                <td id=\"T_5f5a4f8e_3913_11ec_847d_c4d98744e9e0row0_col0\" class=\"data row0 col0\" >P(R0)</td>\n",
       "                        <td id=\"T_5f5a4f8e_3913_11ec_847d_c4d98744e9e0row0_col1\" class=\"data row0 col1\" >0.784000</td>\n",
       "                        <td id=\"T_5f5a4f8e_3913_11ec_847d_c4d98744e9e0row0_col2\" class=\"data row0 col2\" >0.773000</td>\n",
       "                        <td id=\"T_5f5a4f8e_3913_11ec_847d_c4d98744e9e0row0_col3\" class=\"data row0 col3\" >0.773000</td>\n",
       "                        <td id=\"T_5f5a4f8e_3913_11ec_847d_c4d98744e9e0row0_col4\" class=\"data row0 col4\" >0.784000</td>\n",
       "                        <td id=\"T_5f5a4f8e_3913_11ec_847d_c4d98744e9e0row0_col5\" class=\"data row0 col5\" >0.790000</td>\n",
       "            </tr>\n",
       "            <tr>\n",
       "                                <td id=\"T_5f5a4f8e_3913_11ec_847d_c4d98744e9e0row1_col0\" class=\"data row1 col0\" >P(R1)</td>\n",
       "                        <td id=\"T_5f5a4f8e_3913_11ec_847d_c4d98744e9e0row1_col1\" class=\"data row1 col1\" >0.216000</td>\n",
       "                        <td id=\"T_5f5a4f8e_3913_11ec_847d_c4d98744e9e0row1_col2\" class=\"data row1 col2\" >0.227000</td>\n",
       "                        <td id=\"T_5f5a4f8e_3913_11ec_847d_c4d98744e9e0row1_col3\" class=\"data row1 col3\" >0.227000</td>\n",
       "                        <td id=\"T_5f5a4f8e_3913_11ec_847d_c4d98744e9e0row1_col4\" class=\"data row1 col4\" >0.216000</td>\n",
       "                        <td id=\"T_5f5a4f8e_3913_11ec_847d_c4d98744e9e0row1_col5\" class=\"data row1 col5\" >0.210000</td>\n",
       "            </tr>\n",
       "    </tbody></table>"
      ],
      "text/plain": [
       "<pandas.io.formats.style.Styler at 0x19b198b6cd0>"
      ]
     },
     "execution_count": 1547,
     "metadata": {},
     "output_type": "execute_result"
    }
   ],
   "source": [
    "prob_table_2 = pd.DataFrame(dict_table_2)\n",
    "prob_table_2.style.hide_index()"
   ]
  },
  {
   "cell_type": "markdown",
   "metadata": {},
   "source": [
    "### Estimate the probability P(S1|R1) using the function tx_cond_rx, for an increasing number of trials M"
   ]
  },
  {
   "cell_type": "code",
   "execution_count": 1548,
   "metadata": {},
   "outputs": [
    {
     "data": {
      "text/plain": [
       "array([1, 0, 1, 0, 1, 1, 0, 0, 0, 0, 0, 0, 0, 0, 0, 0, 0, 0, 0, 1, 0, 0,\n",
       "       0, 0, 1, 0, 0, 0, 1, 0, 1, 0, 0, 0, 0, 0, 0, 0, 0, 0, 1, 0, 0, 0,\n",
       "       0, 1, 0, 0, 0, 1, 1, 0, 1, 0, 0, 1, 0, 0, 0, 0, 0, 0, 0, 0, 0, 1,\n",
       "       0, 0, 0, 1, 1, 0, 1, 0, 0, 0, 0, 1, 0, 0, 1, 0, 0, 1, 0, 0, 1, 0,\n",
       "       1, 0, 0, 0, 0, 1, 0, 0, 0, 1, 1, 0])"
      ]
     },
     "execution_count": 1548,
     "metadata": {},
     "output_type": "execute_result"
    }
   ],
   "source": [
    "#For M = 100\n",
    "# tx_m1 = array tx of size M for the transmitted symbols\n",
    "# rx_m1 = an array for the received symbols\n",
    "\n",
    "tx_m1 = random_binary(100, P0)\n",
    "tx_m1"
   ]
  },
  {
   "cell_type": "code",
   "execution_count": 1549,
   "metadata": {},
   "outputs": [
    {
     "data": {
      "text/plain": [
       "array([1, 0, 1, 0, 1, 1, 0, 0, 0, 0, 0, 0, 0, 0, 0, 0, 0, 0, 0, 1, 1, 0,\n",
       "       0, 0, 1, 0, 0, 0, 1, 0, 1, 0, 0, 0, 0, 0, 0, 0, 1, 0, 1, 0, 0, 0,\n",
       "       0, 1, 0, 0, 0, 1, 1, 0, 1, 0, 0, 1, 0, 0, 0, 0, 0, 0, 0, 0, 0, 1,\n",
       "       0, 0, 0, 1, 0, 0, 1, 0, 0, 0, 0, 1, 0, 0, 1, 0, 0, 1, 0, 0, 1, 0,\n",
       "       1, 0, 0, 0, 0, 1, 0, 0, 0, 1, 1, 0])"
      ]
     },
     "execution_count": 1549,
     "metadata": {},
     "output_type": "execute_result"
    }
   ],
   "source": [
    "rx_m1 = bsc(tx_m1, Pe)\n",
    "rx_m1"
   ]
  },
  {
   "cell_type": "code",
   "execution_count": 1550,
   "metadata": {},
   "outputs": [
    {
     "data": {
      "text/plain": [
       "0.9259259259259259"
      ]
     },
     "execution_count": 1550,
     "metadata": {},
     "output_type": "execute_result"
    }
   ],
   "source": [
    "# P_m1 = P(S1|R1) for M = 100\n",
    "\n",
    "P_m1 = tx_cond_rx(tx_m1, rx_m1, 1, 1)\n",
    "P_m1"
   ]
  },
  {
   "cell_type": "code",
   "execution_count": 1551,
   "metadata": {},
   "outputs": [],
   "source": [
    "#For M = 1000\n",
    "# tx_m2 = array tx of size M for the transmitted symbols\n",
    "# rx_m2 = an array for the received symbols\n",
    "\n",
    "tx_m2 = random_binary(1000, P0)\n",
    "#tx_m2"
   ]
  },
  {
   "cell_type": "code",
   "execution_count": 1552,
   "metadata": {},
   "outputs": [],
   "source": [
    "rx_m2 = bsc(tx_m2, Pe)\n",
    "#rx_m2"
   ]
  },
  {
   "cell_type": "code",
   "execution_count": 1553,
   "metadata": {},
   "outputs": [
    {
     "data": {
      "text/plain": [
       "0.9260869565217391"
      ]
     },
     "execution_count": 1553,
     "metadata": {},
     "output_type": "execute_result"
    }
   ],
   "source": [
    "# P_m2 = P(S1|R1) for M = 1000\n",
    "\n",
    "P_m2 = tx_cond_rx(tx_m2, rx_m2, 1, 1)\n",
    "P_m2"
   ]
  },
  {
   "cell_type": "code",
   "execution_count": 1554,
   "metadata": {},
   "outputs": [],
   "source": [
    "#For M = 10000\n",
    "# tx_m3 = array tx of size M for the transmitted symbols\n",
    "# rx_m3 = an array for the received symbols\n",
    "\n",
    "tx_m3 = random_binary(10000, P0)\n",
    "#tx_m3"
   ]
  },
  {
   "cell_type": "code",
   "execution_count": 1555,
   "metadata": {},
   "outputs": [],
   "source": [
    "rx_m3 = bsc(tx_m3, Pe)\n",
    "#rx_m3"
   ]
  },
  {
   "cell_type": "code",
   "execution_count": 1556,
   "metadata": {},
   "outputs": [
    {
     "data": {
      "text/plain": [
       "0.9227941176470589"
      ]
     },
     "execution_count": 1556,
     "metadata": {},
     "output_type": "execute_result"
    }
   ],
   "source": [
    "# P_m3 = P(S1|R1) for M = 10000\n",
    "\n",
    "P_m3 = tx_cond_rx(tx_m3, rx_m3, 1, 1)\n",
    "P_m3"
   ]
  },
  {
   "cell_type": "code",
   "execution_count": 1557,
   "metadata": {},
   "outputs": [],
   "source": [
    "#For M = 100000\n",
    "# tx_m4 = array tx of size M for the transmitted symbols\n",
    "# rx_m4 = an array for the received symbols\n",
    "\n",
    "tx_m4 = random_binary(100000, P0)\n",
    "#tx_m4"
   ]
  },
  {
   "cell_type": "code",
   "execution_count": 1558,
   "metadata": {},
   "outputs": [],
   "source": [
    "rx_m4 = bsc(tx_m4, Pe)\n",
    "#rx_m4"
   ]
  },
  {
   "cell_type": "code",
   "execution_count": 1559,
   "metadata": {},
   "outputs": [
    {
     "data": {
      "text/plain": [
       "0.9217411988582302"
      ]
     },
     "execution_count": 1559,
     "metadata": {},
     "output_type": "execute_result"
    }
   ],
   "source": [
    "# P_m4 = P(S1|R1) for M = 100000\n",
    "\n",
    "P_m4 = tx_cond_rx(tx_m4, rx_m4, 1, 1)\n",
    "P_m4"
   ]
  },
  {
   "cell_type": "code",
   "execution_count": 1560,
   "metadata": {},
   "outputs": [
    {
     "data": {
      "text/plain": [
       "array([0, 1, 0, ..., 0, 0, 0])"
      ]
     },
     "execution_count": 1560,
     "metadata": {},
     "output_type": "execute_result"
    }
   ],
   "source": [
    "#For M = 1000000\n",
    "# tx_m5 = array tx of size M for the transmitted symbols\n",
    "# rx_m5 = an array for the received symbols\n",
    "\n",
    "tx_m5 = random_binary(1000000, P0)\n",
    "tx_m5"
   ]
  },
  {
   "cell_type": "code",
   "execution_count": 1561,
   "metadata": {},
   "outputs": [
    {
     "data": {
      "text/plain": [
       "array([0, 1, 0, ..., 0, 0, 0])"
      ]
     },
     "execution_count": 1561,
     "metadata": {},
     "output_type": "execute_result"
    }
   ],
   "source": [
    "rx_m5 = bsc(tx_m5, Pe)\n",
    "rx_m5"
   ]
  },
  {
   "cell_type": "code",
   "execution_count": 1562,
   "metadata": {},
   "outputs": [
    {
     "data": {
      "text/plain": [
       "0.9242427098452433"
      ]
     },
     "execution_count": 1562,
     "metadata": {},
     "output_type": "execute_result"
    }
   ],
   "source": [
    "# P_m5 = P(S1|R1) for M = 1000000\n",
    "\n",
    "P_m5 = tx_cond_rx(tx_m5, rx_m5, 1, 1)\n",
    "P_m5"
   ]
  },
  {
   "cell_type": "markdown",
   "metadata": {},
   "source": [
    "### Enter your estimates into the table below:"
   ]
  },
  {
   "cell_type": "code",
   "execution_count": 1563,
   "metadata": {},
   "outputs": [],
   "source": [
    "dict_table_3 = {\n",
    "    'M':['P(S1|R1)'],\n",
    "    100:[P_m1],\n",
    "    1000:[P_m2],\n",
    "    10000:[P_m3],\n",
    "    100000:[P_m4],\n",
    "    1000000:[P_m5]\n",
    "}"
   ]
  },
  {
   "cell_type": "code",
   "execution_count": 1564,
   "metadata": {},
   "outputs": [
    {
     "data": {
      "text/html": [
       "<style  type=\"text/css\" >\n",
       "</style><table id=\"T_62a49801_3913_11ec_96e6_c4d98744e9e0\" ><thead>    <tr>        <th class=\"col_heading level0 col0\" >M</th>        <th class=\"col_heading level0 col1\" >100</th>        <th class=\"col_heading level0 col2\" >1000</th>        <th class=\"col_heading level0 col3\" >10000</th>        <th class=\"col_heading level0 col4\" >100000</th>        <th class=\"col_heading level0 col5\" >1000000</th>    </tr></thead><tbody>\n",
       "                <tr>\n",
       "                                <td id=\"T_62a49801_3913_11ec_96e6_c4d98744e9e0row0_col0\" class=\"data row0 col0\" >P(S1|R1)</td>\n",
       "                        <td id=\"T_62a49801_3913_11ec_96e6_c4d98744e9e0row0_col1\" class=\"data row0 col1\" >0.925926</td>\n",
       "                        <td id=\"T_62a49801_3913_11ec_96e6_c4d98744e9e0row0_col2\" class=\"data row0 col2\" >0.926087</td>\n",
       "                        <td id=\"T_62a49801_3913_11ec_96e6_c4d98744e9e0row0_col3\" class=\"data row0 col3\" >0.922794</td>\n",
       "                        <td id=\"T_62a49801_3913_11ec_96e6_c4d98744e9e0row0_col4\" class=\"data row0 col4\" >0.921741</td>\n",
       "                        <td id=\"T_62a49801_3913_11ec_96e6_c4d98744e9e0row0_col5\" class=\"data row0 col5\" >0.924243</td>\n",
       "            </tr>\n",
       "    </tbody></table>"
      ],
      "text/plain": [
       "<pandas.io.formats.style.Styler at 0x19b18701d30>"
      ]
     },
     "execution_count": 1564,
     "metadata": {},
     "output_type": "execute_result"
    }
   ],
   "source": [
    "prob_table_3 = DataFrame(dict_table_3)\n",
    "prob_table_3.style.hide_index()"
   ]
  },
  {
   "cell_type": "markdown",
   "metadata": {},
   "source": [
    "## Experiment 2: Scatter plots:"
   ]
  },
  {
   "cell_type": "code",
   "execution_count": 1565,
   "metadata": {},
   "outputs": [
    {
     "data": {
      "text/plain": [
       "array([-0.78289316,  1.03196776, -0.41251617, ..., -0.79963652,\n",
       "       -0.69326284, -2.79998359])"
      ]
     },
     "execution_count": 1565,
     "metadata": {},
     "output_type": "execute_result"
    }
   ],
   "source": [
    "sample_1 = rv1(10000)\n",
    "sample_1"
   ]
  },
  {
   "cell_type": "code",
   "execution_count": 1566,
   "metadata": {},
   "outputs": [
    {
     "data": {
      "text/plain": [
       "array([5.5, 7.5, 3.5, ..., 7.5, 7.5, 5.5])"
      ]
     },
     "execution_count": 1566,
     "metadata": {},
     "output_type": "execute_result"
    }
   ],
   "source": [
    "sample_2 = rv2(10000)\n",
    "sample_2"
   ]
  },
  {
   "cell_type": "code",
   "execution_count": 1567,
   "metadata": {},
   "outputs": [
    {
     "data": {
      "text/plain": [
       "array([0.88265179, 0.04535104, 0.78228961, ..., 0.39533362, 0.06716008,\n",
       "       0.14523435])"
      ]
     },
     "execution_count": 1567,
     "metadata": {},
     "output_type": "execute_result"
    }
   ],
   "source": [
    "sample_3 = rv3(10000)\n",
    "sample_3"
   ]
  },
  {
   "cell_type": "code",
   "execution_count": 1568,
   "metadata": {},
   "outputs": [
    {
     "data": {
      "image/png": "[encoded data removed]",
      "text/plain": [
       "<Figure size 432x288 with 1 Axes>"
      ]
     },
     "metadata": {},
     "output_type": "display_data"
    }
   ],
   "source": [
    "plot_scatter(sample_1)"
   ]
  },
  {
   "cell_type": "code",
   "execution_count": 1569,
   "metadata": {},
   "outputs": [
    {
     "data": {
      "image/png": "[encoded data removed]",
      "text/plain": [
       "<Figure size 432x288 with 1 Axes>"
      ]
     },
     "metadata": {},
     "output_type": "display_data"
    }
   ],
   "source": [
    "plot_scatter(sample_2)"
   ]
  },
  {
   "cell_type": "code",
   "execution_count": 1570,
   "metadata": {},
   "outputs": [
    {
     "data": {
      "image/png": "[encoded data removed]",
      "text/plain": [
       "<Figure size 432x288 with 1 Axes>"
      ]
     },
     "metadata": {},
     "output_type": "display_data"
    }
   ],
   "source": [
    "plot_scatter(sample_3)"
   ]
  },
  {
   "cell_type": "markdown",
   "metadata": {},
   "source": [
    "### Note your findings by entering rv1, rv2, and rv3 into the correct columns of the following table:"
   ]
  },
  {
   "cell_type": "code",
   "execution_count": 1571,
   "metadata": {},
   "outputs": [],
   "source": [
    "dict_scatterTable = {\n",
    "    'Distribution':['Random Variable'],\n",
    "    'Uniform':['rv3'],\n",
    "    'Guassian':['rv1'],\n",
    "    'Discrete':['rv2']\n",
    "}"
   ]
  },
  {
   "cell_type": "code",
   "execution_count": 1572,
   "metadata": {},
   "outputs": [
    {
     "data": {
      "text/html": [
       "<style  type=\"text/css\" >\n",
       "</style><table id=\"T_658b0dab_3913_11ec_8b47_c4d98744e9e0\" ><thead>    <tr>        <th class=\"col_heading level0 col0\" >Distribution</th>        <th class=\"col_heading level0 col1\" >Uniform</th>        <th class=\"col_heading level0 col2\" >Guassian</th>        <th class=\"col_heading level0 col3\" >Discrete</th>    </tr></thead><tbody>\n",
       "                <tr>\n",
       "                                <td id=\"T_658b0dab_3913_11ec_8b47_c4d98744e9e0row0_col0\" class=\"data row0 col0\" >Random Variable</td>\n",
       "                        <td id=\"T_658b0dab_3913_11ec_8b47_c4d98744e9e0row0_col1\" class=\"data row0 col1\" >rv3</td>\n",
       "                        <td id=\"T_658b0dab_3913_11ec_8b47_c4d98744e9e0row0_col2\" class=\"data row0 col2\" >rv1</td>\n",
       "                        <td id=\"T_658b0dab_3913_11ec_8b47_c4d98744e9e0row0_col3\" class=\"data row0 col3\" >rv2</td>\n",
       "            </tr>\n",
       "    </tbody></table>"
      ],
      "text/plain": [
       "<pandas.io.formats.style.Styler at 0x19b1a98b880>"
      ]
     },
     "execution_count": 1572,
     "metadata": {},
     "output_type": "execute_result"
    }
   ],
   "source": [
    "scatter_table = pd.DataFrame(dict_scatterTable)\n",
    "scatter_table.style.hide_index()"
   ]
  },
  {
   "cell_type": "markdown",
   "metadata": {},
   "source": [
    " ### Experiment 3: Estimation of the moments:\n"
   ]
  },
  {
   "cell_type": "markdown",
   "metadata": {},
   "source": [
    "### (a) Uniform random variable:\n",
    "### Estimate mean, variance and mean square of random numbers uniformly distributed within the interval [0,1] for different numbers of independent trials M."
   ]
  },
  {
   "cell_type": "code",
   "execution_count": 1573,
   "metadata": {},
   "outputs": [],
   "source": [
    "#With M = 100\n",
    "\n",
    "X = np.random.uniform(0,1,100)\n",
    "#X"
   ]
  },
  {
   "cell_type": "code",
   "execution_count": 1574,
   "metadata": {},
   "outputs": [],
   "source": [
    "#With M = 100, let m1 = mean, mm1 = mean square and v1 = variance\n",
    "\n",
    "m1, mm1, v1 = expected_values(X)"
   ]
  },
  {
   "cell_type": "code",
   "execution_count": 1575,
   "metadata": {},
   "outputs": [
    {
     "data": {
      "text/plain": [
       "0.4691989658967455"
      ]
     },
     "execution_count": 1575,
     "metadata": {},
     "output_type": "execute_result"
    }
   ],
   "source": [
    "m1"
   ]
  },
  {
   "cell_type": "code",
   "execution_count": 1576,
   "metadata": {},
   "outputs": [
    {
     "data": {
      "text/plain": [
       "0.30671476797397973"
      ]
     },
     "execution_count": 1576,
     "metadata": {},
     "output_type": "execute_result"
    }
   ],
   "source": [
    "mm1"
   ]
  },
  {
   "cell_type": "code",
   "execution_count": 1577,
   "metadata": {},
   "outputs": [
    {
     "data": {
      "text/plain": [
       "0.08744151351050945"
      ]
     },
     "execution_count": 1577,
     "metadata": {},
     "output_type": "execute_result"
    }
   ],
   "source": [
    "v1"
   ]
  },
  {
   "cell_type": "code",
   "execution_count": 1578,
   "metadata": {},
   "outputs": [],
   "source": [
    "#With M = 1000\n",
    "\n",
    "X = np.random.uniform(0,1,1000)\n",
    "#X"
   ]
  },
  {
   "cell_type": "code",
   "execution_count": 1579,
   "metadata": {},
   "outputs": [],
   "source": [
    "#With M = 1000, let m2 = mean, mm2 = mean square and v2 = variance\n",
    "\n",
    "m2, mm2, v2 = expected_values(X)"
   ]
  },
  {
   "cell_type": "code",
   "execution_count": 1580,
   "metadata": {},
   "outputs": [
    {
     "data": {
      "text/plain": [
       "0.49187579033947765"
      ]
     },
     "execution_count": 1580,
     "metadata": {},
     "output_type": "execute_result"
    }
   ],
   "source": [
    "m2"
   ]
  },
  {
   "cell_type": "code",
   "execution_count": 1581,
   "metadata": {},
   "outputs": [
    {
     "data": {
      "text/plain": [
       "0.32351464013326064"
      ]
     },
     "execution_count": 1581,
     "metadata": {},
     "output_type": "execute_result"
    }
   ],
   "source": [
    "mm2"
   ]
  },
  {
   "cell_type": "code",
   "execution_count": 1582,
   "metadata": {},
   "outputs": [
    {
     "data": {
      "text/plain": [
       "0.0816545015126875"
      ]
     },
     "execution_count": 1582,
     "metadata": {},
     "output_type": "execute_result"
    }
   ],
   "source": [
    "v2"
   ]
  },
  {
   "cell_type": "code",
   "execution_count": 1583,
   "metadata": {},
   "outputs": [
    {
     "data": {
      "text/plain": [
       "array([0.30008621, 0.23818039, 0.99816367, ..., 0.67981013, 0.91783317,\n",
       "       0.56350488])"
      ]
     },
     "execution_count": 1583,
     "metadata": {},
     "output_type": "execute_result"
    }
   ],
   "source": [
    "#With M = 10000\n",
    "\n",
    "X = np.random.uniform(0,1,10000)\n",
    "X"
   ]
  },
  {
   "cell_type": "code",
   "execution_count": 1584,
   "metadata": {},
   "outputs": [],
   "source": [
    "#With M = 10000, let m3 = mean, mm3 = mean square and v3 = variance\n",
    "\n",
    "m3, mm3, v3 = expected_values(X)"
   ]
  },
  {
   "cell_type": "code",
   "execution_count": 1585,
   "metadata": {},
   "outputs": [
    {
     "data": {
      "text/plain": [
       "0.5009981062005263"
      ]
     },
     "execution_count": 1585,
     "metadata": {},
     "output_type": "execute_result"
    }
   ],
   "source": [
    "m3"
   ]
  },
  {
   "cell_type": "code",
   "execution_count": 1586,
   "metadata": {},
   "outputs": [
    {
     "data": {
      "text/plain": [
       "0.33570576775110256"
      ]
     },
     "execution_count": 1586,
     "metadata": {},
     "output_type": "execute_result"
    }
   ],
   "source": [
    "mm3"
   ]
  },
  {
   "cell_type": "code",
   "execution_count": 1587,
   "metadata": {},
   "outputs": [
    {
     "data": {
      "text/plain": [
       "0.08471513684827355"
      ]
     },
     "execution_count": 1587,
     "metadata": {},
     "output_type": "execute_result"
    }
   ],
   "source": [
    "v3"
   ]
  },
  {
   "cell_type": "code",
   "execution_count": 1588,
   "metadata": {},
   "outputs": [
    {
     "data": {
      "text/plain": [
       "array([0.64077736, 0.99326617, 0.40509116, ..., 0.80049468, 0.99701979,\n",
       "       0.21494807])"
      ]
     },
     "execution_count": 1588,
     "metadata": {},
     "output_type": "execute_result"
    }
   ],
   "source": [
    "#With M = 100000\n",
    "\n",
    "X = np.random.uniform(0,1,100000)\n",
    "X"
   ]
  },
  {
   "cell_type": "code",
   "execution_count": 1589,
   "metadata": {},
   "outputs": [],
   "source": [
    "#With M = 100000, let m4 = mean, mm4 = mean square and v4 = variance\n",
    "\n",
    "m4, mm4, v4 = expected_values(X)"
   ]
  },
  {
   "cell_type": "code",
   "execution_count": 1590,
   "metadata": {},
   "outputs": [
    {
     "data": {
      "text/plain": [
       "0.5006714114685653"
      ]
     },
     "execution_count": 1590,
     "metadata": {},
     "output_type": "execute_result"
    }
   ],
   "source": [
    "m4"
   ]
  },
  {
   "cell_type": "code",
   "execution_count": 1591,
   "metadata": {},
   "outputs": [
    {
     "data": {
      "text/plain": [
       "0.3341591576904057"
      ]
     },
     "execution_count": 1591,
     "metadata": {},
     "output_type": "execute_result"
    }
   ],
   "source": [
    "mm4"
   ]
  },
  {
   "cell_type": "code",
   "execution_count": 1592,
   "metadata": {},
   "outputs": [
    {
     "data": {
      "text/plain": [
       "0.08348813030978348"
      ]
     },
     "execution_count": 1592,
     "metadata": {},
     "output_type": "execute_result"
    }
   ],
   "source": [
    "v4"
   ]
  },
  {
   "cell_type": "code",
   "execution_count": 1593,
   "metadata": {},
   "outputs": [
    {
     "data": {
      "text/plain": [
       "array([0.60246486, 0.95044606, 0.08656877, ..., 0.89081341, 0.32425487,\n",
       "       0.53553879])"
      ]
     },
     "execution_count": 1593,
     "metadata": {},
     "output_type": "execute_result"
    }
   ],
   "source": [
    "#With M = 1000000\n",
    "\n",
    "X = np.random.uniform(0,1,1000000)\n",
    "X"
   ]
  },
  {
   "cell_type": "code",
   "execution_count": 1594,
   "metadata": {},
   "outputs": [],
   "source": [
    "#With M = 1000000, let m4 = mean, mm4 = mean square and v4 = variance\n",
    "\n",
    "m5, mm5, v5 = expected_values(X)"
   ]
  },
  {
   "cell_type": "code",
   "execution_count": 1595,
   "metadata": {},
   "outputs": [
    {
     "data": {
      "text/plain": [
       "0.49988975575096456"
      ]
     },
     "execution_count": 1595,
     "metadata": {},
     "output_type": "execute_result"
    }
   ],
   "source": [
    "m5"
   ]
  },
  {
   "cell_type": "code",
   "execution_count": 1596,
   "metadata": {},
   "outputs": [
    {
     "data": {
      "text/plain": [
       "0.33320320790120045"
      ]
     },
     "execution_count": 1596,
     "metadata": {},
     "output_type": "execute_result"
    }
   ],
   "source": [
    "mm5"
   ]
  },
  {
   "cell_type": "code",
   "execution_count": 1597,
   "metadata": {},
   "outputs": [
    {
     "data": {
      "text/plain": [
       "0.08331352330996467"
      ]
     },
     "execution_count": 1597,
     "metadata": {},
     "output_type": "execute_result"
    }
   ],
   "source": [
    "v5 "
   ]
  },
  {
   "cell_type": "markdown",
   "metadata": {},
   "source": [
    "### Enter these values into the corresponding column of the following table:"
   ]
  },
  {
   "cell_type": "code",
   "execution_count": 1598,
   "metadata": {},
   "outputs": [],
   "source": [
    "dict_uniform_1 = {\n",
    "    'M':['Mean', 'Variance', 'Mean Square'],\n",
    "    100:[m1,v1,mm1],\n",
    "    1000:[m2,v2,mm2],\n",
    "    10000:[m3,v3,mm3],\n",
    "    100000:[m4,v4,mm4],\n",
    "    1000000:[m5,v5,mm5]\n",
    "}\n"
   ]
  },
  {
   "cell_type": "code",
   "execution_count": 1599,
   "metadata": {},
   "outputs": [
    {
     "data": {
      "text/html": [
       "<style  type=\"text/css\" >\n",
       "</style><table id=\"T_6b3b3074_3913_11ec_8f36_c4d98744e9e0\" ><thead>    <tr>        <th class=\"col_heading level0 col0\" >M</th>        <th class=\"col_heading level0 col1\" >100</th>        <th class=\"col_heading level0 col2\" >1000</th>        <th class=\"col_heading level0 col3\" >10000</th>        <th class=\"col_heading level0 col4\" >100000</th>        <th class=\"col_heading level0 col5\" >1000000</th>    </tr></thead><tbody>\n",
       "                <tr>\n",
       "                                <td id=\"T_6b3b3074_3913_11ec_8f36_c4d98744e9e0row0_col0\" class=\"data row0 col0\" >Mean</td>\n",
       "                        <td id=\"T_6b3b3074_3913_11ec_8f36_c4d98744e9e0row0_col1\" class=\"data row0 col1\" >0.469199</td>\n",
       "                        <td id=\"T_6b3b3074_3913_11ec_8f36_c4d98744e9e0row0_col2\" class=\"data row0 col2\" >0.491876</td>\n",
       "                        <td id=\"T_6b3b3074_3913_11ec_8f36_c4d98744e9e0row0_col3\" class=\"data row0 col3\" >0.500998</td>\n",
       "                        <td id=\"T_6b3b3074_3913_11ec_8f36_c4d98744e9e0row0_col4\" class=\"data row0 col4\" >0.500671</td>\n",
       "                        <td id=\"T_6b3b3074_3913_11ec_8f36_c4d98744e9e0row0_col5\" class=\"data row0 col5\" >0.499890</td>\n",
       "            </tr>\n",
       "            <tr>\n",
       "                                <td id=\"T_6b3b3074_3913_11ec_8f36_c4d98744e9e0row1_col0\" class=\"data row1 col0\" >Variance</td>\n",
       "                        <td id=\"T_6b3b3074_3913_11ec_8f36_c4d98744e9e0row1_col1\" class=\"data row1 col1\" >0.087442</td>\n",
       "                        <td id=\"T_6b3b3074_3913_11ec_8f36_c4d98744e9e0row1_col2\" class=\"data row1 col2\" >0.081655</td>\n",
       "                        <td id=\"T_6b3b3074_3913_11ec_8f36_c4d98744e9e0row1_col3\" class=\"data row1 col3\" >0.084715</td>\n",
       "                        <td id=\"T_6b3b3074_3913_11ec_8f36_c4d98744e9e0row1_col4\" class=\"data row1 col4\" >0.083488</td>\n",
       "                        <td id=\"T_6b3b3074_3913_11ec_8f36_c4d98744e9e0row1_col5\" class=\"data row1 col5\" >0.083314</td>\n",
       "            </tr>\n",
       "            <tr>\n",
       "                                <td id=\"T_6b3b3074_3913_11ec_8f36_c4d98744e9e0row2_col0\" class=\"data row2 col0\" >Mean Square</td>\n",
       "                        <td id=\"T_6b3b3074_3913_11ec_8f36_c4d98744e9e0row2_col1\" class=\"data row2 col1\" >0.306715</td>\n",
       "                        <td id=\"T_6b3b3074_3913_11ec_8f36_c4d98744e9e0row2_col2\" class=\"data row2 col2\" >0.323515</td>\n",
       "                        <td id=\"T_6b3b3074_3913_11ec_8f36_c4d98744e9e0row2_col3\" class=\"data row2 col3\" >0.335706</td>\n",
       "                        <td id=\"T_6b3b3074_3913_11ec_8f36_c4d98744e9e0row2_col4\" class=\"data row2 col4\" >0.334159</td>\n",
       "                        <td id=\"T_6b3b3074_3913_11ec_8f36_c4d98744e9e0row2_col5\" class=\"data row2 col5\" >0.333203</td>\n",
       "            </tr>\n",
       "    </tbody></table>"
      ],
      "text/plain": [
       "<pandas.io.formats.style.Styler at 0x19b114c98e0>"
      ]
     },
     "execution_count": 1599,
     "metadata": {},
     "output_type": "execute_result"
    }
   ],
   "source": [
    "uniform_table_1 = pd.DataFrame(dict_uniform_1)\n",
    "\n",
    "uniform_table_1.style.hide_index()"
   ]
  },
  {
   "cell_type": "markdown",
   "metadata": {},
   "source": [
    "### Does the relationship between mean, variance and mean square according to equation (4.23) also hold for the corresponding estimates? ......................................................."
   ]
  },
  {
   "cell_type": "code",
   "execution_count": 1600,
   "metadata": {},
   "outputs": [],
   "source": [
    "# To investigate the relationship defined by equation (4.23), lets create a fourth row 'TEST_VARIANCE' in 'uniform_table_1' \n",
    "# with values corresponding to:   TEST_VARIANCE = (Mean Square - (Mean)**2)"
   ]
  },
  {
   "cell_type": "code",
   "execution_count": 1601,
   "metadata": {},
   "outputs": [
    {
     "data": {
      "text/html": [
       "<style  type=\"text/css\" >\n",
       "</style><table id=\"T_6bc6cf5e_3913_11ec_bc62_c4d98744e9e0\" ><thead>    <tr>        <th class=\"col_heading level0 col0\" >M</th>        <th class=\"col_heading level0 col1\" >100</th>        <th class=\"col_heading level0 col2\" >1000</th>        <th class=\"col_heading level0 col3\" >10000</th>        <th class=\"col_heading level0 col4\" >100000</th>        <th class=\"col_heading level0 col5\" >1000000</th>    </tr></thead><tbody>\n",
       "                <tr>\n",
       "                                <td id=\"T_6bc6cf5e_3913_11ec_bc62_c4d98744e9e0row0_col0\" class=\"data row0 col0\" >Mean</td>\n",
       "                        <td id=\"T_6bc6cf5e_3913_11ec_bc62_c4d98744e9e0row0_col1\" class=\"data row0 col1\" >0.469199</td>\n",
       "                        <td id=\"T_6bc6cf5e_3913_11ec_bc62_c4d98744e9e0row0_col2\" class=\"data row0 col2\" >0.491876</td>\n",
       "                        <td id=\"T_6bc6cf5e_3913_11ec_bc62_c4d98744e9e0row0_col3\" class=\"data row0 col3\" >0.500998</td>\n",
       "                        <td id=\"T_6bc6cf5e_3913_11ec_bc62_c4d98744e9e0row0_col4\" class=\"data row0 col4\" >0.500671</td>\n",
       "                        <td id=\"T_6bc6cf5e_3913_11ec_bc62_c4d98744e9e0row0_col5\" class=\"data row0 col5\" >0.499890</td>\n",
       "            </tr>\n",
       "            <tr>\n",
       "                                <td id=\"T_6bc6cf5e_3913_11ec_bc62_c4d98744e9e0row1_col0\" class=\"data row1 col0\" >Variance</td>\n",
       "                        <td id=\"T_6bc6cf5e_3913_11ec_bc62_c4d98744e9e0row1_col1\" class=\"data row1 col1\" >0.087442</td>\n",
       "                        <td id=\"T_6bc6cf5e_3913_11ec_bc62_c4d98744e9e0row1_col2\" class=\"data row1 col2\" >0.081655</td>\n",
       "                        <td id=\"T_6bc6cf5e_3913_11ec_bc62_c4d98744e9e0row1_col3\" class=\"data row1 col3\" >0.084715</td>\n",
       "                        <td id=\"T_6bc6cf5e_3913_11ec_bc62_c4d98744e9e0row1_col4\" class=\"data row1 col4\" >0.083488</td>\n",
       "                        <td id=\"T_6bc6cf5e_3913_11ec_bc62_c4d98744e9e0row1_col5\" class=\"data row1 col5\" >0.083314</td>\n",
       "            </tr>\n",
       "            <tr>\n",
       "                                <td id=\"T_6bc6cf5e_3913_11ec_bc62_c4d98744e9e0row2_col0\" class=\"data row2 col0\" >Mean Square</td>\n",
       "                        <td id=\"T_6bc6cf5e_3913_11ec_bc62_c4d98744e9e0row2_col1\" class=\"data row2 col1\" >0.306715</td>\n",
       "                        <td id=\"T_6bc6cf5e_3913_11ec_bc62_c4d98744e9e0row2_col2\" class=\"data row2 col2\" >0.323515</td>\n",
       "                        <td id=\"T_6bc6cf5e_3913_11ec_bc62_c4d98744e9e0row2_col3\" class=\"data row2 col3\" >0.335706</td>\n",
       "                        <td id=\"T_6bc6cf5e_3913_11ec_bc62_c4d98744e9e0row2_col4\" class=\"data row2 col4\" >0.334159</td>\n",
       "                        <td id=\"T_6bc6cf5e_3913_11ec_bc62_c4d98744e9e0row2_col5\" class=\"data row2 col5\" >0.333203</td>\n",
       "            </tr>\n",
       "            <tr>\n",
       "                                <td id=\"T_6bc6cf5e_3913_11ec_bc62_c4d98744e9e0row3_col0\" class=\"data row3 col0\" >TEST_VARIANCE</td>\n",
       "                        <td id=\"T_6bc6cf5e_3913_11ec_bc62_c4d98744e9e0row3_col1\" class=\"data row3 col1\" >0.086567</td>\n",
       "                        <td id=\"T_6bc6cf5e_3913_11ec_bc62_c4d98744e9e0row3_col2\" class=\"data row3 col2\" >0.081573</td>\n",
       "                        <td id=\"T_6bc6cf5e_3913_11ec_bc62_c4d98744e9e0row3_col3\" class=\"data row3 col3\" >0.084707</td>\n",
       "                        <td id=\"T_6bc6cf5e_3913_11ec_bc62_c4d98744e9e0row3_col4\" class=\"data row3 col4\" >0.083487</td>\n",
       "                        <td id=\"T_6bc6cf5e_3913_11ec_bc62_c4d98744e9e0row3_col5\" class=\"data row3 col5\" >0.083313</td>\n",
       "            </tr>\n",
       "    </tbody></table>"
      ],
      "text/plain": [
       "<pandas.io.formats.style.Styler at 0x19b11ad71c0>"
      ]
     },
     "execution_count": 1601,
     "metadata": {},
     "output_type": "execute_result"
    }
   ],
   "source": [
    "uniform_table_1.loc[3] = ['TEST_VARIANCE', (mm1 - m1**2), (mm2 - m2**2), (mm3 - m3**2), (mm4 - m4**2), (mm5 - m5**2)]\n",
    "uniform_table_1.style.hide_index()"
   ]
  },
  {
   "cell_type": "markdown",
   "metadata": {},
   "source": [
    "*By observation (comparing the row 'Variance' and the row 'TEST_VARIANCE') the values are approximately the same. Hence, we can conclude that equation (4.23) also holds for the corresponding estimates*"
   ]
  },
  {
   "cell_type": "markdown",
   "metadata": {},
   "source": [
    "###  To understand that the estimates themselves are still somewhat random, repeat this experiment for M =1000 trials FIVE TIMES and enter the resulting estimates into the table below:\n"
   ]
  },
  {
   "cell_type": "code",
   "execution_count": 1602,
   "metadata": {},
   "outputs": [],
   "source": [
    "#With M = 1000 for the first time\n",
    "\n",
    "X = np.random.uniform(0,1,1000)\n",
    "#X"
   ]
  },
  {
   "cell_type": "code",
   "execution_count": 1603,
   "metadata": {},
   "outputs": [],
   "source": [
    "# For the first time let m1 = mean, mm1 = mean square and v1 = variance\n",
    "\n",
    "m1, mm1, v1 = expected_values(X)"
   ]
  },
  {
   "cell_type": "code",
   "execution_count": 1604,
   "metadata": {},
   "outputs": [
    {
     "data": {
      "text/plain": [
       "0.49484237645881435"
      ]
     },
     "execution_count": 1604,
     "metadata": {},
     "output_type": "execute_result"
    }
   ],
   "source": [
    "m1"
   ]
  },
  {
   "cell_type": "code",
   "execution_count": 1605,
   "metadata": {},
   "outputs": [
    {
     "data": {
      "text/plain": [
       "0.3245806155621706"
      ]
     },
     "execution_count": 1605,
     "metadata": {},
     "output_type": "execute_result"
    }
   ],
   "source": [
    "mm1"
   ]
  },
  {
   "cell_type": "code",
   "execution_count": 1606,
   "metadata": {},
   "outputs": [
    {
     "data": {
      "text/plain": [
       "0.07979142945221587"
      ]
     },
     "execution_count": 1606,
     "metadata": {},
     "output_type": "execute_result"
    }
   ],
   "source": [
    "v1"
   ]
  },
  {
   "cell_type": "code",
   "execution_count": 1607,
   "metadata": {},
   "outputs": [],
   "source": [
    "#With M = 1000 for the second time\n",
    "\n",
    "X = np.random.uniform(0,1,1000)\n",
    "#X"
   ]
  },
  {
   "cell_type": "code",
   "execution_count": 1608,
   "metadata": {},
   "outputs": [],
   "source": [
    "# For the second time let m2 = mean, mm2 = mean square and v2 = variance\n",
    "\n",
    "m2, mm2, v2 = expected_values(X)"
   ]
  },
  {
   "cell_type": "code",
   "execution_count": 1609,
   "metadata": {},
   "outputs": [
    {
     "data": {
      "text/plain": [
       "0.5108120689407651"
      ]
     },
     "execution_count": 1609,
     "metadata": {},
     "output_type": "execute_result"
    }
   ],
   "source": [
    "m2"
   ]
  },
  {
   "cell_type": "code",
   "execution_count": 1610,
   "metadata": {},
   "outputs": [
    {
     "data": {
      "text/plain": [
       "0.3450314768152506"
      ]
     },
     "execution_count": 1610,
     "metadata": {},
     "output_type": "execute_result"
    }
   ],
   "source": [
    "mm2"
   ]
  },
  {
   "cell_type": "code",
   "execution_count": 1611,
   "metadata": {},
   "outputs": [
    {
     "data": {
      "text/plain": [
       "0.08418669373343898"
      ]
     },
     "execution_count": 1611,
     "metadata": {},
     "output_type": "execute_result"
    }
   ],
   "source": [
    "v2"
   ]
  },
  {
   "cell_type": "code",
   "execution_count": 1612,
   "metadata": {},
   "outputs": [],
   "source": [
    "#With M = 1000 for the third time\n",
    "\n",
    "X = np.random.uniform(0,1,1000)\n",
    "#X"
   ]
  },
  {
   "cell_type": "code",
   "execution_count": 1613,
   "metadata": {},
   "outputs": [],
   "source": [
    "# For the third time let m3 = mean, mm3 = mean square and v3 = variance\n",
    "\n",
    "m3, mm3, v3 = expected_values(X)"
   ]
  },
  {
   "cell_type": "code",
   "execution_count": 1614,
   "metadata": {},
   "outputs": [
    {
     "data": {
      "text/plain": [
       "0.5026224560216183"
      ]
     },
     "execution_count": 1614,
     "metadata": {},
     "output_type": "execute_result"
    }
   ],
   "source": [
    "m3"
   ]
  },
  {
   "cell_type": "code",
   "execution_count": 1615,
   "metadata": {},
   "outputs": [
    {
     "data": {
      "text/plain": [
       "0.3387765734783425"
      ]
     },
     "execution_count": 1615,
     "metadata": {},
     "output_type": "execute_result"
    }
   ],
   "source": [
    "mm3"
   ]
  },
  {
   "cell_type": "code",
   "execution_count": 1616,
   "metadata": {},
   "outputs": [
    {
     "data": {
      "text/plain": [
       "0.08623347365479375"
      ]
     },
     "execution_count": 1616,
     "metadata": {},
     "output_type": "execute_result"
    }
   ],
   "source": [
    "v3"
   ]
  },
  {
   "cell_type": "code",
   "execution_count": 1617,
   "metadata": {},
   "outputs": [],
   "source": [
    "#With M = 1000 for the fourth time\n",
    "\n",
    "X = np.random.uniform(0,1,1000)\n",
    "#X"
   ]
  },
  {
   "cell_type": "code",
   "execution_count": 1618,
   "metadata": {},
   "outputs": [],
   "source": [
    "# For the fourth time let m4 = mean, mm4 = mean square and v4 = variance\n",
    "\n",
    "m4, mm4, v4 = expected_values(X)"
   ]
  },
  {
   "cell_type": "code",
   "execution_count": 1619,
   "metadata": {},
   "outputs": [
    {
     "data": {
      "text/plain": [
       "0.5052779923694487"
      ]
     },
     "execution_count": 1619,
     "metadata": {},
     "output_type": "execute_result"
    }
   ],
   "source": [
    "m4"
   ]
  },
  {
   "cell_type": "code",
   "execution_count": 1620,
   "metadata": {},
   "outputs": [
    {
     "data": {
      "text/plain": [
       "0.3412168995882909"
      ]
     },
     "execution_count": 1620,
     "metadata": {},
     "output_type": "execute_result"
    }
   ],
   "source": [
    "mm4"
   ]
  },
  {
   "cell_type": "code",
   "execution_count": 1621,
   "metadata": {},
   "outputs": [
    {
     "data": {
      "text/plain": [
       "0.08599704706245269"
      ]
     },
     "execution_count": 1621,
     "metadata": {},
     "output_type": "execute_result"
    }
   ],
   "source": [
    "v4"
   ]
  },
  {
   "cell_type": "code",
   "execution_count": 1622,
   "metadata": {},
   "outputs": [],
   "source": [
    "#With M = 1000 for the fifth time\n",
    "\n",
    "X = np.random.uniform(0,1,1000)\n",
    "#X"
   ]
  },
  {
   "cell_type": "code",
   "execution_count": 1623,
   "metadata": {},
   "outputs": [],
   "source": [
    "# For the fifth time let m5 = mean, mm5 = mean square and v5 = variance\n",
    "\n",
    "m5, mm5, v5 = expected_values(X)"
   ]
  },
  {
   "cell_type": "code",
   "execution_count": 1624,
   "metadata": {},
   "outputs": [
    {
     "data": {
      "text/plain": [
       "0.4973034609347585"
      ]
     },
     "execution_count": 1624,
     "metadata": {},
     "output_type": "execute_result"
    }
   ],
   "source": [
    "m5"
   ]
  },
  {
   "cell_type": "code",
   "execution_count": 1625,
   "metadata": {},
   "outputs": [
    {
     "data": {
      "text/plain": [
       "0.328393879549001"
      ]
     },
     "execution_count": 1625,
     "metadata": {},
     "output_type": "execute_result"
    }
   ],
   "source": [
    "mm5"
   ]
  },
  {
   "cell_type": "code",
   "execution_count": 1626,
   "metadata": {},
   "outputs": [
    {
     "data": {
      "text/plain": [
       "0.08116431160291505"
      ]
     },
     "execution_count": 1626,
     "metadata": {},
     "output_type": "execute_result"
    }
   ],
   "source": [
    "v5"
   ]
  },
  {
   "cell_type": "markdown",
   "metadata": {},
   "source": [
    "### Enter the resulting estimates into the table below:"
   ]
  },
  {
   "cell_type": "code",
   "execution_count": 1627,
   "metadata": {},
   "outputs": [],
   "source": [
    "dict_uniform_2 = {\n",
    "    'No.':['Mean', 'Variance', 'Mean Square'],\n",
    "    1:[m1,v1,mm1],\n",
    "    2:[m2,v2,mm2],\n",
    "    3:[m3,v3,mm3],\n",
    "    4:[m4,v4,mm4],\n",
    "    5:[m5,v5,mm5]\n",
    "}\n"
   ]
  },
  {
   "cell_type": "code",
   "execution_count": 1628,
   "metadata": {},
   "outputs": [
    {
     "data": {
      "text/html": [
       "<style  type=\"text/css\" >\n",
       "</style><table id=\"T_7182bb12_3913_11ec_8b44_c4d98744e9e0\" ><thead>    <tr>        <th class=\"col_heading level0 col0\" >No.</th>        <th class=\"col_heading level0 col1\" >1</th>        <th class=\"col_heading level0 col2\" >2</th>        <th class=\"col_heading level0 col3\" >3</th>        <th class=\"col_heading level0 col4\" >4</th>        <th class=\"col_heading level0 col5\" >5</th>    </tr></thead><tbody>\n",
       "                <tr>\n",
       "                                <td id=\"T_7182bb12_3913_11ec_8b44_c4d98744e9e0row0_col0\" class=\"data row0 col0\" >Mean</td>\n",
       "                        <td id=\"T_7182bb12_3913_11ec_8b44_c4d98744e9e0row0_col1\" class=\"data row0 col1\" >0.494842</td>\n",
       "                        <td id=\"T_7182bb12_3913_11ec_8b44_c4d98744e9e0row0_col2\" class=\"data row0 col2\" >0.510812</td>\n",
       "                        <td id=\"T_7182bb12_3913_11ec_8b44_c4d98744e9e0row0_col3\" class=\"data row0 col3\" >0.502622</td>\n",
       "                        <td id=\"T_7182bb12_3913_11ec_8b44_c4d98744e9e0row0_col4\" class=\"data row0 col4\" >0.505278</td>\n",
       "                        <td id=\"T_7182bb12_3913_11ec_8b44_c4d98744e9e0row0_col5\" class=\"data row0 col5\" >0.497303</td>\n",
       "            </tr>\n",
       "            <tr>\n",
       "                                <td id=\"T_7182bb12_3913_11ec_8b44_c4d98744e9e0row1_col0\" class=\"data row1 col0\" >Variance</td>\n",
       "                        <td id=\"T_7182bb12_3913_11ec_8b44_c4d98744e9e0row1_col1\" class=\"data row1 col1\" >0.079791</td>\n",
       "                        <td id=\"T_7182bb12_3913_11ec_8b44_c4d98744e9e0row1_col2\" class=\"data row1 col2\" >0.084187</td>\n",
       "                        <td id=\"T_7182bb12_3913_11ec_8b44_c4d98744e9e0row1_col3\" class=\"data row1 col3\" >0.086233</td>\n",
       "                        <td id=\"T_7182bb12_3913_11ec_8b44_c4d98744e9e0row1_col4\" class=\"data row1 col4\" >0.085997</td>\n",
       "                        <td id=\"T_7182bb12_3913_11ec_8b44_c4d98744e9e0row1_col5\" class=\"data row1 col5\" >0.081164</td>\n",
       "            </tr>\n",
       "            <tr>\n",
       "                                <td id=\"T_7182bb12_3913_11ec_8b44_c4d98744e9e0row2_col0\" class=\"data row2 col0\" >Mean Square</td>\n",
       "                        <td id=\"T_7182bb12_3913_11ec_8b44_c4d98744e9e0row2_col1\" class=\"data row2 col1\" >0.324581</td>\n",
       "                        <td id=\"T_7182bb12_3913_11ec_8b44_c4d98744e9e0row2_col2\" class=\"data row2 col2\" >0.345031</td>\n",
       "                        <td id=\"T_7182bb12_3913_11ec_8b44_c4d98744e9e0row2_col3\" class=\"data row2 col3\" >0.338777</td>\n",
       "                        <td id=\"T_7182bb12_3913_11ec_8b44_c4d98744e9e0row2_col4\" class=\"data row2 col4\" >0.341217</td>\n",
       "                        <td id=\"T_7182bb12_3913_11ec_8b44_c4d98744e9e0row2_col5\" class=\"data row2 col5\" >0.328394</td>\n",
       "            </tr>\n",
       "    </tbody></table>"
      ],
      "text/plain": [
       "<pandas.io.formats.style.Styler at 0x19b136054f0>"
      ]
     },
     "execution_count": 1628,
     "metadata": {},
     "output_type": "execute_result"
    }
   ],
   "source": [
    "uniform_table_2 = pd.DataFrame(dict_uniform_2)\n",
    "\n",
    "uniform_table_2.style.hide_index()"
   ]
  },
  {
   "cell_type": "markdown",
   "metadata": {},
   "source": [
    "## (b) Gaussian random variable:\n",
    "## Estimate mean, variance and mean square of zero-mean Gaussian random numbers using the expected_values function for different numbers of independent trials M\n"
   ]
  },
  {
   "cell_type": "code",
   "execution_count": 1629,
   "metadata": {},
   "outputs": [],
   "source": [
    "# We are to use the function \"normal\" from numpy.random to generate an array X of M normally distributed random numbers\n",
    "# with zero mean and variance 1 (that is the standard deviation is also 1)\n",
    "\n",
    "# With M = 100\n",
    "X = np.random.normal(0, 1, 100)\n",
    "#X"
   ]
  },
  {
   "cell_type": "code",
   "execution_count": 1630,
   "metadata": {},
   "outputs": [],
   "source": [
    "# With M = 100, let m1 = mean, mm1 = mean square and v1 = variance\n",
    "\n",
    "m1, mm1, v1 = expected_values(X)"
   ]
  },
  {
   "cell_type": "code",
   "execution_count": 1631,
   "metadata": {},
   "outputs": [
    {
     "data": {
      "text/plain": [
       "-0.33223964642038384"
      ]
     },
     "execution_count": 1631,
     "metadata": {},
     "output_type": "execute_result"
    }
   ],
   "source": [
    "m1"
   ]
  },
  {
   "cell_type": "code",
   "execution_count": 1632,
   "metadata": {},
   "outputs": [
    {
     "data": {
      "text/plain": [
       "0.963655056500806"
      ]
     },
     "execution_count": 1632,
     "metadata": {},
     "output_type": "execute_result"
    }
   ],
   "source": [
    "mm1"
   ]
  },
  {
   "cell_type": "code",
   "execution_count": 1633,
   "metadata": {},
   "outputs": [
    {
     "data": {
      "text/plain": [
       "0.8618907816639034"
      ]
     },
     "execution_count": 1633,
     "metadata": {},
     "output_type": "execute_result"
    }
   ],
   "source": [
    "v1"
   ]
  },
  {
   "cell_type": "code",
   "execution_count": 1634,
   "metadata": {},
   "outputs": [],
   "source": [
    "# With M = 1000\n",
    "X = np.random.normal(0, 1, 1000)\n",
    "#X"
   ]
  },
  {
   "cell_type": "code",
   "execution_count": 1635,
   "metadata": {},
   "outputs": [],
   "source": [
    "# With M = 1000, let m2 = mean, mm2 = mean square and v2 = variance\n",
    "\n",
    "m2, mm2, v2 = expected_values(X)"
   ]
  },
  {
   "cell_type": "code",
   "execution_count": 1636,
   "metadata": {},
   "outputs": [
    {
     "data": {
      "text/plain": [
       "-0.04982488802883778"
      ]
     },
     "execution_count": 1636,
     "metadata": {},
     "output_type": "execute_result"
    }
   ],
   "source": [
    "m2"
   ]
  },
  {
   "cell_type": "code",
   "execution_count": 1637,
   "metadata": {},
   "outputs": [
    {
     "data": {
      "text/plain": [
       "0.9358455731733247"
      ]
     },
     "execution_count": 1637,
     "metadata": {},
     "output_type": "execute_result"
    }
   ],
   "source": [
    "mm2"
   ]
  },
  {
   "cell_type": "code",
   "execution_count": 1638,
   "metadata": {},
   "outputs": [
    {
     "data": {
      "text/plain": [
       "0.9342973510572958"
      ]
     },
     "execution_count": 1638,
     "metadata": {},
     "output_type": "execute_result"
    }
   ],
   "source": [
    "v2"
   ]
  },
  {
   "cell_type": "code",
   "execution_count": 1639,
   "metadata": {},
   "outputs": [],
   "source": [
    "# With M = 10000\n",
    "\n",
    "X = np.random.normal(0, 1, 10000)\n",
    "#X"
   ]
  },
  {
   "cell_type": "code",
   "execution_count": 1640,
   "metadata": {},
   "outputs": [],
   "source": [
    "# With M = 10000, let m3 = mean, mm3 = mean square and v3 = variance\n",
    "\n",
    "m3, mm3, v3 = expected_values(X)"
   ]
  },
  {
   "cell_type": "code",
   "execution_count": 1641,
   "metadata": {},
   "outputs": [
    {
     "data": {
      "text/plain": [
       "0.010268277263272818"
      ]
     },
     "execution_count": 1641,
     "metadata": {},
     "output_type": "execute_result"
    }
   ],
   "source": [
    "m3"
   ]
  },
  {
   "cell_type": "code",
   "execution_count": 1642,
   "metadata": {},
   "outputs": [
    {
     "data": {
      "text/plain": [
       "1.003357658520014"
      ]
     },
     "execution_count": 1642,
     "metadata": {},
     "output_type": "execute_result"
    }
   ],
   "source": [
    "mm3"
   ]
  },
  {
   "cell_type": "code",
   "execution_count": 1643,
   "metadata": {},
   "outputs": [
    {
     "data": {
      "text/plain": [
       "1.0033525562576842"
      ]
     },
     "execution_count": 1643,
     "metadata": {},
     "output_type": "execute_result"
    }
   ],
   "source": [
    "v3"
   ]
  },
  {
   "cell_type": "code",
   "execution_count": 1644,
   "metadata": {},
   "outputs": [],
   "source": [
    "# With M = 100000\n",
    "\n",
    "X = np.random.normal(0, 1, 100000)\n",
    "#X"
   ]
  },
  {
   "cell_type": "code",
   "execution_count": 1645,
   "metadata": {},
   "outputs": [],
   "source": [
    "# With M = 100000, let m4 = mean, mm4 = mean square and v4 = variance\n",
    "\n",
    "m4, mm4, v4 = expected_values(X)"
   ]
  },
  {
   "cell_type": "code",
   "execution_count": 1646,
   "metadata": {},
   "outputs": [
    {
     "data": {
      "text/plain": [
       "-0.0035788993466945767"
      ]
     },
     "execution_count": 1646,
     "metadata": {},
     "output_type": "execute_result"
    }
   ],
   "source": [
    "m4"
   ]
  },
  {
   "cell_type": "code",
   "execution_count": 1647,
   "metadata": {},
   "outputs": [
    {
     "data": {
      "text/plain": [
       "1.0013137817292963"
      ]
     },
     "execution_count": 1647,
     "metadata": {},
     "output_type": "execute_result"
    }
   ],
   "source": [
    "mm4"
   ]
  },
  {
   "cell_type": "code",
   "execution_count": 1648,
   "metadata": {},
   "outputs": [
    {
     "data": {
      "text/plain": [
       "1.0013109863186256"
      ]
     },
     "execution_count": 1648,
     "metadata": {},
     "output_type": "execute_result"
    }
   ],
   "source": [
    "v4"
   ]
  },
  {
   "cell_type": "code",
   "execution_count": 1649,
   "metadata": {},
   "outputs": [],
   "source": [
    "# With M = 1000000\n",
    "\n",
    "X = np.random.normal(0, 1, 1000000)\n",
    "#X"
   ]
  },
  {
   "cell_type": "code",
   "execution_count": 1650,
   "metadata": {},
   "outputs": [],
   "source": [
    "# With M = 1000000, let m5 = mean, mm5 = mean square and v5 = variance\n",
    "\n",
    "m5, mm5, v5 = expected_values(X)"
   ]
  },
  {
   "cell_type": "code",
   "execution_count": 1651,
   "metadata": {},
   "outputs": [
    {
     "data": {
      "text/plain": [
       "0.0005369904608031143"
      ]
     },
     "execution_count": 1651,
     "metadata": {},
     "output_type": "execute_result"
    }
   ],
   "source": [
    "m5"
   ]
  },
  {
   "cell_type": "code",
   "execution_count": 1652,
   "metadata": {},
   "outputs": [
    {
     "data": {
      "text/plain": [
       "1.0000577793961132"
      ]
     },
     "execution_count": 1652,
     "metadata": {},
     "output_type": "execute_result"
    }
   ],
   "source": [
    "mm5"
   ]
  },
  {
   "cell_type": "code",
   "execution_count": 1653,
   "metadata": {},
   "outputs": [
    {
     "data": {
      "text/plain": [
       "1.0000584910958494"
      ]
     },
     "execution_count": 1653,
     "metadata": {},
     "output_type": "execute_result"
    }
   ],
   "source": [
    "v5"
   ]
  },
  {
   "cell_type": "markdown",
   "metadata": {},
   "source": [
    "### Enter these values into the corresponding column in a table:"
   ]
  },
  {
   "cell_type": "code",
   "execution_count": 1654,
   "metadata": {},
   "outputs": [],
   "source": [
    "dict_Gaussian = {\n",
    "    'No.':['Mean', 'Variance', 'Mean Square'],\n",
    "    100:[m1,v1,mm1],\n",
    "    1000:[m2,v2,mm2],\n",
    "    10000:[m3,v3,mm3],\n",
    "    100000:[m4,v4,mm4],\n",
    "    1000000:[m5,v5,mm5]\n",
    "}"
   ]
  },
  {
   "cell_type": "code",
   "execution_count": 1655,
   "metadata": {},
   "outputs": [
    {
     "data": {
      "text/html": [
       "<style  type=\"text/css\" >\n",
       "</style><table id=\"T_76a0b2c8_3913_11ec_8a1d_c4d98744e9e0\" ><thead>    <tr>        <th class=\"col_heading level0 col0\" >No.</th>        <th class=\"col_heading level0 col1\" >100</th>        <th class=\"col_heading level0 col2\" >1000</th>        <th class=\"col_heading level0 col3\" >10000</th>        <th class=\"col_heading level0 col4\" >100000</th>        <th class=\"col_heading level0 col5\" >1000000</th>    </tr></thead><tbody>\n",
       "                <tr>\n",
       "                                <td id=\"T_76a0b2c8_3913_11ec_8a1d_c4d98744e9e0row0_col0\" class=\"data row0 col0\" >Mean</td>\n",
       "                        <td id=\"T_76a0b2c8_3913_11ec_8a1d_c4d98744e9e0row0_col1\" class=\"data row0 col1\" >-0.332240</td>\n",
       "                        <td id=\"T_76a0b2c8_3913_11ec_8a1d_c4d98744e9e0row0_col2\" class=\"data row0 col2\" >-0.049825</td>\n",
       "                        <td id=\"T_76a0b2c8_3913_11ec_8a1d_c4d98744e9e0row0_col3\" class=\"data row0 col3\" >0.010268</td>\n",
       "                        <td id=\"T_76a0b2c8_3913_11ec_8a1d_c4d98744e9e0row0_col4\" class=\"data row0 col4\" >-0.003579</td>\n",
       "                        <td id=\"T_76a0b2c8_3913_11ec_8a1d_c4d98744e9e0row0_col5\" class=\"data row0 col5\" >0.000537</td>\n",
       "            </tr>\n",
       "            <tr>\n",
       "                                <td id=\"T_76a0b2c8_3913_11ec_8a1d_c4d98744e9e0row1_col0\" class=\"data row1 col0\" >Variance</td>\n",
       "                        <td id=\"T_76a0b2c8_3913_11ec_8a1d_c4d98744e9e0row1_col1\" class=\"data row1 col1\" >0.861891</td>\n",
       "                        <td id=\"T_76a0b2c8_3913_11ec_8a1d_c4d98744e9e0row1_col2\" class=\"data row1 col2\" >0.934297</td>\n",
       "                        <td id=\"T_76a0b2c8_3913_11ec_8a1d_c4d98744e9e0row1_col3\" class=\"data row1 col3\" >1.003353</td>\n",
       "                        <td id=\"T_76a0b2c8_3913_11ec_8a1d_c4d98744e9e0row1_col4\" class=\"data row1 col4\" >1.001311</td>\n",
       "                        <td id=\"T_76a0b2c8_3913_11ec_8a1d_c4d98744e9e0row1_col5\" class=\"data row1 col5\" >1.000058</td>\n",
       "            </tr>\n",
       "            <tr>\n",
       "                                <td id=\"T_76a0b2c8_3913_11ec_8a1d_c4d98744e9e0row2_col0\" class=\"data row2 col0\" >Mean Square</td>\n",
       "                        <td id=\"T_76a0b2c8_3913_11ec_8a1d_c4d98744e9e0row2_col1\" class=\"data row2 col1\" >0.963655</td>\n",
       "                        <td id=\"T_76a0b2c8_3913_11ec_8a1d_c4d98744e9e0row2_col2\" class=\"data row2 col2\" >0.935846</td>\n",
       "                        <td id=\"T_76a0b2c8_3913_11ec_8a1d_c4d98744e9e0row2_col3\" class=\"data row2 col3\" >1.003358</td>\n",
       "                        <td id=\"T_76a0b2c8_3913_11ec_8a1d_c4d98744e9e0row2_col4\" class=\"data row2 col4\" >1.001314</td>\n",
       "                        <td id=\"T_76a0b2c8_3913_11ec_8a1d_c4d98744e9e0row2_col5\" class=\"data row2 col5\" >1.000058</td>\n",
       "            </tr>\n",
       "    </tbody></table>"
      ],
      "text/plain": [
       "<pandas.io.formats.style.Styler at 0x19b136059d0>"
      ]
     },
     "execution_count": 1655,
     "metadata": {},
     "output_type": "execute_result"
    }
   ],
   "source": [
    "Gaussian_table = pd.DataFrame(dict_Gaussian)\n",
    "Gaussian_table.style.hide_index()"
   ]
  },
  {
   "cell_type": "markdown",
   "metadata": {},
   "source": [
    " ## Experiment 4: Estimation of the probability density function"
   ]
  },
  {
   "cell_type": "code",
   "execution_count": 1656,
   "metadata": {},
   "outputs": [],
   "source": [
    "# Use function \"normal\" to generate an array X of M zero-mean Gaussian distributed random numbers of unit variance\n",
    "# For unit variance, standard deviation is also 1\n"
   ]
  },
  {
   "cell_type": "code",
   "execution_count": 1657,
   "metadata": {},
   "outputs": [],
   "source": [
    "# With M = 100\n",
    "\n",
    "X = np.random.normal(0, 1, 100)"
   ]
  },
  {
   "cell_type": "code",
   "execution_count": 1658,
   "metadata": {},
   "outputs": [
    {
     "data": {
      "text/plain": [
       "0"
      ]
     },
     "execution_count": 1658,
     "metadata": {},
     "output_type": "execute_result"
    }
   ],
   "source": [
    "# To examine how many times the mean value is TAKEN ON EXACTLY in M trials, we use \"hits=number_hits_interval(X, lower_bound)\"\n",
    "# For M = 100, hits = h1\n",
    "\n",
    "h1 = number_hits_interval(X, 0)\n",
    "h1\n"
   ]
  },
  {
   "cell_type": "code",
   "execution_count": 1659,
   "metadata": {},
   "outputs": [],
   "source": [
    "# With M = 1000\n",
    "\n",
    "X = np.random.normal(0, 1, 1000)"
   ]
  },
  {
   "cell_type": "code",
   "execution_count": 1660,
   "metadata": {},
   "outputs": [
    {
     "data": {
      "text/plain": [
       "0"
      ]
     },
     "execution_count": 1660,
     "metadata": {},
     "output_type": "execute_result"
    }
   ],
   "source": [
    "# For M = 1000, hits = h2\n",
    "\n",
    "h2 = number_hits_interval(X, 0)\n",
    "h2\n"
   ]
  },
  {
   "cell_type": "code",
   "execution_count": 1661,
   "metadata": {},
   "outputs": [],
   "source": [
    "# With M = 10000\n",
    "X = np.random.normal(0, 1, 10000)"
   ]
  },
  {
   "cell_type": "code",
   "execution_count": 1662,
   "metadata": {},
   "outputs": [
    {
     "data": {
      "text/plain": [
       "0"
      ]
     },
     "execution_count": 1662,
     "metadata": {},
     "output_type": "execute_result"
    }
   ],
   "source": [
    "# For M = 10000, hits = h3\n",
    "\n",
    "h3 = number_hits_interval(X, 0)\n",
    "h3\n"
   ]
  },
  {
   "cell_type": "code",
   "execution_count": 1663,
   "metadata": {},
   "outputs": [],
   "source": [
    "# With M = 100000\n",
    "\n",
    "X = np.random.normal(0, 1, 100000)"
   ]
  },
  {
   "cell_type": "code",
   "execution_count": 1664,
   "metadata": {},
   "outputs": [
    {
     "data": {
      "text/plain": [
       "0"
      ]
     },
     "execution_count": 1664,
     "metadata": {},
     "output_type": "execute_result"
    }
   ],
   "source": [
    "# For M = 100000, hits = h4\n",
    "\n",
    "h4 = number_hits_interval(X, 0)\n",
    "h4"
   ]
  },
  {
   "cell_type": "code",
   "execution_count": 1665,
   "metadata": {},
   "outputs": [],
   "source": [
    "# With M = 1000000\n",
    "X = np.random.normal(0, 1, 1000000)"
   ]
  },
  {
   "cell_type": "code",
   "execution_count": 1666,
   "metadata": {},
   "outputs": [
    {
     "data": {
      "text/plain": [
       "0"
      ]
     },
     "execution_count": 1666,
     "metadata": {},
     "output_type": "execute_result"
    }
   ],
   "source": [
    "# For M = 1000000, hits = h5\n",
    "\n",
    "h5 = number_hits_interval(X, 0)\n",
    "h5"
   ]
  },
  {
   "cell_type": "markdown",
   "metadata": {},
   "source": [
    "### Enter this absolute frequency into the table below:\n"
   ]
  },
  {
   "cell_type": "code",
   "execution_count": 1667,
   "metadata": {},
   "outputs": [],
   "source": [
    "dict_pdf = {\n",
    "    'M':['abs. frequency F'],\n",
    "    100:[h1],\n",
    "    1000:[h2],\n",
    "    10000:[h3],\n",
    "    100000:[h4],\n",
    "    1000000:[h5]\n",
    "}"
   ]
  },
  {
   "cell_type": "code",
   "execution_count": 1668,
   "metadata": {},
   "outputs": [
    {
     "data": {
      "text/html": [
       "<style  type=\"text/css\" >\n",
       "</style><table id=\"T_7a73b3cd_3913_11ec_80b6_c4d98744e9e0\" ><thead>    <tr>        <th class=\"col_heading level0 col0\" >M</th>        <th class=\"col_heading level0 col1\" >100</th>        <th class=\"col_heading level0 col2\" >1000</th>        <th class=\"col_heading level0 col3\" >10000</th>        <th class=\"col_heading level0 col4\" >100000</th>        <th class=\"col_heading level0 col5\" >1000000</th>    </tr></thead><tbody>\n",
       "                <tr>\n",
       "                                <td id=\"T_7a73b3cd_3913_11ec_80b6_c4d98744e9e0row0_col0\" class=\"data row0 col0\" >abs. frequency F</td>\n",
       "                        <td id=\"T_7a73b3cd_3913_11ec_80b6_c4d98744e9e0row0_col1\" class=\"data row0 col1\" >0</td>\n",
       "                        <td id=\"T_7a73b3cd_3913_11ec_80b6_c4d98744e9e0row0_col2\" class=\"data row0 col2\" >0</td>\n",
       "                        <td id=\"T_7a73b3cd_3913_11ec_80b6_c4d98744e9e0row0_col3\" class=\"data row0 col3\" >0</td>\n",
       "                        <td id=\"T_7a73b3cd_3913_11ec_80b6_c4d98744e9e0row0_col4\" class=\"data row0 col4\" >0</td>\n",
       "                        <td id=\"T_7a73b3cd_3913_11ec_80b6_c4d98744e9e0row0_col5\" class=\"data row0 col5\" >0</td>\n",
       "            </tr>\n",
       "    </tbody></table>"
      ],
      "text/plain": [
       "<pandas.io.formats.style.Styler at 0x19b136056a0>"
      ]
     },
     "execution_count": 1668,
     "metadata": {},
     "output_type": "execute_result"
    }
   ],
   "source": [
    "pdf_table = pd.DataFrame(dict_pdf)\n",
    "pdf_table.style.hide_index()"
   ]
  },
  {
   "cell_type": "markdown",
   "metadata": {},
   "source": [
    "### What is the probability of a continuous random variable X taking on exactly a certain real value $x_{i}$ ?\n",
    "#### P(X = $x_{i}$) = 0"
   ]
  },
  {
   "cell_type": "markdown",
   "metadata": {},
   "source": [
    "### b) Change the experiment from the previous section by investigating the number of hits within a small interval [−∆x/2, ∆x/2] around the mean value. Use the same number of trials for each experiment and vary the bin width ∆x.\n"
   ]
  },
  {
   "cell_type": "code",
   "execution_count": 1669,
   "metadata": {},
   "outputs": [],
   "source": [
    "M = 1000000\n",
    "X = np.random.normal(0, 1, M)"
   ]
  },
  {
   "cell_type": "code",
   "execution_count": 1670,
   "metadata": {},
   "outputs": [],
   "source": [
    "delta_x = 0.1\n",
    "\n",
    "# For delta_x = 0.1\n",
    "\n",
    "# F1 = absolute frquency\n",
    "\n",
    "# f1 = relative frequency\n",
    "\n",
    "# fx_0a = the value of the PDF at x = 0"
   ]
  },
  {
   "cell_type": "code",
   "execution_count": 1671,
   "metadata": {},
   "outputs": [],
   "source": [
    "F1 = number_hits_interval(X, -delta_x/2, delta_x/2)"
   ]
  },
  {
   "cell_type": "code",
   "execution_count": 1672,
   "metadata": {},
   "outputs": [
    {
     "data": {
      "text/plain": [
       "39754"
      ]
     },
     "execution_count": 1672,
     "metadata": {},
     "output_type": "execute_result"
    }
   ],
   "source": [
    "F1"
   ]
  },
  {
   "cell_type": "code",
   "execution_count": 1673,
   "metadata": {},
   "outputs": [
    {
     "data": {
      "text/plain": [
       "0.039754"
      ]
     },
     "execution_count": 1673,
     "metadata": {},
     "output_type": "execute_result"
    }
   ],
   "source": [
    "f1 = F1/M\n",
    "f1"
   ]
  },
  {
   "cell_type": "code",
   "execution_count": 1674,
   "metadata": {},
   "outputs": [
    {
     "data": {
      "text/plain": [
       "0.39753999999999995"
      ]
     },
     "execution_count": 1674,
     "metadata": {},
     "output_type": "execute_result"
    }
   ],
   "source": [
    "fx_0a = f1/delta_x\n",
    "fx_0a"
   ]
  },
  {
   "cell_type": "code",
   "execution_count": 1675,
   "metadata": {},
   "outputs": [],
   "source": [
    "delta_x = 0.01\n",
    "\n",
    "# For delta_x = 0.01\n",
    "\n",
    "# F2 = absolute frquency\n",
    "\n",
    "# f2 = relative frequency\n",
    "\n",
    "# fx_0b = the value of the PDF at x = 0"
   ]
  },
  {
   "cell_type": "code",
   "execution_count": 1676,
   "metadata": {},
   "outputs": [],
   "source": [
    "F2 = number_hits_interval(X, -delta_x/2, delta_x/2)"
   ]
  },
  {
   "cell_type": "code",
   "execution_count": 1677,
   "metadata": {},
   "outputs": [
    {
     "data": {
      "text/plain": [
       "4012"
      ]
     },
     "execution_count": 1677,
     "metadata": {},
     "output_type": "execute_result"
    }
   ],
   "source": [
    "F2"
   ]
  },
  {
   "cell_type": "code",
   "execution_count": 1678,
   "metadata": {},
   "outputs": [
    {
     "data": {
      "text/plain": [
       "0.004012"
      ]
     },
     "execution_count": 1678,
     "metadata": {},
     "output_type": "execute_result"
    }
   ],
   "source": [
    "f2 = F2/M\n",
    "f2"
   ]
  },
  {
   "cell_type": "code",
   "execution_count": 1679,
   "metadata": {},
   "outputs": [
    {
     "data": {
      "text/plain": [
       "0.4012"
      ]
     },
     "execution_count": 1679,
     "metadata": {},
     "output_type": "execute_result"
    }
   ],
   "source": [
    "fx_0b = f2/delta_x\n",
    "fx_0b"
   ]
  },
  {
   "cell_type": "code",
   "execution_count": 1680,
   "metadata": {},
   "outputs": [],
   "source": [
    "delta_x = 0.001\n",
    "\n",
    "# For delta_x = 0.001\n",
    "\n",
    "# F3 = absolute frquency\n",
    "\n",
    "# f3 = relative frequency\n",
    "\n",
    "# fx_0c = the value of the PDF at x = 0"
   ]
  },
  {
   "cell_type": "code",
   "execution_count": 1681,
   "metadata": {},
   "outputs": [],
   "source": [
    "F3 = number_hits_interval(X, -delta_x/2, delta_x/2)"
   ]
  },
  {
   "cell_type": "code",
   "execution_count": 1682,
   "metadata": {},
   "outputs": [
    {
     "data": {
      "text/plain": [
       "400"
      ]
     },
     "execution_count": 1682,
     "metadata": {},
     "output_type": "execute_result"
    }
   ],
   "source": [
    "F3"
   ]
  },
  {
   "cell_type": "code",
   "execution_count": 1683,
   "metadata": {},
   "outputs": [
    {
     "data": {
      "text/plain": [
       "0.0004"
      ]
     },
     "execution_count": 1683,
     "metadata": {},
     "output_type": "execute_result"
    }
   ],
   "source": [
    "f3 = F3/M\n",
    "f3"
   ]
  },
  {
   "cell_type": "code",
   "execution_count": 1684,
   "metadata": {},
   "outputs": [
    {
     "data": {
      "text/plain": [
       "0.4"
      ]
     },
     "execution_count": 1684,
     "metadata": {},
     "output_type": "execute_result"
    }
   ],
   "source": [
    "fx_0c = f3/delta_x\n",
    "fx_0c"
   ]
  },
  {
   "cell_type": "code",
   "execution_count": 1685,
   "metadata": {},
   "outputs": [],
   "source": [
    "delta_x = 0.0001\n",
    "\n",
    "# For delta_x = 0.0001\n",
    "\n",
    "# F4 = absolute frquency\n",
    "\n",
    "# f4 = relative frequency\n",
    "\n",
    "# fx_0d = the value of the PDF at x = 0"
   ]
  },
  {
   "cell_type": "code",
   "execution_count": 1686,
   "metadata": {},
   "outputs": [],
   "source": [
    "F4 = number_hits_interval(X, -delta_x/2, delta_x/2)"
   ]
  },
  {
   "cell_type": "code",
   "execution_count": 1687,
   "metadata": {},
   "outputs": [
    {
     "data": {
      "text/plain": [
       "37"
      ]
     },
     "execution_count": 1687,
     "metadata": {},
     "output_type": "execute_result"
    }
   ],
   "source": [
    "F4"
   ]
  },
  {
   "cell_type": "code",
   "execution_count": 1688,
   "metadata": {},
   "outputs": [
    {
     "data": {
      "text/plain": [
       "3.7e-05"
      ]
     },
     "execution_count": 1688,
     "metadata": {},
     "output_type": "execute_result"
    }
   ],
   "source": [
    "f4 = F4/M\n",
    "f4"
   ]
  },
  {
   "cell_type": "code",
   "execution_count": 1689,
   "metadata": {},
   "outputs": [
    {
     "data": {
      "text/plain": [
       "0.36999999999999994"
      ]
     },
     "execution_count": 1689,
     "metadata": {},
     "output_type": "execute_result"
    }
   ],
   "source": [
    "fx_0d = f4/delta_x\n",
    "fx_0d"
   ]
  },
  {
   "cell_type": "markdown",
   "metadata": {},
   "source": [
    "### Enter the values into the table below:"
   ]
  },
  {
   "cell_type": "code",
   "execution_count": 1690,
   "metadata": {},
   "outputs": [],
   "source": [
    "dict_pdf_2 = {\n",
    "    '∆x':['absolute frequency F', 'relative frequency f', 'fx(0)'],\n",
    "    0.1:[F1, f1, fx_0a],\n",
    "    0.01:[F2, f2, fx_0b],\n",
    "    0.001:[F3, f3, fx_0c],\n",
    "    0.0001:[F4, f4, fx_0d]\n",
    "}"
   ]
  },
  {
   "cell_type": "code",
   "execution_count": 1691,
   "metadata": {},
   "outputs": [
    {
     "data": {
      "text/html": [
       "<style  type=\"text/css\" >\n",
       "</style><table id=\"T_828a2e72_3913_11ec_8daa_c4d98744e9e0\" ><thead>    <tr>        <th class=\"col_heading level0 col0\" >∆x</th>        <th class=\"col_heading level0 col1\" >0.1</th>        <th class=\"col_heading level0 col2\" >0.01</th>        <th class=\"col_heading level0 col3\" >0.001</th>        <th class=\"col_heading level0 col4\" >0.0001</th>    </tr></thead><tbody>\n",
       "                <tr>\n",
       "                                <td id=\"T_828a2e72_3913_11ec_8daa_c4d98744e9e0row0_col0\" class=\"data row0 col0\" >absolute frequency F</td>\n",
       "                        <td id=\"T_828a2e72_3913_11ec_8daa_c4d98744e9e0row0_col1\" class=\"data row0 col1\" >39754.000000</td>\n",
       "                        <td id=\"T_828a2e72_3913_11ec_8daa_c4d98744e9e0row0_col2\" class=\"data row0 col2\" >4012.000000</td>\n",
       "                        <td id=\"T_828a2e72_3913_11ec_8daa_c4d98744e9e0row0_col3\" class=\"data row0 col3\" >400.000000</td>\n",
       "                        <td id=\"T_828a2e72_3913_11ec_8daa_c4d98744e9e0row0_col4\" class=\"data row0 col4\" >37.000000</td>\n",
       "            </tr>\n",
       "            <tr>\n",
       "                                <td id=\"T_828a2e72_3913_11ec_8daa_c4d98744e9e0row1_col0\" class=\"data row1 col0\" >relative frequency f</td>\n",
       "                        <td id=\"T_828a2e72_3913_11ec_8daa_c4d98744e9e0row1_col1\" class=\"data row1 col1\" >0.039754</td>\n",
       "                        <td id=\"T_828a2e72_3913_11ec_8daa_c4d98744e9e0row1_col2\" class=\"data row1 col2\" >0.004012</td>\n",
       "                        <td id=\"T_828a2e72_3913_11ec_8daa_c4d98744e9e0row1_col3\" class=\"data row1 col3\" >0.000400</td>\n",
       "                        <td id=\"T_828a2e72_3913_11ec_8daa_c4d98744e9e0row1_col4\" class=\"data row1 col4\" >0.000037</td>\n",
       "            </tr>\n",
       "            <tr>\n",
       "                                <td id=\"T_828a2e72_3913_11ec_8daa_c4d98744e9e0row2_col0\" class=\"data row2 col0\" >fx(0)</td>\n",
       "                        <td id=\"T_828a2e72_3913_11ec_8daa_c4d98744e9e0row2_col1\" class=\"data row2 col1\" >0.397540</td>\n",
       "                        <td id=\"T_828a2e72_3913_11ec_8daa_c4d98744e9e0row2_col2\" class=\"data row2 col2\" >0.401200</td>\n",
       "                        <td id=\"T_828a2e72_3913_11ec_8daa_c4d98744e9e0row2_col3\" class=\"data row2 col3\" >0.400000</td>\n",
       "                        <td id=\"T_828a2e72_3913_11ec_8daa_c4d98744e9e0row2_col4\" class=\"data row2 col4\" >0.370000</td>\n",
       "            </tr>\n",
       "    </tbody></table>"
      ],
      "text/plain": [
       "<pandas.io.formats.style.Styler at 0x19b0ef9cbb0>"
      ]
     },
     "execution_count": 1691,
     "metadata": {},
     "output_type": "execute_result"
    }
   ],
   "source": [
    "pdf_table_2 = pd.DataFrame(dict_pdf_2)\n",
    "pdf_table_2.style.hide_index()"
   ]
  },
  {
   "cell_type": "markdown",
   "metadata": {},
   "source": [
    "### c) Estimate the probability density function of a uniform and a Gaussian random variable:"
   ]
  },
  {
   "cell_type": "code",
   "execution_count": 1692,
   "metadata": {},
   "outputs": [],
   "source": [
    "M = 100000 #size of both arrays\n",
    "N = 100 # number of bins for the histogram\n",
    "\n",
    "X_uniform =  np.random.uniform(0, 1, M)"
   ]
  },
  {
   "cell_type": "code",
   "execution_count": 1693,
   "metadata": {},
   "outputs": [],
   "source": [
    "X_normal = np.random.normal(0, 1, M)"
   ]
  },
  {
   "cell_type": "code",
   "execution_count": 1694,
   "metadata": {},
   "outputs": [],
   "source": [
    "# X_u: bin centers \n",
    "# f_u : value of the estimated PDF\n",
    "\n",
    "X_u, f_u = pdf(X_uniform, N) "
   ]
  },
  {
   "cell_type": "code",
   "execution_count": 1695,
   "metadata": {},
   "outputs": [],
   "source": [
    "X_n, f_n = pdf(X_normal, N)"
   ]
  },
  {
   "cell_type": "code",
   "execution_count": 1696,
   "metadata": {
    "scrolled": true
   },
   "outputs": [
    {
     "data": {
      "text/plain": [
       "(<Figure size 432x288 with 1 Axes>,\n",
       " <AxesSubplot:xlabel='$x$', ylabel='$f_X(x)$'>)"
      ]
     },
     "execution_count": 1696,
     "metadata": {},
     "output_type": "execute_result"
    },
    {
     "data": {
      "image/png": "[encoded data removed]",
      "text/plain": [
       "<Figure size 432x288 with 1 Axes>"
      ]
     },
     "metadata": {},
     "output_type": "display_data"
    }
   ],
   "source": [
    "plot_pdf(X_u, f_u)"
   ]
  },
  {
   "cell_type": "code",
   "execution_count": 1697,
   "metadata": {},
   "outputs": [
    {
     "data": {
      "text/plain": [
       "(<Figure size 432x288 with 1 Axes>,\n",
       " <AxesSubplot:xlabel='$x$', ylabel='$f_X(x)$'>)"
      ]
     },
     "execution_count": 1697,
     "metadata": {},
     "output_type": "execute_result"
    },
    {
     "data": {
      "image/png": "[encoded data removed]",
      "text/plain": [
       "<Figure size 432x288 with 1 Axes>"
      ]
     },
     "metadata": {},
     "output_type": "display_data"
    }
   ],
   "source": [
    "plot_pdf(X_n, f_n)"
   ]
  },
  {
   "cell_type": "markdown",
   "metadata": {},
   "source": [
    "## Experiment 5: Estimating the cumulative distribution function"
   ]
  },
  {
   "cell_type": "code",
   "execution_count": 1698,
   "metadata": {},
   "outputs": [],
   "source": [
    "M = 100000 #size of both arrays\n",
    "\n",
    "X_uniform =  np.random.uniform(0, 1, M)"
   ]
  },
  {
   "cell_type": "code",
   "execution_count": 1699,
   "metadata": {},
   "outputs": [],
   "source": [
    "X_normal = np.random.normal(0, 1, M)"
   ]
  },
  {
   "cell_type": "code",
   "execution_count": 1700,
   "metadata": {},
   "outputs": [],
   "source": [
    "# X_u:  the locations of the values of the estimated CDF\n",
    "# f_u : the values of the estimated CDF\n",
    "\n",
    "X_u, f_u = cdf(X_uniform) "
   ]
  },
  {
   "cell_type": "code",
   "execution_count": 1701,
   "metadata": {},
   "outputs": [],
   "source": [
    "X_n, f_n = cdf(X_normal)"
   ]
  },
  {
   "cell_type": "code",
   "execution_count": 1702,
   "metadata": {},
   "outputs": [
    {
     "data": {
      "text/plain": [
       "(<Figure size 432x288 with 1 Axes>,\n",
       " <AxesSubplot:xlabel='$x$', ylabel='$F_X(x)$'>)"
      ]
     },
     "execution_count": 1702,
     "metadata": {},
     "output_type": "execute_result"
    },
    {
     "data": {
      "image/png": "[encoded data removed]",
      "text/plain": [
       "<Figure size 432x288 with 1 Axes>"
      ]
     },
     "metadata": {},
     "output_type": "display_data"
    }
   ],
   "source": [
    "plot_cdf(X_u, f_u)"
   ]
  },
  {
   "cell_type": "code",
   "execution_count": 1703,
   "metadata": {},
   "outputs": [
    {
     "data": {
      "text/plain": [
       "(<Figure size 432x288 with 1 Axes>,\n",
       " <AxesSubplot:xlabel='$x$', ylabel='$F_X(x)$'>)"
      ]
     },
     "execution_count": 1703,
     "metadata": {},
     "output_type": "execute_result"
    },
    {
     "data": {
      "image/png": "[encoded data removed]",
      "text/plain": [
       "<Figure size 432x288 with 1 Axes>"
      ]
     },
     "metadata": {},
     "output_type": "display_data"
    }
   ],
   "source": [
    "plot_cdf(X_n, f_n)"
   ]
  },
  {
   "cell_type": "markdown",
   "metadata": {},
   "source": [
    "## Experiment 6: Addition of a constant value"
   ]
  },
  {
   "cell_type": "markdown",
   "metadata": {},
   "source": [
    "### Consider a random variable Y that is created by adding a constant value b to a known random variable X: \n",
    "### Y = X +b. Use the uniform random variable generated by uniform as the known random variable X.\n",
    "### Use the gen_b function to generate your individual value for the additive constant b in this lab. Please enter the value assigned to you below: \n"
   ]
  },
  {
   "cell_type": "code",
   "execution_count": 1704,
   "metadata": {},
   "outputs": [
    {
     "data": {
      "text/plain": [
       "2.5"
      ]
     },
     "execution_count": 1704,
     "metadata": {},
     "output_type": "execute_result"
    }
   ],
   "source": [
    "b = gen_b()\n",
    "b"
   ]
  },
  {
   "cell_type": "code",
   "execution_count": 1705,
   "metadata": {},
   "outputs": [
    {
     "data": {
      "text/plain": [
       "array([0.82467987, 0.56334345, 0.83670432, ..., 0.66426117, 0.03433078,\n",
       "       0.11538455])"
      ]
     },
     "execution_count": 1705,
     "metadata": {},
     "output_type": "execute_result"
    }
   ],
   "source": [
    "#set histogram bn size N = 100\n",
    "# set array size M = 100000\n",
    "\n",
    "X = uniform(0, 1, 100000)\n",
    "X"
   ]
  },
  {
   "cell_type": "code",
   "execution_count": 1706,
   "metadata": {},
   "outputs": [
    {
     "data": {
      "text/plain": [
       "array([3.32467987, 3.06334345, 3.33670432, ..., 3.16426117, 2.53433078,\n",
       "       2.61538455])"
      ]
     },
     "execution_count": 1706,
     "metadata": {},
     "output_type": "execute_result"
    }
   ],
   "source": [
    "Y = X + b\n",
    "Y"
   ]
  },
  {
   "cell_type": "code",
   "execution_count": 1707,
   "metadata": {},
   "outputs": [],
   "source": [
    "# Y_u: bin centers \n",
    "# f_u : value of the estimated PDF\n",
    "\n",
    "Y_u, f_u = pdf(Y, 100)"
   ]
  },
  {
   "cell_type": "code",
   "execution_count": 1708,
   "metadata": {},
   "outputs": [
    {
     "data": {
      "text/plain": [
       "(<Figure size 432x288 with 1 Axes>,\n",
       " <AxesSubplot:xlabel='$x$', ylabel='$f_X(x)$'>)"
      ]
     },
     "execution_count": 1708,
     "metadata": {},
     "output_type": "execute_result"
    },
    {
     "data": {
      "image/png": "[encoded data removed]",
      "text/plain": [
       "<Figure size 432x288 with 1 Axes>"
      ]
     },
     "metadata": {},
     "output_type": "display_data"
    }
   ],
   "source": [
    "plot_pdf(Y_u, f_u)"
   ]
  },
  {
   "cell_type": "markdown",
   "metadata": {},
   "source": [
    "### b) Next, investigate the effect of the addition of a constant on the corresponding moments.\n"
   ]
  },
  {
   "cell_type": "code",
   "execution_count": 1709,
   "metadata": {},
   "outputs": [],
   "source": [
    "# For random variable X, let m_x = mean, mm_x = mean square and v_x = variance\n",
    "\n",
    "m_x, mm_x, v_x = expected_values(X)"
   ]
  },
  {
   "cell_type": "code",
   "execution_count": 1710,
   "metadata": {},
   "outputs": [
    {
     "data": {
      "text/plain": [
       "0.4986853957323768"
      ]
     },
     "execution_count": 1710,
     "metadata": {},
     "output_type": "execute_result"
    }
   ],
   "source": [
    "m_x"
   ]
  },
  {
   "cell_type": "code",
   "execution_count": 1711,
   "metadata": {},
   "outputs": [
    {
     "data": {
      "text/plain": [
       "0.33256633697713456"
      ]
     },
     "execution_count": 1711,
     "metadata": {},
     "output_type": "execute_result"
    }
   ],
   "source": [
    "mm_x"
   ]
  },
  {
   "cell_type": "code",
   "execution_count": 1712,
   "metadata": {},
   "outputs": [
    {
     "data": {
      "text/plain": [
       "0.08388005186089581"
      ]
     },
     "execution_count": 1712,
     "metadata": {},
     "output_type": "execute_result"
    }
   ],
   "source": [
    "v_x"
   ]
  },
  {
   "cell_type": "code",
   "execution_count": 1713,
   "metadata": {},
   "outputs": [],
   "source": [
    "# For random variable Y, let m_y = mean, mm_y = mean square and v_y = variance\n",
    "\n",
    "m_y, mm_y, v_y = expected_values(Y)"
   ]
  },
  {
   "cell_type": "code",
   "execution_count": 1714,
   "metadata": {},
   "outputs": [
    {
     "data": {
      "text/plain": [
       "2.9986853957323767"
      ]
     },
     "execution_count": 1714,
     "metadata": {},
     "output_type": "execute_result"
    }
   ],
   "source": [
    "m_y"
   ]
  },
  {
   "cell_type": "code",
   "execution_count": 1715,
   "metadata": {},
   "outputs": [
    {
     "data": {
      "text/plain": [
       "9.07599331563902"
      ]
     },
     "execution_count": 1715,
     "metadata": {},
     "output_type": "execute_result"
    }
   ],
   "source": [
    "mm_y"
   ]
  },
  {
   "cell_type": "code",
   "execution_count": 1716,
   "metadata": {},
   "outputs": [
    {
     "data": {
      "text/plain": [
       "0.08388005186089581"
      ]
     },
     "execution_count": 1716,
     "metadata": {},
     "output_type": "execute_result"
    }
   ],
   "source": [
    "v_y"
   ]
  },
  {
   "cell_type": "markdown",
   "metadata": {},
   "source": [
    "## Enter the estimates into the table below:"
   ]
  },
  {
   "cell_type": "code",
   "execution_count": 1717,
   "metadata": {},
   "outputs": [],
   "source": [
    "dict_addition = {\n",
    "    'Random Variable':['Mean', 'Variance', 'Mean square'],\n",
    "    'X':[m_x, v_x, mm_x],\n",
    "    'Y':[m_y, v_y, mm_y]\n",
    "}"
   ]
  },
  {
   "cell_type": "code",
   "execution_count": 1718,
   "metadata": {},
   "outputs": [
    {
     "data": {
      "text/html": [
       "<style  type=\"text/css\" >\n",
       "</style><table id=\"T_8bfe78b1_3913_11ec_95dd_c4d98744e9e0\" ><thead>    <tr>        <th class=\"col_heading level0 col0\" >Random Variable</th>        <th class=\"col_heading level0 col1\" >X</th>        <th class=\"col_heading level0 col2\" >Y</th>    </tr></thead><tbody>\n",
       "                <tr>\n",
       "                                <td id=\"T_8bfe78b1_3913_11ec_95dd_c4d98744e9e0row0_col0\" class=\"data row0 col0\" >Mean</td>\n",
       "                        <td id=\"T_8bfe78b1_3913_11ec_95dd_c4d98744e9e0row0_col1\" class=\"data row0 col1\" >0.498685</td>\n",
       "                        <td id=\"T_8bfe78b1_3913_11ec_95dd_c4d98744e9e0row0_col2\" class=\"data row0 col2\" >2.998685</td>\n",
       "            </tr>\n",
       "            <tr>\n",
       "                                <td id=\"T_8bfe78b1_3913_11ec_95dd_c4d98744e9e0row1_col0\" class=\"data row1 col0\" >Variance</td>\n",
       "                        <td id=\"T_8bfe78b1_3913_11ec_95dd_c4d98744e9e0row1_col1\" class=\"data row1 col1\" >0.083880</td>\n",
       "                        <td id=\"T_8bfe78b1_3913_11ec_95dd_c4d98744e9e0row1_col2\" class=\"data row1 col2\" >0.083880</td>\n",
       "            </tr>\n",
       "            <tr>\n",
       "                                <td id=\"T_8bfe78b1_3913_11ec_95dd_c4d98744e9e0row2_col0\" class=\"data row2 col0\" >Mean square</td>\n",
       "                        <td id=\"T_8bfe78b1_3913_11ec_95dd_c4d98744e9e0row2_col1\" class=\"data row2 col1\" >0.332566</td>\n",
       "                        <td id=\"T_8bfe78b1_3913_11ec_95dd_c4d98744e9e0row2_col2\" class=\"data row2 col2\" >9.075993</td>\n",
       "            </tr>\n",
       "    </tbody></table>"
      ],
      "text/plain": [
       "<pandas.io.formats.style.Styler at 0x19b198a56a0>"
      ]
     },
     "execution_count": 1718,
     "metadata": {},
     "output_type": "execute_result"
    }
   ],
   "source": [
    "table_addition = DataFrame(dict_addition)\n",
    "table_addition.style.hide_index()"
   ]
  },
  {
   "cell_type": "markdown",
   "metadata": {},
   "source": [
    "### What is the effect of adding a constant to a random variable on the corresponding mean and variance?"
   ]
  },
  {
   "cell_type": "code",
   "execution_count": 1719,
   "metadata": {},
   "outputs": [
    {
     "data": {
      "text/plain": [
       "2.5"
      ]
     },
     "execution_count": 1719,
     "metadata": {},
     "output_type": "execute_result"
    }
   ],
   "source": [
    "# Get the difference between the mean of Y and the mean of X\n",
    "\n",
    "k = m_y - m_x \n",
    "k"
   ]
  },
  {
   "cell_type": "markdown",
   "metadata": {},
   "source": [
    "Observe that k = b = 2.5 . This implies that adding a constant 'b' to a random variable X will shift the mean of X by 'b'\n",
    "\n",
    "And from the table above (table_addition) the VARIANCE for X and Y remains the same hence, it is clear that adding a constant to a random variable has no effect on the and variance."
   ]
  },
  {
   "cell_type": "markdown",
   "metadata": {},
   "source": [
    "## Experiment 7: Multiplication with a constant factor"
   ]
  },
  {
   "cell_type": "markdown",
   "metadata": {},
   "source": [
    "### Consider two random variables Y and Z which are generated by multiplying a known random variable with a constant factor a and its inverse 1/a respectively: Y = a ·X, Z = 1/a ·X = X/a. Use the gen_a function to generate your individual value for the additive constant 'a' in this lab. Please enter the value assigned to you below:"
   ]
  },
  {
   "cell_type": "code",
   "execution_count": 1720,
   "metadata": {},
   "outputs": [
    {
     "data": {
      "text/plain": [
       "2.0"
      ]
     },
     "execution_count": 1720,
     "metadata": {},
     "output_type": "execute_result"
    }
   ],
   "source": [
    "a = gen_a()\n",
    "a"
   ]
  },
  {
   "cell_type": "markdown",
   "metadata": {},
   "source": [
    "### a) First, investigate the effect on the PDF."
   ]
  },
  {
   "cell_type": "code",
   "execution_count": 1721,
   "metadata": {},
   "outputs": [
    {
     "data": {
      "text/plain": [
       "array([ 0.03082781,  0.89482304,  0.50007016, ...,  0.84262043,\n",
       "       -1.15440136,  1.84421807])"
      ]
     },
     "execution_count": 1721,
     "metadata": {},
     "output_type": "execute_result"
    }
   ],
   "source": [
    "# array of size M = 100000\n",
    "\n",
    "X = normal(0, 1, 100000)\n",
    "X"
   ]
  },
  {
   "cell_type": "code",
   "execution_count": 1722,
   "metadata": {},
   "outputs": [
    {
     "data": {
      "text/plain": [
       "array([ 0.06165561,  1.78964608,  1.00014031, ...,  1.68524087,\n",
       "       -2.30880271,  3.68843614])"
      ]
     },
     "execution_count": 1722,
     "metadata": {},
     "output_type": "execute_result"
    }
   ],
   "source": [
    "Y = a * X\n",
    "Y"
   ]
  },
  {
   "cell_type": "code",
   "execution_count": 1723,
   "metadata": {},
   "outputs": [
    {
     "data": {
      "text/plain": [
       "array([ 0.0154139 ,  0.44741152,  0.25003508, ...,  0.42131022,\n",
       "       -0.57720068,  0.92210904])"
      ]
     },
     "execution_count": 1723,
     "metadata": {},
     "output_type": "execute_result"
    }
   ],
   "source": [
    "Z = X/a\n",
    "Z"
   ]
  },
  {
   "cell_type": "code",
   "execution_count": 1724,
   "metadata": {},
   "outputs": [],
   "source": [
    "x, fx = pdf(X, 100)"
   ]
  },
  {
   "cell_type": "code",
   "execution_count": 1725,
   "metadata": {},
   "outputs": [],
   "source": [
    "y, fy = pdf(Y, 100)"
   ]
  },
  {
   "cell_type": "code",
   "execution_count": 1726,
   "metadata": {},
   "outputs": [],
   "source": [
    "z, fz = pdf(Z, 100)"
   ]
  },
  {
   "cell_type": "code",
   "execution_count": 1727,
   "metadata": {},
   "outputs": [
    {
     "data": {
      "text/plain": [
       "(-9.631701484801063,\n",
       " 9.247298850939274,\n",
       " -0.04000902519028343,\n",
       " 0.840189528995952)"
      ]
     },
     "execution_count": 1727,
     "metadata": {},
     "output_type": "execute_result"
    },
    {
     "data": {
      "image/png": "[encoded data removed]",
      "text/plain": [
       "<Figure size 432x288 with 1 Axes>"
      ]
     },
     "metadata": {},
     "output_type": "display_data"
    }
   ],
   "source": [
    "fig, ax = plot_pdf(x, fx)\n",
    "plot_pdf(y, fy, figure=fig, axes=ax, color=\"r\")\n",
    "plot_pdf(z, fz, figure=fig, axes=ax, color=\"g\")\n",
    "ax.axis('auto')\n",
    "\n"
   ]
  },
  {
   "cell_type": "markdown",
   "metadata": {},
   "source": [
    "### What is the effect of multiplying a random variable with a constant factor on the corresponding PDF?"
   ]
  },
  {
   "cell_type": "markdown",
   "metadata": {},
   "source": [
    "As seen in the above figure, by compairing the PDF for random variable X to that of Y and Z, we can conclude that:"
   ]
  },
  {
   "cell_type": "markdown",
   "metadata": {},
   "source": [
    "### a > 1: \n",
    "makes the width of the PDF to increase while the height is reduced as seen in random variable Y (color = red)"
   ]
  },
  {
   "cell_type": "markdown",
   "metadata": {},
   "source": [
    "### a < 1: \n",
    "reduces/shrinks the width while the height is increased as seen in the PDF of random variable Z (color = green)"
   ]
  },
  {
   "cell_type": "markdown",
   "metadata": {},
   "source": [
    "### b) Next, investigate the effect on the corresponding moments."
   ]
  },
  {
   "cell_type": "code",
   "execution_count": 1728,
   "metadata": {},
   "outputs": [],
   "source": [
    "M = 100000\n",
    "X = uniform(1, 0, M)"
   ]
  },
  {
   "cell_type": "code",
   "execution_count": 1729,
   "metadata": {},
   "outputs": [],
   "source": [
    "Y = a * X"
   ]
  },
  {
   "cell_type": "code",
   "execution_count": 1730,
   "metadata": {},
   "outputs": [],
   "source": [
    "# For random variable X, let m_x = mean, mm_x = mean square and v_x = variance\n",
    "\n",
    "m_x, mm_x, v_x = expected_values(X)"
   ]
  },
  {
   "cell_type": "code",
   "execution_count": 1731,
   "metadata": {},
   "outputs": [
    {
     "data": {
      "text/plain": [
       "0.5006251688405791"
      ]
     },
     "execution_count": 1731,
     "metadata": {},
     "output_type": "execute_result"
    }
   ],
   "source": [
    "m_x"
   ]
  },
  {
   "cell_type": "code",
   "execution_count": 1732,
   "metadata": {},
   "outputs": [
    {
     "data": {
      "text/plain": [
       "0.33400137777826955"
      ]
     },
     "execution_count": 1732,
     "metadata": {},
     "output_type": "execute_result"
    }
   ],
   "source": [
    "mm_x"
   ]
  },
  {
   "cell_type": "code",
   "execution_count": 1733,
   "metadata": {},
   "outputs": [
    {
     "data": {
      "text/plain": [
       "0.08337665186813"
      ]
     },
     "execution_count": 1733,
     "metadata": {},
     "output_type": "execute_result"
    }
   ],
   "source": [
    "v_x"
   ]
  },
  {
   "cell_type": "code",
   "execution_count": 1734,
   "metadata": {},
   "outputs": [],
   "source": [
    "# For random variable Y, let m_y = mean, mm_y = mean square and v_y = variance\n",
    "\n",
    "m_y, mm_y, v_y = expected_values(Y)"
   ]
  },
  {
   "cell_type": "code",
   "execution_count": 1735,
   "metadata": {},
   "outputs": [
    {
     "data": {
      "text/plain": [
       "1.0012503376811581"
      ]
     },
     "execution_count": 1735,
     "metadata": {},
     "output_type": "execute_result"
    }
   ],
   "source": [
    "m_y"
   ]
  },
  {
   "cell_type": "code",
   "execution_count": 1736,
   "metadata": {},
   "outputs": [
    {
     "data": {
      "text/plain": [
       "1.3360055111130782"
      ]
     },
     "execution_count": 1736,
     "metadata": {},
     "output_type": "execute_result"
    }
   ],
   "source": [
    "mm_y"
   ]
  },
  {
   "cell_type": "code",
   "execution_count": 1737,
   "metadata": {},
   "outputs": [
    {
     "data": {
      "text/plain": [
       "0.33350660747252"
      ]
     },
     "execution_count": 1737,
     "metadata": {},
     "output_type": "execute_result"
    }
   ],
   "source": [
    "v_y"
   ]
  },
  {
   "cell_type": "markdown",
   "metadata": {},
   "source": [
    "## Enter the estimates into the table below:\n"
   ]
  },
  {
   "cell_type": "code",
   "execution_count": 1738,
   "metadata": {},
   "outputs": [],
   "source": [
    "dict_multiplication = {\n",
    "    'Random Variable':['Mean', 'Variance', 'Mean square'],\n",
    "    'X':[m_x, v_x, mm_x],\n",
    "    'Y':[m_y, v_y, mm_y]\n",
    "}"
   ]
  },
  {
   "cell_type": "code",
   "execution_count": 1739,
   "metadata": {},
   "outputs": [
    {
     "data": {
      "text/html": [
       "<style  type=\"text/css\" >\n",
       "</style><table id=\"T_94a2691f_3913_11ec_94fc_c4d98744e9e0\" ><thead>    <tr>        <th class=\"col_heading level0 col0\" >Random Variable</th>        <th class=\"col_heading level0 col1\" >X</th>        <th class=\"col_heading level0 col2\" >Y</th>    </tr></thead><tbody>\n",
       "                <tr>\n",
       "                                <td id=\"T_94a2691f_3913_11ec_94fc_c4d98744e9e0row0_col0\" class=\"data row0 col0\" >Mean</td>\n",
       "                        <td id=\"T_94a2691f_3913_11ec_94fc_c4d98744e9e0row0_col1\" class=\"data row0 col1\" >0.500625</td>\n",
       "                        <td id=\"T_94a2691f_3913_11ec_94fc_c4d98744e9e0row0_col2\" class=\"data row0 col2\" >1.001250</td>\n",
       "            </tr>\n",
       "            <tr>\n",
       "                                <td id=\"T_94a2691f_3913_11ec_94fc_c4d98744e9e0row1_col0\" class=\"data row1 col0\" >Variance</td>\n",
       "                        <td id=\"T_94a2691f_3913_11ec_94fc_c4d98744e9e0row1_col1\" class=\"data row1 col1\" >0.083377</td>\n",
       "                        <td id=\"T_94a2691f_3913_11ec_94fc_c4d98744e9e0row1_col2\" class=\"data row1 col2\" >0.333507</td>\n",
       "            </tr>\n",
       "            <tr>\n",
       "                                <td id=\"T_94a2691f_3913_11ec_94fc_c4d98744e9e0row2_col0\" class=\"data row2 col0\" >Mean square</td>\n",
       "                        <td id=\"T_94a2691f_3913_11ec_94fc_c4d98744e9e0row2_col1\" class=\"data row2 col1\" >0.334001</td>\n",
       "                        <td id=\"T_94a2691f_3913_11ec_94fc_c4d98744e9e0row2_col2\" class=\"data row2 col2\" >1.336006</td>\n",
       "            </tr>\n",
       "    </tbody></table>"
      ],
      "text/plain": [
       "<pandas.io.formats.style.Styler at 0x19b0526a760>"
      ]
     },
     "execution_count": 1739,
     "metadata": {},
     "output_type": "execute_result"
    }
   ],
   "source": [
    "table_multiplication = DataFrame(dict_multiplication)\n",
    "table_multiplication.style.hide_index()"
   ]
  },
  {
   "cell_type": "markdown",
   "metadata": {},
   "source": [
    "### What is the effect of multiplying a random variable with a constant factor on the corresponding moments?"
   ]
  },
  {
   "cell_type": "markdown",
   "metadata": {},
   "source": [
    "### Mean: "
   ]
  },
  {
   "cell_type": "code",
   "execution_count": 1740,
   "metadata": {},
   "outputs": [
    {
     "data": {
      "text/plain": [
       "2.0"
      ]
     },
     "execution_count": 1740,
     "metadata": {},
     "output_type": "execute_result"
    }
   ],
   "source": [
    "# Lets compare the mean values of random variables X and Y\n",
    "\n",
    "K1 = m_y/m_x\n",
    "K1"
   ]
  },
  {
   "cell_type": "markdown",
   "metadata": {},
   "source": [
    "Observe that K1 = a = 2.0 .This implies that multiplying a random variable with a constant factor 'a' will cause the MEAN of the random variable to be scaled by the constant factor 'a'"
   ]
  },
  {
   "cell_type": "markdown",
   "metadata": {},
   "source": [
    "## Variance:"
   ]
  },
  {
   "cell_type": "code",
   "execution_count": 1741,
   "metadata": {},
   "outputs": [
    {
     "data": {
      "text/plain": [
       "4.0"
      ]
     },
     "execution_count": 1741,
     "metadata": {},
     "output_type": "execute_result"
    }
   ],
   "source": [
    "# Lets compare the VARIANCE of random variable X and Y\n",
    "\n",
    "K2 = v_y/v_x\n",
    "K2"
   ]
  },
  {
   "cell_type": "markdown",
   "metadata": {},
   "source": [
    "We can say that K2 = a² = 2² = 4 . Hence multiplying a random variable with a constant factor 'a' will cause \n",
    "the VARIANCE of the random variable to be scaled by the constant factor raised to the power 2 "
   ]
  },
  {
   "cell_type": "markdown",
   "metadata": {},
   "source": [
    "### Mean square"
   ]
  },
  {
   "cell_type": "code",
   "execution_count": 1742,
   "metadata": {},
   "outputs": [
    {
     "data": {
      "text/plain": [
       "4.0"
      ]
     },
     "execution_count": 1742,
     "metadata": {},
     "output_type": "execute_result"
    }
   ],
   "source": [
    "# Lets compare the mean square of X and Y\n",
    "\n",
    "K3 = mm_y/mm_x\n",
    "K3"
   ]
  },
  {
   "cell_type": "markdown",
   "metadata": {},
   "source": [
    "Similarly, We can say that K3 = a² = 2² = 4 . Hence multiplying a random variable with a constant factor 'a' will cause \n",
    "the MEAN SQUARE of the random variable to be scaled by the constant factor raised to the power 2"
   ]
  },
  {
   "cell_type": "code",
   "execution_count": null,
   "metadata": {},
   "outputs": [],
   "source": []
  },
  {
   "cell_type": "code",
   "execution_count": null,
   "metadata": {},
   "outputs": [],
   "source": []
  },
  {
   "cell_type": "code",
   "execution_count": null,
   "metadata": {},
   "outputs": [],
   "source": []
  },
  {
   "cell_type": "code",
   "execution_count": null,
   "metadata": {},
   "outputs": [],
   "source": []
  },
  {
   "cell_type": "code",
   "execution_count": null,
   "metadata": {},
   "outputs": [],
   "source": []
  },
  {
   "cell_type": "markdown",
   "metadata": {},
   "source": [
    "### When you run the command in the next code cell, the lab/homework will be finished!\n",
    "### Execute the next code cell only if you really want to finish this lab/homework!\n",
    "### This code cell should be your last code cell!\n"
   ]
  },
  {
   "cell_type": "code",
   "execution_count": 1743,
   "metadata": {},
   "outputs": [
    {
     "name": "stdout",
     "output_type": "stream",
     "text": [
      "You are about to finish Lab 1: Probability and Random Variables !\n",
      "This will finish output to the log file, such that you should not enter any command after finishing!\n",
      "\n",
      "Thus, proceed only if you are sure that you are really finished!!\n",
      "Do you really want to finish? yes/no: yes\n",
      "Finishing Lab 1: Probability and Random Variables for matriculation number 11144732\n",
      "Lab 1: Probability and Random Variables  finished at: 2021-10-30 02:03:00.273157\n",
      "Finished after: 1 day, 15:48:52.253700\n",
      "Info:  2562463468\n",
      "Congratulations! You have just finished Lab 1: Probability and Random Variables !\n",
      " \n",
      "In your current working directory you will find the following Log file:\n",
      " \n",
      "Log file:  dsp_lab1_11144732.log\n",
      " \n",
      "Please save this iPython notebook one more time!\n",
      " \n",
      "Please upload both files to the ILIAS server:\n",
      "If this is a homework, use the 'Homework' folder of the ILIAS DSP internet pages!\n",
      "If this is a lab, use the 'Lab' folder of the ILIAS DSP internet pages!\n",
      " \n",
      "In either case you will be notified on the status of your submission via email.\n",
      "\n",
      "So stay tuned!\n",
      "Harald Elders-Boll\n"
     ]
    }
   ],
   "source": [
    "# finish homework\n",
    "dsp_lab1_finish()"
   ]
  },
  {
   "cell_type": "markdown",
   "metadata": {},
   "source": [
    "### Please save this notebook one more time!"
   ]
  }
 ],
 "metadata": {
  "day": "23",
  "fname": "dsp_lab1_11144732.ipynb",
  "fpath": "C:\\Users\\HP-ZBook\\OneDrive\\OneDrive - th-koeln.de\\Documents\\TH KÖLN AND HS BONN\\WINTER 2021-2022\\DSP\\DSP TH KOLN\\FOLDER PYTHON (LAB and HOMEWORK)\\DSP",
  "hour": "22",
  "kernelspec": {
   "display_name": "Python 3",
   "language": "python",
   "name": "python3"
  },
  "language_info": {
   "codemirror_mode": {
    "name": "ipython",
    "version": 3
   },
   "file_extension": ".py",
   "mimetype": "text/x-python",
   "name": "python",
   "nbconvert_exporter": "python",
   "pygments_lexer": "ipython3",
   "version": "3.8.5"
  },
  "microsecond": "256246",
  "minute": "09",
  "month": "10",
  "rn": 11144732,
  "second": "35",
  "year": "2021"
 },
 "nbformat": 4,
 "nbformat_minor": 4
}
